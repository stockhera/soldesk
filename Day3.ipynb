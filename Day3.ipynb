{
 "cells": [
  {
   "cell_type": "code",
   "execution_count": 17,
   "id": "630b04ca-08b9-4b38-827b-a02064fb9431",
   "metadata": {},
   "outputs": [
    {
     "name": "stdout",
     "output_type": "stream",
     "text": [
      "True\n",
      "합격\n",
      "합격\n",
      "합격\n",
      "전과목이 모두 평균 이상입니다\n",
      "합격\n",
      "프로그램 종료\n"
     ]
    }
   ],
   "source": [
    "#영어, 수학, 국어의 점수 40점 이상이고 평균이 60이상이면 합격(true)\n",
    "eng = 40;\n",
    "kor = 60;\n",
    "math = 80\n",
    "result = eng >= 40 and kor >= 40 and math >= 40 and (eng+kor+math) / 3 >= 60\n",
    "print(result)\n",
    "\n",
    "# 조건문 : python 언어에서 조건문은 if문만 존재\n",
    "# 다른 언어에서 swith case문은 python의 dictionary와 비슷하기 때문에 dictionary를 사용하면 됨\n",
    "# 단일 if문 : if문에 있는 조건식의 결과가 True일 때만 실행\n",
    "if result: # True\n",
    "    print(\"합격\")\n",
    "\n",
    "if eng >= 40 and kor >= 40 and math >= 40 and (eng+kor+math) / 3 >= 60: # True\n",
    "    print(\"합격\")\n",
    "\n",
    "# 단일 if문에서는 불합격이 출력이 되지 않음\n",
    "# if ~ else문\n",
    "if result: # True 일 때 실행\n",
    "    print(\"합격\")\n",
    "else: # False 일 때 실행\n",
    "    print(\"불합격\")\n",
    "\n",
    "# 2개 이상의 명령문이 있을 경우, \":\"과 \"들여쓰기\"\n",
    "# 들여쓰기 시에 tab키와 space 공백문자 사용할 수 있음 (주의해야할 점!!!)\n",
    "# 그런데 전체 document 내에서 tab과 space 중 한 개로 사용해야 한다 (tab과 space 동시 사용 시에 오류 발생)\n",
    "# 브라우저에서는 tab을 인식하지 못하고 모두 공백문자로 인식\n",
    "## 다른 언어는 중괄호 처리\n",
    "if result:\n",
    "    print(\"전과목이 모두 평균 이상입니다\")\n",
    "    print(\"합격\")\n",
    "else : \n",
    "    print(\"전과목 중 평균 안에 있지 않은 과목이 있습니다 \")\n",
    "    print(\"불합격\")\n",
    "\n",
    "## 위 조건문과 아예 독립된 결과값 -- 들여쓰기를 해야 같은 조건문으로 들어가게 됨\n",
    "print(\"프로그램 종료\") "
   ]
  },
  {
   "cell_type": "code",
   "execution_count": 9,
   "id": "c6a7238a-4da7-4c93-a5d1-b253ad6bbd02",
   "metadata": {
    "collapsed": true,
    "jupyter": {
     "outputs_hidden": true
    },
    "scrolled": true
   },
   "outputs": [
    {
     "ename": "SyntaxError",
     "evalue": "invalid syntax (251521413.py, line 2)",
     "output_type": "error",
     "traceback": [
      "\u001b[1;36m  Cell \u001b[1;32mIn[9], line 2\u001b[1;36m\u001b[0m\n\u001b[1;33m    swith (city){\u001b[0m\n\u001b[1;37m                ^\u001b[0m\n\u001b[1;31mSyntaxError\u001b[0m\u001b[1;31m:\u001b[0m invalid syntax\n"
     ]
    }
   ],
   "source": [
    "#swith case문이 dictionary와 비슷한 이유\n",
    "city = \"02\"\n",
    "swith (city){\n",
    "    case \"02\" : print(\"서울\");break;\n",
    "    case \"031\" : print(\"경기도\");break;}\n",
    "}\n",
    "#딕셔너리로 바꾸기\n",
    "dic = {\"02\" : \"서울\", \"031\" = \"경기도\"}\n",
    "print(dic[city])"
   ]
  },
  {
   "cell_type": "code",
   "execution_count": 19,
   "id": "cb5c877f-0ac3-4c79-a4d5-d466b1c6dc8e",
   "metadata": {},
   "outputs": [
    {
     "ename": "IndentationError",
     "evalue": "unexpected indent (2826891177.py, line 3)",
     "output_type": "error",
     "traceback": [
      "\u001b[1;36m  Cell \u001b[1;32mIn[19], line 3\u001b[1;36m\u001b[0m\n\u001b[1;33m    print(\"실행될까요\") #error 발생 - 공백이 다르기 때문\u001b[0m\n\u001b[1;37m    ^\u001b[0m\n\u001b[1;31mIndentationError\u001b[0m\u001b[1;31m:\u001b[0m unexpected indent\n"
     ]
    }
   ],
   "source": [
    "if result:\n",
    "    print(\"합격:\")\n",
    "        print(\"실행될까요\") #error 발생 - 공백이 다르기 때문 "
   ]
  },
  {
   "cell_type": "code",
   "execution_count": 31,
   "id": "b761ccea-bb2c-42c2-9c5a-f9f516aa696e",
   "metadata": {},
   "outputs": [
    {
     "name": "stdout",
     "output_type": "stream",
     "text": [
      "True\n",
      "False\n",
      "True\n",
      "4를 포함하고 있습니다\n",
      "True\n",
      "7이 포함되지 있지 않다\n",
      "True\n",
      "True\n",
      "True\n",
      "True\n",
      "True\n",
      "True\n",
      "True\n",
      "True\n"
     ]
    }
   ],
   "source": [
    "# in 연산자\n",
    "l = [1,2,3,4,5]\n",
    "\n",
    "#내가 원하는 값이 l에 있는가?\n",
    "result = 4 in l \n",
    "print(result)\n",
    "\n",
    "result = 7 in l\n",
    "print(result)\n",
    "\n",
    "result = 4 in [1,2,3,4,5]\n",
    "print(result)\n",
    "\n",
    "if result:\n",
    "    print(\"4를 포함하고 있습니다\")\n",
    "else:\n",
    "    print(\"4를 포함하고 있지 않습니다\")\n",
    "\n",
    "# result = 7 in [1,2,3,4,5]\n",
    "# result가 True 값을 갖게 하려면? \n",
    "result = 7 not in [1,2,3,4,5]\n",
    "print(result)\n",
    "\n",
    "if result: \n",
    "    print(\"7이 포함되지 있지 않다\")\n",
    "else:\n",
    "    print(\"7이 포함되어 있다\")\n",
    "\n",
    "print( \"y\" in \"python\")\n",
    "print( \"th\" in \"python\")\n",
    "print( \"jerry\" not in \"python\")\n",
    "print( 1 in (1,2,3,4,5)) #리스트는 수정, 삭제, 추가가 가능하지만 튜플은 수정, 삭제, 추가 불가능 // 튜플은 상수와 같다\n",
    "print( 7 not in (1,2,3,4,5))\n",
    "print( \"a\" in {\"a\":\"jerry\", \"b\": \"Tom\"})\n",
    "\n",
    "dic = {1 : \"T\", 2 : \"O\", 3: \"M\" }\n",
    "print( 1 in dic)\n",
    "print ( \"c\" not in {\"a\":\"jerry\", \"b\": \"Tom\"})"
   ]
  },
  {
   "cell_type": "code",
   "execution_count": 33,
   "id": "f86a588b-3e06-4680-a2fa-eb500dc4292d",
   "metadata": {},
   "outputs": [
    {
     "name": "stdout",
     "output_type": "stream",
     "text": [
      "지폐가 있습니다\n"
     ]
    }
   ],
   "source": [
    "pocket = ['paper', 'cellphone', 'money'] # 문자열 리스트\n",
    "if 'paper' in pocket:\n",
    "    print(\"지폐가 있습니다\")\n",
    "else:\n",
    "    print(\"지폐가 없습니다\")\n"
   ]
  },
  {
   "cell_type": "code",
   "execution_count": 36,
   "id": "0ceb0c33-9bfc-4fdd-9621-f581944ef5d0",
   "metadata": {},
   "outputs": [
    {
     "name": "stdout",
     "output_type": "stream",
     "text": [
      "C\n"
     ]
    }
   ],
   "source": [
    "# in , not in\n",
    "# 조건문이 하나\n",
    "# 단일 if, if ~ else\n",
    "# 조건문이 여러개인 경우 - if, ellif, else\n",
    "# 학점 90점 이상이면 \"A\" , 80점 이상이면 \"B\", 70점 이상이면 \"C\", 60점 이상이면 \"D\", 모두의 경우가 아니면 \"F\"\n",
    "score = 78\n",
    "if score >= 90: # 90이상\n",
    "    print(\"A\")\n",
    "elif score >=80: # 80~89\n",
    "    print(\"B\")\n",
    "elif score >=70: # 70~79\n",
    "    print(\"C\")\n",
    "elif score >=60: # 60~69\n",
    "    print(\"D\")\n",
    "else: # 0~59\n",
    "    print(\"F\")"
   ]
  },
  {
   "cell_type": "code",
   "execution_count": 39,
   "id": "1740ac52-d460-4988-bb97-e3e81a0d47cf",
   "metadata": {},
   "outputs": [
    {
     "name": "stdout",
     "output_type": "stream",
     "text": [
      "C\n"
     ]
    }
   ],
   "source": [
    "#다중(중첩) if 문 ====> if ~ elif ~ else\n",
    "if score >=90:\n",
    "    print(\"A\")\n",
    "else: # ~ 89\n",
    "    if score >=80:\n",
    "        print(\"B\")\n",
    "    else: # ~ 79\n",
    "        if score >=70:\n",
    "            print(\"C\")\n",
    "        else: # ~ 69\n",
    "            if score >=60:\n",
    "                print(\"D\")\n",
    "            else: # ~50\n",
    "                print(\"F\")\n",
    "\n",
    "#문제점: 파이썬 들여쓰기 떄문에 문제가 발생"
   ]
  },
  {
   "cell_type": "code",
   "execution_count": 44,
   "id": "bb6ad932-db88-4ce6-8775-2e85e61639d6",
   "metadata": {},
   "outputs": [
    {
     "name": "stdout",
     "output_type": "stream",
     "text": [
      "C+\n"
     ]
    }
   ],
   "source": [
    "# 95이상 : A+ , 90 : A\n",
    "score = 78\n",
    "if score >= 90: # 90이상\n",
    "    if score >= 95: \n",
    "        print (\"A+\")\n",
    "    else:\n",
    "        print(\"A\")\n",
    "elif score >=80: # 80~89\n",
    "    if score >=85:\n",
    "        print(\"B+\")\n",
    "    else:\n",
    "        print(\"B\")\n",
    "elif score >=70: # 70~79\n",
    "    if score >= 75:\n",
    "        print(\"C+\")\n",
    "    else:\n",
    "        print(\"C\")\n",
    "elif score >=60: # 60~69\n",
    "    if score >= 65:\n",
    "        print(\"D+\")\n",
    "    else:\n",
    "        print(\"D\")\n",
    "else: # 0~59\n",
    "    print(\"F\")"
   ]
  },
  {
   "cell_type": "code",
   "execution_count": 48,
   "id": "0f442fc7-2d2c-4d14-b133-7e3f8f731613",
   "metadata": {},
   "outputs": [
    {
     "name": "stdout",
     "output_type": "stream",
     "text": [
      "success\n",
      "success\n"
     ]
    }
   ],
   "source": [
    "# 파이썬에서 if 문을 사용하는 방식\n",
    "'''\n",
    "score가 60이상이면 message 변수에 success를, 아니면 message에 failure을 저장한 후 출력\n",
    "'''\n",
    "#일반\n",
    "score = 78\n",
    "if score >=60:\n",
    "    message = \"success\" #변수에 값을 넣는 방법\n",
    "else :\n",
    "    message = \"failure\"\n",
    "print(message)\n",
    "\n",
    "#파이썬 (참인 값을 먼저 쓰고, 그외 조건에 대해 작성한다.)\n",
    "message = \"success\" if score >=60 else \"failure\"\n",
    "print(message)"
   ]
  },
  {
   "cell_type": "code",
   "execution_count": 50,
   "id": "c2704ea6-0822-4e4e-99ea-58ffb86e1f72",
   "metadata": {},
   "outputs": [
    {
     "name": "stdout",
     "output_type": "stream",
     "text": [
      "C\n"
     ]
    }
   ],
   "source": [
    "if score >=90:\n",
    "    message = \"A\"\n",
    "else: # ~ 89\n",
    "    if score >=80:\n",
    "        message = \"B\"\n",
    "    else: # ~ 79\n",
    "        if score >=70:\n",
    "            message = \"C\"\n",
    "        else: # ~ 69\n",
    "            if score >=60:\n",
    "                message = \"D\"\n",
    "            else: # ~50\n",
    "                message = \"F\"\n",
    "print(message)\n",
    "\n",
    "#파이썬\n",
    "message = \"A\" if score >=90 else(\n",
    "          \"B\" if score >=80 else(\n",
    "          \"C\" if score >=70 else(\n",
    "          \"D\" if score >=60 else(\n",
    "          \"F\" if score >=50 else()  \n",
    "              ))))"
   ]
  },
  {
   "cell_type": "code",
   "execution_count": 52,
   "id": "e22d2689-80a1-4849-863f-9981650f5d52",
   "metadata": {},
   "outputs": [
    {
     "name": "stdout",
     "output_type": "stream",
     "text": [
      "-10\n",
      "-10\n"
     ]
    }
   ],
   "source": [
    "#if문을 이용한 사칙연산\n",
    "a = 10; b = 20; opt = \"sub\"\n",
    "if opt == \"add\":\n",
    "    message = a + b\n",
    "elif opt ==\"sub\":\n",
    "    message = a- b\n",
    "elif opt == \"mul\":\n",
    "    message = a * b\n",
    "else:\n",
    "    message = a / b\n",
    "print(message)\n",
    "\n",
    "#파이썬 ***질문하기\n",
    "message = a + b if opt == \"add\" else(\n",
    "          a - b if opt == \"sub\" else(\n",
    "          a * b if opt == \"mul\" else\n",
    "          a / b\n",
    "))\n",
    "print(message)"
   ]
  },
  {
   "cell_type": "code",
   "execution_count": 53,
   "id": "65246026-a114-491b-89da-886f7d5c3d48",
   "metadata": {},
   "outputs": [],
   "source": [
    "# 조건문 : if, if ~ else, if ~ elif ~ else, 다중(중첩) if, python 조건문\n",
    "# 조건식 연산자 : in , not in "
   ]
  },
  {
   "cell_type": "code",
   "execution_count": 69,
   "id": "60d5fd01-4dcb-4cdb-afd4-be58e9f433bd",
   "metadata": {},
   "outputs": [
    {
     "name": "stdout",
     "output_type": "stream",
     "text": [
      "나무를 1번 찍었습니다\n",
      "나무를 2번 찍었습니다\n",
      "나무를 3번 찍었습니다\n",
      "나무를 4번 찍었습니다\n",
      "나무를 5번 찍었습니다\n",
      "나무를 6번 찍었습니다\n",
      "나무를 7번 찍었습니다\n",
      "나무를 8번 찍었습니다\n",
      "나무를 9번 찍었습니다\n",
      "나무를 10번 찍었습니다\n",
      "나무가 쓰러졌습니다\n",
      "나무를 1번 찍었습니다\n",
      "나무를 2번 찍었습니다\n",
      "나무를 3번 찍었습니다\n",
      "나무를 4번 찍었습니다\n",
      "나무를 5번 찍었습니다\n",
      "나무를 6번 찍었습니다\n",
      "나무를 7번 찍었습니다\n",
      "나무를 8번 찍었습니다\n",
      "나무를 9번 찍었습니다\n",
      "나무를 10번 찍었습니다\n"
     ]
    }
   ],
   "source": [
    "# 반복문 : 반복적으로 사용하기 위한 명령문\n",
    "print(\"나무를 1번 찍었습니다\");\n",
    "print(\"나무를 2번 찍었습니다\");\n",
    "print(\"나무를 3번 찍었습니다\");\n",
    "print(\"나무를 4번 찍었습니다\");\n",
    "print(\"나무를 5번 찍었습니다\");\n",
    "print(\"나무를 6번 찍었습니다\");\n",
    "print(\"나무를 7번 찍었습니다\");\n",
    "print(\"나무를 8번 찍었습니다\");\n",
    "print(\"나무를 9번 찍었습니다\");\n",
    "print(\"나무를 10번 찍었습니다\");\n",
    "print(\"나무가 쓰러졌습니다\");\n",
    "\n",
    "# 반복문으로 바꾸기\n",
    "# 초기값이 존재해야함\n",
    "i = 1;\n",
    "while i <= 10:\n",
    "    #print(f\"나무를 {i}번 찍었습니다\"); # 여기 3 줄 부분 다시 공부!!!\n",
    "    #print(\"나무를 %d번 찍었습니다\" % i); \n",
    "    print(\"나무를 {0}번 찍었습니다\".format(i)); # ; 사용하는 이유: 같은 줄에다가 명령문 실행하기 위해\n",
    "    i = i + 1; # i += 1 로 바꿔서 사용할 수 있음"
   ]
  },
  {
   "cell_type": "code",
   "execution_count": 68,
   "id": "0b5560b7-6433-4b41-a1dc-48992d055d68",
   "metadata": {},
   "outputs": [
    {
     "name": "stdout",
     "output_type": "stream",
     "text": [
      "8 * 1 = 8\n",
      "8 * 2 = 16\n",
      "8 * 3 = 24\n",
      "8 * 4 = 32\n",
      "8 * 5 = 40\n",
      "8 * 6 = 48\n",
      "8 * 7 = 56\n",
      "8 * 8 = 64\n",
      "8 * 9 = 72\n"
     ]
    }
   ],
   "source": [
    "# 구구단\n",
    "# 8단\n",
    "'''\n",
    "8 * 1 = (8 * 1)\n",
    "8 * 2 = (8 * 2)\n",
    "8 * 3 = (8 * 3)\n",
    "8 * 4 = (8 * 4)\n",
    "8 * 5 = (8 * 5)\n",
    "8 * 6 = (8 * 6)\n",
    "8 * 7 = (8 * 7)\n",
    "8 * 8 = (8 * 8)\n",
    "8 * 9 = (8 * 9)\n",
    "'''\n",
    "i = 1\n",
    "while i <=9:\n",
    "    #print(f\"8 * {i} = {8 * i}\") ## 이게 가장 나중에 만들어진 버전 \n",
    "    #print(\"8 * %d = %d %(i, 8 * i))\n",
    "    print(\"8 * {0} = {1}\".format(i, 8 * i))\n",
    "    i += 1;"
   ]
  },
  {
   "cell_type": "code",
   "execution_count": 72,
   "id": "857c2aeb-45ac-4992-9828-8472e37474e2",
   "metadata": {},
   "outputs": [
    {
     "name": "stdout",
     "output_type": "stream",
     "text": [
      "8 * 3 = 24\n",
      "8 * 4 = 32\n",
      "8 * 5 = 40\n",
      "8 * 6 = 48\n",
      "8 * 7 = 56\n"
     ]
    }
   ],
   "source": [
    "start = 3\n",
    "end = 7\n",
    "while start <= end:\n",
    "    print(\"8 * {0} = {1}\".format(start, 8 * start))\n",
    "    start += 1;"
   ]
  },
  {
   "cell_type": "code",
   "execution_count": 74,
   "id": "9562bf12-fe47-4d41-addd-b1f23d990ab0",
   "metadata": {},
   "outputs": [
    {
     "name": "stdin",
     "output_type": "stream",
     "text": [
      "곱의 첫번째 숫자를 입력하세요 4\n",
      "곱의 두번째 숫자를 입력하세요 5\n"
     ]
    },
    {
     "name": "stdout",
     "output_type": "stream",
     "text": [
      "8 * 4 = 32\n",
      "8 * 5 = 40\n"
     ]
    }
   ],
   "source": [
    "start = int(input (\"곱의 첫번째 숫자를 입력하세요\")) \n",
    "end = int(input (\"곱의 두번째 숫자를 입력하세요\"))\n",
    "while start <= end:\n",
    "    print(\"8 * {0} = {1}\".format(start, 8 * start))\n",
    "    start += 1;"
   ]
  },
  {
   "cell_type": "code",
   "execution_count": 79,
   "id": "a23ea091-97b7-47cc-882e-907c7fd53ac5",
   "metadata": {},
   "outputs": [
    {
     "name": "stdin",
     "output_type": "stream",
     "text": [
      "단을 숫자로 입력하세요 :  5\n",
      "곱의 첫번째 숫자를 입력하세요 :  6\n",
      "곱의 두번째 숫자를 입력하세요 :  3\n"
     ]
    }
   ],
   "source": [
    "dan = int(input(\"단을 숫자로 입력하세요 : \"))\n",
    "start = int(input (\"곱의 첫번째 숫자를 입력하세요 : \")) \n",
    "end = int(input (\"곱의 두번째 숫자를 입력하세요 : \"))\n",
    "while start <= end:\n",
    "    #print(\"{2} * {0} = {1}\".format(start, dan * start, dan))\n",
    "    print(f\"{dan} * {start} = {dan * start}\")\n",
    "    start += 1;"
   ]
  },
  {
   "cell_type": "code",
   "execution_count": 84,
   "id": "f116713c-d674-4400-bb0f-f03382ab4e8d",
   "metadata": {},
   "outputs": [
    {
     "name": "stdout",
     "output_type": "stream",
     "text": [
      "7\n",
      "8\n",
      "[1, 2, 3, 4, 5, 6, 7, 9]\n"
     ]
    }
   ],
   "source": [
    "# 로또 만들기\n",
    "# 원하는 숫자의 범위를 리스트 안에 넣는다 [1,2,3,4,5,6,...]\n",
    "# 리스트의 인덱스를 랜덤하게 갖고 온다\n",
    "\n",
    "import random\n",
    "idx = random.randint(0,8) #random하게 인덱스를 갖고 오는 함수 randint (시작값, 끝값) \n",
    "l = [1,2,3,4,5,6,7,8,9] \n",
    "#    0 1 2 3 4 5 6 7 8\n",
    "print(idx)\n",
    "print(l[idx]) #인덱스를 random하게 갖고 온다\n",
    "result = l.pop(idx) #삭제하는 함수 중 pop : 지운 값이 뭔지 파악\n",
    "print(l)\n",
    "# 비복원 : 한 번 갖고 온 값은 다시 갖고 오지 않는다\n",
    "# 복원 : 한 번 갖고 온 값을 다시 원래 데이터 셋에 넣고 다시 갖고 올 수 있다\n",
    "# 로또는 비복원 추출, 주사위는 복원 추출"
   ]
  },
  {
   "cell_type": "code",
   "execution_count": 90,
   "id": "e57ced6a-a114-4d7b-9fef-bda95cc5a7a6",
   "metadata": {},
   "outputs": [
    {
     "name": "stdout",
     "output_type": "stream",
     "text": [
      "[1, 2, 3, 4, 5, 6, 7, 8, 9, 10, 11, 12, 13, 14, 15, 16, 17, 18, 19, 20, 21, 22, 23, 24, 25, 26, 27, 28, 29, 30, 31, 32, 33, 34, 35, 36, 37, 38, 39, 40, 41, 42, 43, 44, 45]\n",
      "23 16 9 35 24 14 "
     ]
    }
   ],
   "source": [
    "import random\n",
    "lotto = [] # 빈 리스트 만들어주기\n",
    "i = 1\n",
    "while i <=45:\n",
    "    lotto.append(i) #뒤에 추가해주는 함수 append\n",
    "    i += 1\n",
    "print(lotto)\n",
    "size = len(lotto) # 로또의 크기를 갖고 오세요\n",
    "y = 1 #숫자 6개 가져오기 - 반복 \n",
    "while y <= 6:\n",
    "    size -= 1 #인덱스 size가 하나씩 줄어들도록 만들어주기  \n",
    "    idx = random. randint(0,size) # 44, 43, 42, 41, 40, 39)\n",
    "    result = lotto.pop(idx)\n",
    "    print(result, end = \" \")\n",
    "    y += 1"
   ]
  },
  {
   "cell_type": "code",
   "execution_count": 100,
   "id": "93a81e31-2382-451f-bbe8-37b92503b845",
   "metadata": {},
   "outputs": [
    {
     "name": "stdin",
     "output_type": "stream",
     "text": [
      "사고자 하는 로또의 장 수를 입력하시오 :  2\n"
     ]
    },
    {
     "name": "stdout",
     "output_type": "stream",
     "text": [
      "15 1 45 13 38 27 \n",
      "1 35 32 30 42 24 \n"
     ]
    }
   ],
   "source": [
    "#로또를 5개를 사려고 할 때 \n",
    "'''\n",
    "요 문장이 5번 반복되어야함 \n",
    "i = 1\n",
    "while i <=45:\n",
    "    lotto.append(i)\n",
    "    i += 1\n",
    "size = len(lotto)\n",
    "y = 1\n",
    "while y <=6:\n",
    "    size -= 1 #숫자 한 번 뽑을 때마다 인덱스 사이즈 줄어듦\n",
    "    idx = random.randint(0,size) #size가 준 만큼 인덱스를 갖고 와야함\n",
    "    result = lotto.pop(idx)\n",
    "    print(result, end = \" , \") # \" \" : 옆으로 출력을 한다\n",
    "    y += 1\n",
    "'''\n",
    "import random #나온 결과 값이 중복되지 않는 이유는 import random 때문??\n",
    "lotto = []\n",
    "cnt = 1\n",
    "cntEnd = int(input(\"사고자 하는 로또의 장 수를 입력하시오 : \"))\n",
    "while cnt <= cntEnd: \n",
    "    i = 1\n",
    "    while i <=45:\n",
    "        lotto.append(i)\n",
    "        i += 1\n",
    "    size = len(lotto)\n",
    "    y = 1\n",
    "    while y <=6:\n",
    "        size -= 1 #숫자 한 번 뽑을 때마다 인덱스 사이즈 줄어듦\n",
    "        idx = random.randint(0,size) #size가 준 만큼 인덱스를 갖고 와야함\n",
    "        result = lotto.pop(idx)\n",
    "        print(result, end = \" \") # \" \" : 옆으로 출력을 한다\n",
    "        y += 1\n",
    "    lotto.clear() # 45개 중 6개를 뽑으면 39개가 남음. 남은 애들을 모두 삭제하겠다\n",
    "    print()\n",
    "    cnt += 1\n",
    "'''\n",
    "import random #import를 해줘야 아래서 random.randint 함수를 사용할 수 있음\n",
    "lotto = []\n",
    "cnt = 1\n",
    "cntEnd = int(input(\"사고자 하는 로또의 장 수를 입력하시오 : \"))\n",
    "while cnt <= cntEnd: \n",
    "    lotto = [] #clear 함수를 사용하지 않는다면, 빈 리스트를 넣어준다\n",
    "    i = 1\n",
    "    while i <=45:\n",
    "        lotto.append(i)\n",
    "        i += 1gugu3Dan()\n",
    "    y = 1\n",
    "    while y <=6:\n",
    "        size -= 1 #숫자 한 번 뽑을 때마다 인덱스 사이즈 줄어듦\n",
    "        idx = random.randint(0,size) #size가 준 만큼 인덱스를 갖고 와야함\n",
    "        result = lotto.pop(idx)\n",
    "        print(result, end = \" \") # \" \" : 옆으로 출력을 한다\n",
    "        y += 1\n",
    "    print()\n",
    "    cnt += 1\n",
    "## 이 작업을 통해 1번째 6개의 숫자와 2번째 랜덤하게 뽑은 6개의 숫자는 동일할 수 있음\n",
    "'''"
   ]
  },
  {
   "cell_type": "code",
   "execution_count": null,
   "id": "73cfa099-0222-49fe-bfce-777a70dad512",
   "metadata": {},
   "outputs": [],
   "source": [
    "# 6단\n",
    "i = 1\n",
    "while i <= 9:\n",
    "    print(f\" 6 * {i} = {6 * i})\n",
    "    i += 1\n",
    "\n",
    "# 7단\n",
    "i = 1\n",
    "while i <= 9:\n",
    "    print(f\" 7 * {i} = {7 * i})\n",
    "    i += 1\n",
    "\n",
    "# 8단\n",
    "i = 1\n",
    "while i <= 9:\n",
    "    print(f\" 8 * {i} = {8 * i})\n",
    "    i += 1"
   ]
  },
  {
   "cell_type": "code",
   "execution_count": 1,
   "id": "783412fb-5a3f-41c9-a1da-dd0142731820",
   "metadata": {},
   "outputs": [
    {
     "name": "stdout",
     "output_type": "stream",
     "text": [
      " 6 * 1 = 6\n",
      " 6 * 2 = 12\n",
      " 6 * 3 = 18\n",
      " 6 * 4 = 24\n",
      " 6 * 5 = 30\n",
      " 6 * 6 = 36\n",
      " 6 * 7 = 42\n",
      " 6 * 8 = 48\n",
      " 6 * 9 = 54\n",
      " 7 * 1 = 7\n",
      " 7 * 2 = 14\n",
      " 7 * 3 = 21\n",
      " 7 * 4 = 28\n",
      " 7 * 5 = 35\n",
      " 7 * 6 = 42\n",
      " 7 * 7 = 49\n",
      " 7 * 8 = 56\n",
      " 7 * 9 = 63\n",
      " 8 * 1 = 8\n",
      " 8 * 2 = 16\n",
      " 8 * 3 = 24\n",
      " 8 * 4 = 32\n",
      " 8 * 5 = 40\n",
      " 8 * 6 = 48\n",
      " 8 * 7 = 56\n",
      " 8 * 8 = 64\n",
      " 8 * 9 = 72\n"
     ]
    }
   ],
   "source": [
    "#이중반복문\n",
    "startdan = 6\n",
    "while startdan <= 8:\n",
    "    i = 1\n",
    "    while i <= 9:\n",
    "        print(f\" {startdan} * {i} = {startdan * i}\")\n",
    "        i += 1\n",
    "    startdan += 1"
   ]
  },
  {
   "cell_type": "code",
   "execution_count": 14,
   "id": "2d643279-c826-491b-b91d-29d6ad0e14c7",
   "metadata": {},
   "outputs": [
    {
     "name": "stdin",
     "output_type": "stream",
     "text": [
      "곱셉의 단을 입력하세요 :  3\n",
      "마지막 곱셈의 단을 입력하세요 :  5\n"
     ]
    },
    {
     "name": "stdout",
     "output_type": "stream",
     "text": [
      "3 * 1 = 3\n",
      "3 * 2 = 6\n",
      "3 * 3 = 9\n",
      "3 * 4 = 12\n",
      "3 * 5 = 15\n",
      "3 * 6 = 18\n",
      "3 * 7 = 21\n",
      "3 * 8 = 24\n",
      "3 * 9 = 27\n",
      "4 * 1 = 4\n",
      "4 * 2 = 8\n",
      "4 * 3 = 12\n",
      "4 * 4 = 16\n",
      "4 * 5 = 20\n",
      "4 * 6 = 24\n",
      "4 * 7 = 28\n",
      "4 * 8 = 32\n",
      "4 * 9 = 36\n",
      "5 * 1 = 5\n",
      "5 * 2 = 10\n",
      "5 * 3 = 15\n",
      "5 * 4 = 20\n",
      "5 * 5 = 25\n",
      "5 * 6 = 30\n",
      "5 * 7 = 35\n",
      "5 * 8 = 40\n",
      "5 * 9 = 45\n"
     ]
    }
   ],
   "source": [
    "startDan = int(input(\"곱셉의 단을 입력하세요 : \"))\n",
    "endDan = int(input(\"마지막 곱셈의 단을 입력하세요 : \"))\n",
    "while startDan <= endDan:\n",
    "    gop = 1\n",
    "    while gop <= 9:\n",
    "        print(f\"{startDan} * {gop} = {startDan * gop}\")\n",
    "        gop += 1\n",
    "    startDan += 1"
   ]
  },
  {
   "cell_type": "code",
   "execution_count": 16,
   "id": "538a2921-617d-4d50-917d-3dd7a4d1b888",
   "metadata": {},
   "outputs": [
    {
     "name": "stdin",
     "output_type": "stream",
     "text": [
      "곱셉의 단을 입력하세요 :  5\n",
      "마지막 곱셈의 단을 입력하세요 :  6\n",
      "곱의 시작 숫자를 입력하세요 :  2\n",
      "곱의 마지막 숫자를 입력하세요 :  4\n"
     ]
    },
    {
     "name": "stdout",
     "output_type": "stream",
     "text": [
      "5 * 2 = 10\n",
      "5 * 3 = 15\n",
      "5 * 4 = 20\n",
      "6 * 2 = 12\n",
      "6 * 3 = 18\n",
      "6 * 4 = 24\n"
     ]
    }
   ],
   "source": [
    "startDan = int(input(\"곱셉의 단을 입력하세요 : \"))\n",
    "endDan = int(input(\"마지막 곱셈의 단을 입력하세요 : \"))\n",
    "startGop =  int(input(\"곱의 시작 숫자를 입력하세요 : \"))\n",
    "endGop = int(input(\"곱의 마지막 숫자를 입력하세요 : \"))\n",
    "while startDan <= endDan:\n",
    "    gop = startGop\n",
    "    while gop <= endGop:\n",
    "        print(f\"{startDan} * {gop} = {startDan * gop}\")\n",
    "        gop += 1\n",
    "    startDan += 1"
   ]
  },
  {
   "cell_type": "code",
   "execution_count": 36,
   "id": "7287adce-55e4-4147-a7e5-e268404ee1b2",
   "metadata": {},
   "outputs": [
    {
     "name": "stdout",
     "output_type": "stream",
     "text": [
      "21\n",
      "21\n",
      "21\n",
      "21\n",
      "21\n",
      "21\n"
     ]
    }
   ],
   "source": [
    "### for문\n",
    "l = [1,2,3,4,5,6]\n",
    "'''\n",
    "sum1 = sum1 + l[0]\n",
    "sum1 = sum1 + l[1]\n",
    "sum1 = sum1 + l[2]\n",
    "'''\n",
    "print(sum(l))\n",
    "idx = 0\n",
    "sum1 = 0\n",
    "while idx < len(l): #리스트의 인덱스를 모르니 len함수로 갖고 오기\n",
    "    sum1 = sum1 + l[idx]\n",
    "    idx += 1\n",
    "print(sum1)\n",
    "\n",
    "sum1 = 0\n",
    "for num in [1,2,3,4,5,6]: #리스트에 있는 값을 하나씩 num에 넣어준다 for each \n",
    "    sum1 = sum1 + num\n",
    "print(sum1)\n",
    "\n",
    "sum1 = 0\n",
    "for num in l:\n",
    "     sum1 = sum1 + num\n",
    "print(sum1)\n",
    "\n",
    "sum1 = 0\n",
    "for num in l:\n",
    "     sum1 += num #위에 것과 같은 표현\n",
    "print(sum1)\n",
    "\n",
    "### [1,2,3,4,5,6]\n",
    "###  0 1 2 3 4 5 \n",
    "sum1 = 0\n",
    "for idx in range(0,len(l)): #마지막 값을 모르기 때문에 함수 len 사용\n",
    "    sum1 += l[idx]\n",
    "print(sum1)"
   ]
  },
  {
   "cell_type": "code",
   "execution_count": 38,
   "id": "da248df9-15fe-43b1-bb32-7aabbdac2c7b",
   "metadata": {},
   "outputs": [
    {
     "name": "stdin",
     "output_type": "stream",
     "text": [
      "숫자를 입력하세요 :  4\n"
     ]
    },
    {
     "name": "stdout",
     "output_type": "stream",
     "text": [
      "10\n",
      "5050\n"
     ]
    }
   ],
   "source": [
    "# 1 ~ 100\n",
    "sum1 = 0\n",
    "i = 1\n",
    "end = int(input(\"숫자를 입력하세요 : \"))\n",
    "while i <= end:\n",
    "    sum1 += i\n",
    "    i += 1\n",
    "print(sum1)\n",
    "\n",
    "sum1 = 0\n",
    "end = 100\n",
    "for i in range (1, end + 1):\n",
    "    sum1 += i\n",
    "print(sum1)\n",
    "\n",
    "sum1 = 0 "
   ]
  },
  {
   "cell_type": "code",
   "execution_count": 45,
   "id": "3589ce76-1369-46c4-aecc-18bad3875601",
   "metadata": {},
   "outputs": [
    {
     "name": "stdout",
     "output_type": "stream",
     "text": [
      "2550\n",
      "2550\n",
      "2550\n",
      "2550\n"
     ]
    }
   ],
   "source": [
    "# 짝수만 구하시오\n",
    "# 1~100\n",
    "\n",
    "sum1 = 0\n",
    "i = 1\n",
    "while i < 101:\n",
    "    if i % 2 == 0:\n",
    "        sum1 += i\n",
    "    i += 1\n",
    "print(sum1)\n",
    "\n",
    "sum1 = 0 \n",
    "for i in range (1, 101):\n",
    "    if i % 2 == 0:\n",
    "        sum1 += i\n",
    "print(sum1)\n",
    "\n",
    "sum1 = 0\n",
    "i = 0\n",
    "while i < 100:\n",
    "    i += 1\n",
    "    if i % 2 != 0:\n",
    "        continue #홀수일 때는 다시 위로 올라가라. i계속 1이 안되려면 i += 1이 위로 올라와야함\n",
    "    sum1 += i\n",
    "print(sum1)\n",
    "\n",
    "sum1 = 0\n",
    "for i in range (1, 101):\n",
    "    if i % 2 != 0:\n",
    "        continue\n",
    "    sum1 += i\n",
    "print(sum1)"
   ]
  },
  {
   "cell_type": "code",
   "execution_count": 49,
   "id": "67a07d4d-20bf-484a-ac44-56f3bad3b59f",
   "metadata": {},
   "outputs": [
    {
     "name": "stdout",
     "output_type": "stream",
     "text": [
      "5050\n",
      "5050\n"
     ]
    }
   ],
   "source": [
    "#break \n",
    "i = 1\n",
    "sum1 = 0\n",
    "while True: #크기가 정해져 있지 않은 경우 while 문을 사용\n",
    "    if i == 101:\n",
    "        break #조건에 해당하면 반복문을 멈춰라\n",
    "    sum1 += i \n",
    "    i += 1\n",
    "print(sum1)\n",
    "\n",
    "sum1 = 0\n",
    "for i in range(1,10000): #보통 크기가 정해져 있는 경우 for문을 사용하고\n",
    "    if i == 101:\n",
    "        break #조건에 해당하면 반복문을 멈춰라\n",
    "    sum1 += i\n",
    "print(sum1)"
   ]
  },
  {
   "cell_type": "code",
   "execution_count": 51,
   "id": "a200bb38-173b-4b04-a1bd-86e4b5fd7323",
   "metadata": {},
   "outputs": [
    {
     "name": "stdout",
     "output_type": "stream",
     "text": [
      " 5 * 1 = 5\n",
      " 5 * 2 = 10\n",
      " 5 * 3 = 15\n",
      " 5 * 4 = 20\n",
      " 5 * 5 = 25\n",
      " 5 * 6 = 30\n",
      " 5 * 7 = 35\n",
      " 5 * 8 = 40\n",
      " 5 * 9 = 45\n",
      " 2 * 1 = 2\n",
      " 2 * 2 = 4\n",
      " 2 * 3 = 6\n",
      " 2 * 4 = 8\n",
      " 2 * 5 = 10\n",
      " 2 * 6 = 12\n",
      " 2 * 7 = 14\n",
      " 2 * 8 = 16\n",
      " 2 * 9 = 18\n",
      " 3 * 1 = 3\n",
      " 3 * 2 = 6\n",
      " 3 * 3 = 9\n",
      " 3 * 4 = 12\n",
      " 3 * 5 = 15\n",
      " 3 * 6 = 18\n",
      " 3 * 7 = 21\n",
      " 3 * 8 = 24\n",
      " 3 * 9 = 27\n",
      " 4 * 1 = 4\n",
      " 4 * 2 = 8\n",
      " 4 * 3 = 12\n",
      " 4 * 4 = 16\n",
      " 4 * 5 = 20\n",
      " 4 * 6 = 24\n",
      " 4 * 7 = 28\n",
      " 4 * 8 = 32\n",
      " 4 * 9 = 36\n",
      " 5 * 1 = 5\n",
      " 5 * 2 = 10\n",
      " 5 * 3 = 15\n",
      " 5 * 4 = 20\n",
      " 5 * 5 = 25\n",
      " 5 * 6 = 30\n",
      " 5 * 7 = 35\n",
      " 5 * 8 = 40\n",
      " 5 * 9 = 45\n",
      " 6 * 1 = 6\n",
      " 6 * 2 = 12\n",
      " 6 * 3 = 18\n",
      " 6 * 4 = 24\n",
      " 6 * 5 = 30\n",
      " 6 * 6 = 36\n",
      " 6 * 7 = 42\n",
      " 6 * 8 = 48\n",
      " 6 * 9 = 54\n",
      " 7 * 1 = 7\n",
      " 7 * 2 = 14\n",
      " 7 * 3 = 21\n",
      " 7 * 4 = 28\n",
      " 7 * 5 = 35\n",
      " 7 * 6 = 42\n",
      " 7 * 7 = 49\n",
      " 7 * 8 = 56\n",
      " 7 * 9 = 63\n",
      " 8 * 1 = 8\n",
      " 8 * 2 = 16\n",
      " 8 * 3 = 24\n",
      " 8 * 4 = 32\n",
      " 8 * 5 = 40\n",
      " 8 * 6 = 48\n",
      " 8 * 7 = 56\n",
      " 8 * 8 = 64\n",
      " 8 * 9 = 72\n",
      " 9 * 1 = 9\n",
      " 9 * 2 = 18\n",
      " 9 * 3 = 27\n",
      " 9 * 4 = 36\n",
      " 9 * 5 = 45\n",
      " 9 * 6 = 54\n",
      " 9 * 7 = 63\n",
      " 9 * 8 = 72\n",
      " 9 * 9 = 81\n"
     ]
    }
   ],
   "source": [
    "# for 문을 이용해서 5단 출력\n",
    "for gop in range(1, 10): # 1에서 9까지 가져오기\n",
    "    print(f\" 5 * {gop} = {5 * gop}\")\n",
    "    \n",
    "#for 문을 이용해서 2단부터 9단까지 출력\n",
    "for dan in range(2,10):\n",
    "    for gop in range(1, 10): # 1에서 9까지 가져오기\n",
    "        print(f\" {dan} * {gop} = {dan * gop}\")"
   ]
  },
  {
   "cell_type": "code",
   "execution_count": 53,
   "id": "6731f3b7-be90-4165-8518-ca3fb9012a16",
   "metadata": {},
   "outputs": [
    {
     "name": "stdin",
     "output_type": "stream",
     "text": [
      "시작단을 입력해주세요 : 3\n",
      "마지막단을 입력해주세요 : 5\n",
      "시작곱을 입력해주세요 : 1\n",
      "마지막곱을 입력해주세요 : 4\n"
     ]
    },
    {
     "name": "stdout",
     "output_type": "stream",
     "text": [
      " 3 * 1 = 3\n",
      " 3 * 2 = 6\n",
      " 3 * 3 = 9\n",
      " 3 * 4 = 12\n",
      " 4 * 1 = 4\n",
      " 4 * 2 = 8\n",
      " 4 * 3 = 12\n",
      " 4 * 4 = 16\n",
      " 5 * 1 = 5\n",
      " 5 * 2 = 10\n",
      " 5 * 3 = 15\n",
      " 5 * 4 = 20\n"
     ]
    }
   ],
   "source": [
    "startDan = int(input(\"시작단을 입력해주세요 :\"))\n",
    "endDan = int(input(\"마지막단을 입력해주세요 :\"))\n",
    "startGop = int(input(\"시작곱을 입력해주세요 :\"))\n",
    "endGop = int(input(\"마지막곱을 입력해주세요 :\"))\n",
    "for dan in range(startDan,endDan + 1):\n",
    "    for gop in range(startGop, endGop + 1): # 1에서 9까지 가져오기\n",
    "        print(f\" {dan} * {gop} = {dan * gop}\")"
   ]
  },
  {
   "cell_type": "code",
   "execution_count": 56,
   "id": "97491cdd-d33c-46b3-9c98-5a5f7b100417",
   "metadata": {},
   "outputs": [
    {
     "name": "stdout",
     "output_type": "stream",
     "text": [
      "45 34 35 23 20 28 \n",
      "3 44 20 19 12 36 \n",
      "27 33 40 37 17 25 \n",
      "37 23 8 35 7 1 \n",
      "5 38 33 8 13 9 \n"
     ]
    }
   ],
   "source": [
    "#로또 번호 제조기 for 문으로 만들기\n",
    "import random\n",
    "lotto = []\n",
    "for cnt in range(0,5): #로또 몇 장 살 것인가\n",
    "    for i in range(1, 45+1):\n",
    "        lotto.append(i)\n",
    "    size = len(lotto)\n",
    "    for num in range(0, 6):\n",
    "        size -= 1\n",
    "        idx = random.randint(0,size)\n",
    "        result = lotto.pop(idx)\n",
    "        print(result, end = \" \")\n",
    "    lotto.clear()\n",
    "    print()"
   ]
  },
  {
   "cell_type": "code",
   "execution_count": 64,
   "id": "f196c389-8f85-4575-a128-27a4b63d8258",
   "metadata": {},
   "outputs": [
    {
     "name": "stdin",
     "output_type": "stream",
     "text": [
      "구매를 하시려면 Y를, 아니면 아무키나 누르시오 Y\n",
      "구매수량을 입력하세요 :  6\n"
     ]
    },
    {
     "name": "stdout",
     "output_type": "stream",
     "text": [
      "3 26 2 15 16 27 \n",
      "38 33 16 30 45 13 \n",
      "16 28 15 31 12 26 \n",
      "28 20 41 9 8 24 \n",
      "14 16 12 39 23 44 \n",
      "21 10 33 3 6 19 \n"
     ]
    },
    {
     "name": "stdin",
     "output_type": "stream",
     "text": [
      "구매를 하시려면 Y를, 아니면 아무키나 누르시오 N\n"
     ]
    },
    {
     "name": "stdout",
     "output_type": "stream",
     "text": [
      "프로그램이 종료됩니다.\n"
     ]
    }
   ],
   "source": [
    "import random\n",
    "lotto = []\n",
    "while True: #while True를 하면 종료되지 않고 무한루프가 걸리게 됨\n",
    "    str1 = input(\"구매를 하시려면 Y를, 아니면 아무키나 누르시오\")\n",
    "    if 'Y' != str1:\n",
    "        print(\"프로그램이 종료됩니다.\")\n",
    "        break\n",
    "    qty =int(input(\"구매수량을 입력하세요 : \"))\n",
    "    for cnt in range(0, qty): #로또 몇 장 살 것인가\n",
    "        for i in range(1, 45+1):\n",
    "            lotto.append(i)\n",
    "        size = len(lotto)\n",
    "        for num in range(0, 6):\n",
    "            size -= 1\n",
    "            idx = random.randint(0,size)\n",
    "            result = lotto.pop(idx)\n",
    "            print(result, end = \" \")\n",
    "        lotto.clear()\n",
    "        print()"
   ]
  },
  {
   "cell_type": "code",
   "execution_count": 67,
   "id": "d22113a7-8819-475e-b37d-9b68c73b234a",
   "metadata": {},
   "outputs": [
    {
     "name": "stdout",
     "output_type": "stream",
     "text": [
      "[1, 2, 3, 4, 5, 6, 7, 8, 9, 10, 11, 12, 13, 14, 15, 16, 17, 18, 19, 20, 21, 22, 23, 24, 25, 26, 27, 28, 29, 30, 31, 32, 33, 34, 35, 36, 37, 38, 39, 40, 41, 42, 43, 44, 45]\n",
      "[1, 2, 3, 4, 5, 6, 7, 8, 9, 10, 11, 12, 13, 14, 15, 16, 17, 18, 19, 20, 21, 22, 23, 24, 25, 26, 27, 28, 29, 30, 31, 32, 33, 34, 35, 36, 37, 38, 39, 40, 41, 42, 43, 44, 45]\n"
     ]
    }
   ],
   "source": [
    "#list comprehension (=append) ### 어려운 부분 복습 필요!!! 빈 리스트에 append 할 때 사용하는 방식 comprehension\n",
    "\n",
    "#위의 방식으로 수정하기\n",
    "lotto = []\n",
    "for i in range( 1, 45 + 1 ):\n",
    "    lotto.append(i)\n",
    "print(lotto)\n",
    "'''\n",
    "위에 3줄과 lotto = [i for i in range(1, 45 + 1) 한 줄 표현과 같은 표현 \n",
    "'''\n",
    "\n",
    "lotto = [i for i in range(1, 45 + 1)]\n",
    "print(lotto)"
   ]
  },
  {
   "cell_type": "code",
   "execution_count": 68,
   "id": "964307e8-9c26-4f48-955c-b5275749a307",
   "metadata": {},
   "outputs": [
    {
     "name": "stdout",
     "output_type": "stream",
     "text": [
      "[3, 6, 9, 12, 15, 18, 21, 24, 27, 30, 33, 36, 39, 42, 45, 48, 51, 54, 57, 60, 63, 66, 69, 72, 75, 78, 81, 84, 87, 90, 93, 96, 99, 102, 105, 108, 111, 114, 117, 120, 123, 126, 129, 132, 135]\n",
      "[3, 6, 9, 12, 15, 18, 21, 24, 27, 30, 33, 36, 39, 42, 45, 48, 51, 54, 57, 60, 63, 66, 69, 72, 75, 78, 81, 84, 87, 90, 93, 96, 99, 102, 105, 108, 111, 114, 117, 120, 123, 126, 129, 132, 135]\n"
     ]
    }
   ],
   "source": [
    "lotto = []\n",
    "for i in range (1, 45 +1):\n",
    "    lotto.append ( 3 * i )\n",
    "print(lotto)\n",
    "\n",
    "#위에 3줄이 아래 한 줄과 같은 의미\n",
    "lotto = [3 * i for i in range(1, 45+1)] ##append 일 때만 사용가능한 구문\n",
    "#append 안에 들어가는 내용을 빈 리스트 안에 넣어주고 for 문을 넣어주면 된다\n",
    "print(lotto)"
   ]
  },
  {
   "cell_type": "code",
   "execution_count": 71,
   "id": "ecb35fb5-8224-4cc2-a6d8-b32111f550a1",
   "metadata": {},
   "outputs": [
    {
     "name": "stdout",
     "output_type": "stream",
     "text": [
      "[6, 12, 18, 24]\n",
      "[6, 12, 18, 24]\n"
     ]
    }
   ],
   "source": [
    "t = 1,2,3,4,5,6,7,8,9\n",
    "l = []\n",
    "#튜플에 있는 값중 짝수만 3을 곱해서 리스트에 저장\n",
    "for num in t:\n",
    "    if num % 2 == 0:\n",
    "        l.append(num * 3 )\n",
    "print(l)\n",
    "\n",
    "l = [num * 3 for num in t if num % 2 == 0 ]\n",
    "print(l)"
   ]
  },
  {
   "cell_type": "code",
   "execution_count": 73,
   "id": "ee847a59-366c-4132-838a-16ec5ac3dfca",
   "metadata": {},
   "outputs": [
    {
     "name": "stdout",
     "output_type": "stream",
     "text": [
      "[3, 6, 9, 12, 15, 18, 21, 24, 27, 4, 8, 12, 16, 20, 24, 28, 32, 36, 5, 10, 15, 20, 25, 30, 35, 40, 45, 6, 12, 18, 24, 30, 36, 42, 48, 54]\n",
      "[3, 6, 9, 12, 15, 18, 21, 24, 27, 4, 8, 12, 16, 20, 24, 28, 32, 36, 5, 10, 15, 20, 25, 30, 35, 40, 45, 6, 12, 18, 24, 30, 36, 42, 48, 54]\n"
     ]
    }
   ],
   "source": [
    "# 3 ~ 6 단까지의 곱의 값을 리스트에 추가\n",
    "l = []\n",
    "for dan in range (3, 7):\n",
    "    for gop in range(1,10):\n",
    "        l.append(dan * gop)\n",
    "print(l)\n",
    "\n",
    "l = [dan * gop for dan in range (3, 7)\n",
    "               for gop in range(1,10)]\n",
    "print(l)"
   ]
  },
  {
   "cell_type": "code",
   "execution_count": 75,
   "id": "0512fadd-4f36-461f-8cd3-684b3f701f9a",
   "metadata": {},
   "outputs": [
    {
     "name": "stdout",
     "output_type": "stream",
     "text": [
      "[6, 12, 18, 24, 4, 8, 12, 16, 20, 24, 28, 32, 36, 10, 20, 30, 40, 6, 12, 18, 24, 30, 36, 42, 48, 54]\n",
      "[6, 12, 18, 24, 4, 8, 12, 16, 20, 24, 28, 32, 36, 10, 20, 30, 40, 6, 12, 18, 24, 30, 36, 42, 48, 54]\n"
     ]
    }
   ],
   "source": [
    "# 3 ~6 단까지의 곱의 값이 짝수만 리스트에 추가\n",
    "l = []\n",
    "for dan in range(3,7):\n",
    "    for gop in range (1,10):\n",
    "        if dan * gop % 2 == 0:\n",
    "            l.append(dan * gop)\n",
    "print(l)\n",
    "\n",
    "l = [dan * gop for dan in range(3,7)\n",
    "               for gop in range (1,10) \n",
    "               if dan * gop % 2 == 0]\n",
    "print(l)"
   ]
  },
  {
   "cell_type": "code",
   "execution_count": 80,
   "id": "991f833b-af7f-4abd-9319-364ab0b514a8",
   "metadata": {},
   "outputs": [
    {
     "name": "stdout",
     "output_type": "stream",
     "text": [
      "[(1, 2), (3, 4), (5, 6)]\n",
      "(1, 2)\n",
      "3\n",
      "(3, 4)\n",
      "7\n",
      "(5, 6)\n",
      "11\n",
      "1 2\n",
      "3\n",
      "3 4\n",
      "7\n",
      "5 6\n",
      "11\n",
      "1 2 3\n",
      "6\n",
      "4 5 6\n",
      "15\n",
      "7 8 9\n",
      "24\n"
     ]
    }
   ],
   "source": [
    "#리스트 안의 튜플\n",
    "l1 = [(1,2), (3,4), (5,6)]\n",
    "print(l1)\n",
    "for t in l1:\n",
    "    print(t) # t = 튜플 (튜플은 인덱스를 갖음)\n",
    "    print(t[0] + t[1])\n",
    "\n",
    "for a, b in l1: # a, b = (1, 2) // (a, b) = (1, 2)\n",
    "    print(a , b)\n",
    "    print(a + b)\n",
    "\n",
    "l2 = [[1,2, 3], [4,5,6], [7,8,9]]\n",
    "for a, b, c in l2: # a,b,c, = [1,2,3]\n",
    "    print (a,b,c)\n",
    "    print (a + b + c)\n",
    "\n",
    "l2 = [[1,2, 3], [4,5,6], [7,8,9]]\n",
    "# a, b, c = 1, 2, 3, 4 (불가능)\n",
    "# 크기가 같아야 오류가 생기지 않는다."
   ]
  },
  {
   "cell_type": "code",
   "execution_count": 82,
   "id": "ebad02b0-74d3-4e5b-847d-ed7001e5e2b9",
   "metadata": {},
   "outputs": [],
   "source": [
    "# 함수 (function) : x 값에 따른 y값의 변화를 알고 싶을 때\n",
    "'''\n",
    "f(x) = 2x + 3\n",
    "y= f(3)에서 y 값은?\n",
    "'''\n",
    "def f(x): #피호출함수 / x : 가인자 (값을 갖고 있지 않은 인자) = 매개변수 (\"parameter\")\n",
    "    return 2 * x + 3"
   ]
  },
  {
   "cell_type": "code",
   "execution_count": 84,
   "id": "03b07305-5a99-4518-8f50-9ebb669bbbe2",
   "metadata": {},
   "outputs": [
    {
     "name": "stdout",
     "output_type": "stream",
     "text": [
      "9\n"
     ]
    }
   ],
   "source": [
    "i = 3\n",
    "y = f(i) #호출함수 / i : 실인자 (값을 갖고 있는 인자), \"argument\"\n",
    "print(y)"
   ]
  },
  {
   "cell_type": "code",
   "execution_count": 86,
   "id": "dc0c0231-3dfd-4480-90e6-b869191de681",
   "metadata": {},
   "outputs": [
    {
     "name": "stdout",
     "output_type": "stream",
     "text": [
      "13\n"
     ]
    }
   ],
   "source": [
    "y = f(5)\n",
    "print(y)"
   ]
  },
  {
   "cell_type": "code",
   "execution_count": 87,
   "id": "d25c279b-a08a-4d46-b496-689e17864a2a",
   "metadata": {},
   "outputs": [],
   "source": [
    "'''\n",
    "f(x1, x2) = 3x1 + 5x2일 때\n",
    "y = (5,3)에서 y값은? \n",
    "'''\n",
    "def f(x1, x2): #x1, x2 : parameter\n",
    "    return 3 * x1 + 5 * x2 "
   ]
  },
  {
   "cell_type": "code",
   "execution_count": 88,
   "id": "0dc96f57-f6ee-484d-824e-ef70f7c078c3",
   "metadata": {},
   "outputs": [
    {
     "name": "stdout",
     "output_type": "stream",
     "text": [
      "30\n",
      "14355\n"
     ]
    }
   ],
   "source": [
    "y=f(5,3) # 5, 3 : argument, 5는 x1으로 전달, 3은 x2로 전달\n",
    "print(y)\n",
    "y = f(10, 2865) #호출함수\n",
    "print(y)\n",
    "\n",
    "# argument는 parameter와 1대1 대응한다\n",
    "## argument의 개수와 parameter의 개수는 같아야 한다\n",
    "### 피호출함수를 실행하려면 같은 이름의 호출함수를 사용한다\n",
    "#### return문 뒤에 있는 값은 호출함수에게 전달된다"
   ]
  },
  {
   "cell_type": "code",
   "execution_count": 90,
   "id": "bdd76eb2-dd63-4983-92a1-d86ca436029c",
   "metadata": {},
   "outputs": [
    {
     "name": "stdout",
     "output_type": "stream",
     "text": [
      "\n"
     ]
    }
   ],
   "source": [
    "#함수문법\n",
    "'''\n",
    "def 함수명(parameter 1, parameter 2, ..., parameter n):\n",
    "    명령어 1 :\n",
    "    명령어 2 :\n",
    "    ...\n",
    "    명령어 n\n",
    "    return 결과값\n",
    "\n",
    "변수 = 함수명 (argument 1, argument 2, ..., paremeter n)\n",
    "print(변수)\n",
    "'''\n",
    "print()"
   ]
  },
  {
   "cell_type": "code",
   "execution_count": 94,
   "id": "33431e0e-ea94-4665-8b72-1c65b612b950",
   "metadata": {},
   "outputs": [
    {
     "name": "stdout",
     "output_type": "stream",
     "text": [
      "3 * 1 = 3\n",
      "3 * 2 = 6\n",
      "3 * 3 = 9\n",
      "3 * 4 = 12\n",
      "3 * 5 = 15\n",
      "3 * 6 = 18\n",
      "3 * 7 = 21\n",
      "3 * 8 = 24\n",
      "3 * 9 = 27\n"
     ]
    }
   ],
   "source": [
    "# 복잡하고 긴 코드를 반복 실행해야 하는 명령어를 사용하고 싶을 떄, 함수로 만들어준다\n",
    "for gop in range (1, 10):\n",
    "    print(f\"3 * {gop} = {3 * gop}\")\n",
    "\n",
    "def gugu3Dan():\n",
    "    for gop in range (1, 10):\n",
    "        print(f\"3 * {gop} = {3 * gop}\")"
   ]
  },
  {
   "cell_type": "code",
   "execution_count": 96,
   "id": "2db9e2e0-1ac2-4621-902f-37509068904c",
   "metadata": {},
   "outputs": [
    {
     "name": "stdout",
     "output_type": "stream",
     "text": [
      "3 * 1 = 3\n",
      "3 * 2 = 6\n",
      "3 * 3 = 9\n",
      "3 * 4 = 12\n",
      "3 * 5 = 15\n",
      "3 * 6 = 18\n",
      "3 * 7 = 21\n",
      "3 * 8 = 24\n",
      "3 * 9 = 27\n",
      "3 * 1 = 3\n",
      "3 * 2 = 6\n",
      "3 * 3 = 9\n",
      "3 * 4 = 12\n",
      "3 * 5 = 15\n",
      "3 * 6 = 18\n",
      "3 * 7 = 21\n",
      "3 * 8 = 24\n",
      "3 * 9 = 27\n",
      "3 * 1 = 3\n",
      "3 * 2 = 6\n",
      "3 * 3 = 9\n",
      "3 * 4 = 12\n",
      "3 * 5 = 15\n",
      "3 * 6 = 18\n",
      "3 * 7 = 21\n",
      "3 * 8 = 24\n",
      "3 * 9 = 27\n",
      "3 * 1 = 3\n",
      "3 * 2 = 6\n",
      "3 * 3 = 9\n",
      "3 * 4 = 12\n",
      "3 * 5 = 15\n",
      "3 * 6 = 18\n",
      "3 * 7 = 21\n",
      "3 * 8 = 24\n",
      "3 * 9 = 27\n"
     ]
    }
   ],
   "source": [
    "gugu3Dan()\n",
    "gugu3Dan()\n",
    "gugu3Dan()\n",
    "gugu3Dan()"
   ]
  },
  {
   "cell_type": "code",
   "execution_count": 97,
   "id": "b97bc7ca-dc82-4366-b2e6-091614ab168f",
   "metadata": {},
   "outputs": [],
   "source": [
    "# 함수의 4가지 유형\n",
    "# 1.일반적인 형식 :parameter와 반환값이 있는 경우\n",
    "def add(x1, x2):\n",
    "    return x1 + x2"
   ]
  },
  {
   "cell_type": "code",
   "execution_count": 99,
   "id": "8658c01c-9c46-4b32-a38f-b804a5207f19",
   "metadata": {},
   "outputs": [
    {
     "name": "stdout",
     "output_type": "stream",
     "text": [
      "8\n"
     ]
    }
   ],
   "source": [
    "result = add (3, 5)\n",
    "print(result)"
   ]
  },
  {
   "cell_type": "code",
   "execution_count": 101,
   "id": "7d16c188-33c5-488c-8987-8c9ef2f0fa07",
   "metadata": {},
   "outputs": [],
   "source": [
    "# 2. 매개변수는 있고, 반환값이 없는 경우\n",
    "def add(a, b):\n",
    "    print(a + b)"
   ]
  },
  {
   "cell_type": "code",
   "execution_count": 104,
   "id": "1fe6326d-4147-4fe0-8918-ac043d23edce",
   "metadata": {},
   "outputs": [
    {
     "name": "stdout",
     "output_type": "stream",
     "text": [
      "8\n"
     ]
    }
   ],
   "source": [
    "add(3,5)"
   ]
  },
  {
   "cell_type": "code",
   "execution_count": 105,
   "id": "2835d992-5d89-4782-9b97-39a3231103db",
   "metadata": {},
   "outputs": [],
   "source": [
    "# 3. 매개변수는 없고, 반환값이 있는 경우\n",
    "def add ():\n",
    "    x = 10; y= 20\n",
    "    return x + y"
   ]
  },
  {
   "cell_type": "code",
   "execution_count": 107,
   "id": "0941b6fb-5c88-4c8d-b09d-1c8236a02c14",
   "metadata": {},
   "outputs": [
    {
     "name": "stdout",
     "output_type": "stream",
     "text": [
      "30\n"
     ]
    }
   ],
   "source": [
    "result = add()\n",
    "print(result)"
   ]
  },
  {
   "cell_type": "code",
   "execution_count": 108,
   "id": "8d1fd815-1724-4ef4-b4bb-9f3d9a78a912",
   "metadata": {},
   "outputs": [],
   "source": [
    "#4. 매개변수 없고, 반환값도 없는 경우\n",
    "def add ():\n",
    "    x = 10; y=20\n",
    "    print(x+y)"
   ]
  },
  {
   "cell_type": "code",
   "execution_count": 110,
   "id": "ddfd5d8c-c7ef-4470-9fb7-941f146e3744",
   "metadata": {},
   "outputs": [
    {
     "name": "stdout",
     "output_type": "stream",
     "text": [
      "30\n"
     ]
    }
   ],
   "source": [
    "add()"
   ]
  },
  {
   "cell_type": "code",
   "execution_count": 112,
   "id": "08593592-e458-4b66-8b57-bf7a35394518",
   "metadata": {},
   "outputs": [],
   "source": [
    "#4-1. 매개변수 없고, 반환값도 없는 경우\n",
    "def add ():\n",
    "    x = int(input(\"숫자를 입력하세요 : \"))\n",
    "    y = int(input(\"숫자를 입력하세요 : \"))\n",
    "    print(x+y)"
   ]
  },
  {
   "cell_type": "code",
   "execution_count": 114,
   "id": "05850f4b-664f-4a5b-b5b1-02d15572deaf",
   "metadata": {},
   "outputs": [
    {
     "name": "stdin",
     "output_type": "stream",
     "text": [
      "숫자를 입력하세요 :  3\n",
      "숫자를 입력하세요 :  5\n"
     ]
    },
    {
     "name": "stdout",
     "output_type": "stream",
     "text": [
      "8\n"
     ]
    }
   ],
   "source": [
    "add()"
   ]
  },
  {
   "cell_type": "code",
   "execution_count": null,
   "id": "5102f4de-fe29-4641-8cfe-ec8e662d9e55",
   "metadata": {},
   "outputs": [],
   "source": [
    "startGop = int(input(\"시작곱을 입력해주세요 : \"))\n",
    "endGop = int(input(\"마지막곱을 입력해주세요 : \"))\n",
    "for gop in range (startGop, endGop + 1)\n",
    "    print (f\" 3 * {gop} = {3 * gop}\")"
   ]
  },
  {
   "cell_type": "code",
   "execution_count": 118,
   "id": "2d34ace2-38d7-4fc1-b369-30de61571a81",
   "metadata": {},
   "outputs": [],
   "source": [
    "def gugu3Dan():\n",
    "    startGop = int(input(\"시작곱을 입력해주세요 : \"))\n",
    "    endGop = int(input(\"마지막곱을 입력해주세요 : \"))\n",
    "    for gop in range (startGop, endGop + 1):\n",
    "        print (f\" 3 * {gop} = {3 * gop}\")"
   ]
  },
  {
   "cell_type": "code",
   "execution_count": 117,
   "id": "6aeb69da-ca84-4fc1-af6b-764f9849df8b",
   "metadata": {},
   "outputs": [
    {
     "name": "stdout",
     "output_type": "stream",
     "text": [
      "3 * 1 = 3\n",
      "3 * 2 = 6\n",
      "3 * 3 = 9\n",
      "3 * 4 = 12\n",
      "3 * 5 = 15\n",
      "3 * 6 = 18\n",
      "3 * 7 = 21\n",
      "3 * 8 = 24\n",
      "3 * 9 = 27\n"
     ]
    }
   ],
   "source": [
    "gugu3Dan()"
   ]
  },
  {
   "cell_type": "code",
   "execution_count": 119,
   "id": "1bf36a0a-c98d-4159-9585-1260c0d29221",
   "metadata": {},
   "outputs": [],
   "source": [
    "def gugu3Dan(startGop, endGop): #startGop매개변수\n",
    "    for gop in range (startGop, endGop + 1):\n",
    "        print (f\" 3 * {gop} = {3 * gop}\")"
   ]
  },
  {
   "cell_type": "code",
   "execution_count": 125,
   "id": "ebc56a67-a36a-49db-9af3-fb5d4dd2aec2",
   "metadata": {},
   "outputs": [
    {
     "name": "stdin",
     "output_type": "stream",
     "text": [
      "시작곱을 입력해주세요 :  3\n",
      "마지막곱을 입력해주세요 :  6\n"
     ]
    },
    {
     "name": "stdout",
     "output_type": "stream",
     "text": [
      " 3 * 3 = 9\n",
      " 3 * 4 = 12\n",
      " 3 * 5 = 15\n",
      " 3 * 6 = 18\n"
     ]
    }
   ],
   "source": [
    "startGop = int(input(\"시작곱을 입력해주세요 : \"))  #일반변수\n",
    "endGop = int(input(\"마지막곱을 입력해주세요 : \"))\n",
    "gugu3Dan(startGop,endGop)"
   ]
  },
  {
   "cell_type": "code",
   "execution_count": 132,
   "id": "b53c46c1-3834-4752-92bf-3d1a67ed2998",
   "metadata": {},
   "outputs": [],
   "source": [
    "#parameter 이름을 이용해서 값을 전달\n",
    "def sum1(num1, num2):\n",
    "    sum1 = 0\n",
    "    for i in range (num1, num2 + 1):\n",
    "        sum1 += i\n",
    "    print(sum1)"
   ]
  },
  {
   "cell_type": "code",
   "execution_count": 134,
   "id": "5fd3b57a-eeda-4310-bb1b-90498845afa5",
   "metadata": {},
   "outputs": [
    {
     "name": "stdout",
     "output_type": "stream",
     "text": [
      "165\n",
      "165\n"
     ]
    }
   ],
   "source": [
    "sum1(10, 20)\n",
    "sum1(num2 = 20, num1 =10) #argument에 parameter의 이름을 사용할 수 있다.)"
   ]
  },
  {
   "cell_type": "code",
   "execution_count": 136,
   "id": "db94a7a7-c1b0-4fd1-a4a8-79c36ac6bac4",
   "metadata": {},
   "outputs": [],
   "source": [
    "def calc (x1, x2, opt):\n",
    "    if opt == \"add\":\n",
    "        result = x1 + x2\n",
    "    elif opt == \"sub\":\n",
    "        result = x1 - x2\n",
    "    elif opt == \"mul\":\n",
    "        result = x1 * x2\n",
    "    else:\n",
    "        result = x1 / x2\n",
    "    return result"
   ]
  },
  {
   "cell_type": "code",
   "execution_count": 145,
   "id": "6124911f-8c90-444e-8b5d-9fa704f540b8",
   "metadata": {},
   "outputs": [
    {
     "name": "stdout",
     "output_type": "stream",
     "text": [
      "30\n",
      "300\n",
      "300\n"
     ]
    }
   ],
   "source": [
    "y = calc (10, 20, \"add\")\n",
    "print(y)\n",
    "\n",
    "y = calc (10, opt = \"mul\", x2 = 30)\n",
    "print(y)\n",
    "\n",
    "y = calc (opt = \"mul\", x2 = 30, x1 = 10)\n",
    "print(y)\n",
    "\n",
    "#SyntaxError: positional argument follows keyword argument\n",
    "#y = calc (opt = \"mul\", 30, x1 = 10)\n",
    "#print(y)\n",
    "#y = calc (10, x2 = 30 , \"mul\")\n",
    "#print(y)\n",
    "#매개변수를 사용할 것이라면, 중간에 이름이 들어가는 것은 사용불가\n",
    "#뒤에서부터 주거나, 다 쓰거나"
   ]
  },
  {
   "cell_type": "code",
   "execution_count": 149,
   "id": "ea6b583b-f5aa-4a68-b41e-f6fe916925be",
   "metadata": {},
   "outputs": [
    {
     "name": "stdout",
     "output_type": "stream",
     "text": [
      "(1, 2, 3, 4, 5)\n",
      "(1, 2, 3, 4, 5, 6, 7)\n"
     ]
    }
   ],
   "source": [
    "'''\n",
    "sum(1)\n",
    "sum(1,2,3,4)\n",
    "sum(1,2,4)\n",
    "'''\n",
    "i = 1,2,3,4,5\n",
    "print(i) #튜플 (1, 2, 3, 4, 5)\n",
    "#파이썬에서 같은 이름의 함수를 사용할 수 없다\n",
    "#튜플을 인자로 받을 수 있겠끔 매개변수를 선언하지\n",
    "\n",
    "def add(*para): # *매개변수(*para) : 튜플 \n",
    "    print(para)\n",
    "add(1,2,3,4,5,6,7)"
   ]
  },
  {
   "cell_type": "code",
   "execution_count": 153,
   "id": "8e8b3c3b-e821-4561-81f2-af473c2e612f",
   "metadata": {},
   "outputs": [],
   "source": [
    "def add_mul(opt, *para):\n",
    "    sum1 = 1\n",
    "    if opt == \"add\":\n",
    "        for i in para:\n",
    "            sum1 += i\n",
    "    elif opt == \"mul\":\n",
    "        for i in para:\n",
    "            sum1 *= i\n",
    "    print(sum1)"
   ]
  },
  {
   "cell_type": "code",
   "execution_count": 155,
   "id": "20482689-1a01-48dc-879b-e40ed1eac7a7",
   "metadata": {},
   "outputs": [
    {
     "name": "stdout",
     "output_type": "stream",
     "text": [
      "22\n",
      "720\n"
     ]
    }
   ],
   "source": [
    "add_mul(\"add\", 1,2,3,4,5,6)\n",
    "add_mul(\"mul\", 1,2,3,4,5,6)"
   ]
  },
  {
   "cell_type": "code",
   "execution_count": 164,
   "id": "e9f169bf-7367-4193-a5dc-cc66f9e8a945",
   "metadata": {},
   "outputs": [],
   "source": [
    "#argument를 딕셔너리로 받는다\n",
    "def dic1(**para): # **매개변수(**para) : 딕셔너리 \n",
    "    print(para)"
   ]
  },
  {
   "cell_type": "code",
   "execution_count": 165,
   "id": "11cb6168-d6f7-460a-a3f8-ba4ee9619e61",
   "metadata": {},
   "outputs": [
    {
     "name": "stdout",
     "output_type": "stream",
     "text": [
      "{'a': 10, 'b': 20}\n"
     ]
    }
   ],
   "source": [
    "dic1(a= 10, b= 20)"
   ]
  },
  {
   "cell_type": "code",
   "execution_count": 2,
   "id": "cd9d5beb-6a73-4ef7-93b4-80be567346fb",
   "metadata": {},
   "outputs": [],
   "source": [
    "#함수의 리턴값은 언제나 하나이다\n",
    "def add(x1, x3):\n",
    "    return x1 + x3"
   ]
  },
  {
   "cell_type": "code",
   "execution_count": 4,
   "id": "0212286c-eaa4-4cc6-a1d7-ce5799c48137",
   "metadata": {},
   "outputs": [
    {
     "name": "stdout",
     "output_type": "stream",
     "text": [
      "8\n"
     ]
    }
   ],
   "source": [
    "result = add (3, 5)\n",
    "print(result)"
   ]
  },
  {
   "cell_type": "code",
   "execution_count": 173,
   "id": "16f82b50-a216-4c77-86ae-986ba3526260",
   "metadata": {},
   "outputs": [],
   "source": [
    "def add_nul():\n",
    "    x = 10\n",
    "    y = 3\n",
    "    return x+y, x*y"
   ]
  },
  {
   "cell_type": "code",
   "execution_count": 175,
   "id": "62b3866c-caae-4dde-8a9b-af282f194d27",
   "metadata": {},
   "outputs": [
    {
     "name": "stdout",
     "output_type": "stream",
     "text": [
      "(13, 30)\n",
      "13 30\n"
     ]
    }
   ],
   "source": [
    "result = add_nul()\n",
    "print(result)\n",
    "print(result[0], result[1])"
   ]
  }
 ],
 "metadata": {
  "kernelspec": {
   "display_name": "Python 3 (ipykernel)",
   "language": "python",
   "name": "python3"
  },
  "language_info": {
   "codemirror_mode": {
    "name": "ipython",
    "version": 3
   },
   "file_extension": ".py",
   "mimetype": "text/x-python",
   "name": "python",
   "nbconvert_exporter": "python",
   "pygments_lexer": "ipython3",
   "version": "3.13.2"
  }
 },
 "nbformat": 4,
 "nbformat_minor": 5
}
