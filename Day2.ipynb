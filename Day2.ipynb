{
 "cells": [
  {
   "cell_type": "code",
   "execution_count": 2,
   "id": "482c2d34-2e52-4a4a-b5b8-1ebd40d47db9",
   "metadata": {},
   "outputs": [
    {
     "name": "stdout",
     "output_type": "stream",
     "text": [
      "['Life', 'is', 'too', 'short']\n"
     ]
    }
   ],
   "source": [
    "str1 = \"Life is too short\"\n",
    "str2 = str1.split() #리스트 형식으로 만드는 방법\n",
    "print(str2) #리스트 ['Life', 'is', 'too', 'short']"
   ]
  },
  {
   "cell_type": "code",
   "execution_count": 5,
   "id": "1143e1b5-034c-4230-bdee-37d1c42c7854",
   "metadata": {},
   "outputs": [
    {
     "name": "stdout",
     "output_type": "stream",
     "text": [
      "10\n",
      "[1, 2, 3, 4]\n"
     ]
    }
   ],
   "source": [
    "i = 10; #정수리터널 변수\n",
    "f = 10.5 #실수형 리터널 변수\n",
    "s = \"이숭무\" #문자열형 리터널 변수\n",
    "l = [1,2,3,4] #리스트 변수 (리스트는 리터널X)\n",
    "print(i)\n",
    "print(l)"
   ]
  },
  {
   "cell_type": "code",
   "execution_count": 376,
   "id": "730ffdc9-4f54-4aa5-80a7-921f066dd1b3",
   "metadata": {},
   "outputs": [],
   "source": [
    "#리스트자료형 형식\n",
    "#리스트는 여러종류의 데이터를 저장할 수 있는 방식\n",
    "l = [] #빈 리스트 (*꼭 기억하기)\n",
    "l = [1,2,3,4,5] #정수 리스트\n",
    "l = [10.5,20.5,3.8] #실수 리스트\n",
    "l = ['a','b','c','d','이숭무'] #문자열 리스트\n",
    "l = [10,\"이숭무\",10.5] #혼합형 리스트 (*가장 많이 사용하는 리스트)\n",
    "l = [10,\"이숭무\",10.5, [1,2,3]] #리스트를 포함한 혼합형 리스트\n",
    "l = [[1,2,3,4],[5,6,7]] #리스트를 포함한 리스트"
   ]
  },
  {
   "cell_type": "code",
   "execution_count": 21,
   "id": "1e89ea26-04d9-469f-8fe2-49840c881c7e",
   "metadata": {},
   "outputs": [
    {
     "name": "stdout",
     "output_type": "stream",
     "text": [
      "e\n",
      "['Life', 'is', 'too', 'short']\n",
      "is\n",
      "is\n",
      "is\n",
      "10\n",
      "short\n",
      "r\n",
      "r\n"
     ]
    }
   ],
   "source": [
    "str1 = \"Life is too short\"\n",
    "#       01234567890123456 : index (문자열의 인덱스)\n",
    "#       76543210987654321 - \n",
    "print(str1[3])\n",
    "l = str1.split()\n",
    "print(l) #['Life', 'is', 'too', 'short']\n",
    "#             0       1      2     3     : 각각을 요소라고 함 // 요소가 가지고 있는 고유의 번호: 인덱스\n",
    "#             4       3      2      1  -\n",
    "print(l[1]) #is\n",
    "print(l[-3]) #is\n",
    "l = ['Life', 'is', 'too', 'short',10]\n",
    "#각 문자열에는 인덱스가 포함된다\n",
    "#      0       1      2      3     4\n",
    "#                          01234\n",
    "str3 = l[1]\n",
    "print(str3) #요소가 문자열이라면, 출력하는 값도 문자열\n",
    "i = l[4]\n",
    "print(i) #4: 정수\n",
    "str3 = l[3]\n",
    "print(str3) #short : 문자열\n",
    "#            01234\n",
    "print(str3[3])\n",
    "print(l[3][3])"
   ]
  },
  {
   "cell_type": "code",
   "execution_count": 47,
   "id": "e6b333ab-3db3-4993-8f27-d06a0e59690d",
   "metadata": {},
   "outputs": [
    {
     "name": "stdout",
     "output_type": "stream",
     "text": [
      "1\n",
      "2\n",
      "3\n",
      "Life\n",
      "is\n",
      "Lifeis\n",
      "[3, 4, 5]\n",
      "LifeLife\n",
      "10\n",
      "20\n",
      "1010\n",
      "f\n"
     ]
    }
   ],
   "source": [
    "l = [1, 2, 'Life', 'is', [3,4,5], 'too', [1], 0.5, 'short', \"10\"]\n",
    "#    0  1     2      3       4       5    6    7       8      9\n",
    "#           0123\n",
    "print(l[0]) # 1 정수\n",
    "print(l[1]) # 2 정수\n",
    "\n",
    "#정수+정수 : 10+20\n",
    "print(l[0]+l[1]) # 3 정수\n",
    "\n",
    "#문자열 + 문자열 : 연결 연산자\n",
    "print(l[2]) # Life 문자열\n",
    "print(l[3]) # is 문자열\n",
    "print(l[2]+l[3])\n",
    "\n",
    "print(l[4]) # [3, 4, 5] 리스트\n",
    "\n",
    "#문자열 * 정수 : 반복연산자\n",
    "print(l[2] * l[1]) #LifeLife\n",
    "\n",
    "#print (l[9] + 10) 문자열과 숫자는 계산불가\n",
    "print(l[9]) #문자열\n",
    "print(int(l[9]) + 10) #l[9] = \"10\" 이므로 숫자로 바꿔주기 // 결과값 20\n",
    "print(l[9] + str(10)) #숫자 10을 문자열로 바꿔준다 / 결과값 1010\n",
    "\n",
    "#l(2)에 있는 f를 출력\n",
    "print(l[2][2]) #l[2] : 'life' → l[2][2] : f"
   ]
  },
  {
   "cell_type": "code",
   "execution_count": 42,
   "id": "442aa58b-b4a7-438e-8c4f-73a34775d975",
   "metadata": {},
   "outputs": [
    {
     "name": "stdout",
     "output_type": "stream",
     "text": [
      "['a', 'b', 'c']\n",
      "b\n",
      "['a', 'b', 'c']\n",
      "b\n",
      "b\n",
      "b\n"
     ]
    }
   ],
   "source": [
    "a = [1,2,3,['a','b','c']]\n",
    "#    0 1 2       3\n",
    "#            0    1   2\n",
    "#    4 3 2     1   - #a 꺼꾸로 인덱스\n",
    "#              3   2   1 - #a 안의 리스트의 거꾸로 인덱스\n",
    "print(a[3])\n",
    "print(a[3][1])\n",
    "print(a[-1])\n",
    "print(a[-1][-2])\n",
    "print(a[3][-2])\n",
    "print(a[-1][1])"
   ]
  },
  {
   "cell_type": "code",
   "execution_count": 54,
   "id": "62ed4984-9db1-4509-8e2d-8f8b892c5e0d",
   "metadata": {},
   "outputs": [
    {
     "name": "stdout",
     "output_type": "stream",
     "text": [
      "['a', 'b', ['life', 'is']]\n",
      "['life', 'is']\n",
      "life\n",
      "f\n",
      "i\n"
     ]
    }
   ],
   "source": [
    "a = [1, 2, 3, ['a', 'b', ['life', 'is']]]\n",
    "#    0   1  2             3\n",
    "#               0     1        2\n",
    "#                           0       1\n",
    "#                          0123    01\n",
    "print(a[3]) #['a', 'b', ['life', 'is']] : 리스트\n",
    "#               0     1        2\n",
    "print(a[3][2]) #['life', 'is'] : 리스트\n",
    "#                 0       1\n",
    "print(a[3][2][0]) # life : 문자열\n",
    "#                   0123 \n",
    "#life의 f 출력\n",
    "print(a[3][2][0][2])\n",
    "#Life의 i 출력\n",
    "print(a[3][2][0][1]) \n",
    "\n",
    "#리스트 indexing (끝)"
   ]
  },
  {
   "cell_type": "code",
   "execution_count": 77,
   "id": "745073d0-7aef-48a4-8292-383eaaa396c1",
   "metadata": {},
   "outputs": [
    {
     "name": "stdout",
     "output_type": "stream",
     "text": [
      "Life\n",
      "Life\n",
      "[1, 2, 'Life', 'is']\n",
      "[1, 2, 'Life', 'is']\n",
      "[1, 2]\n",
      "[1]\n",
      "1\n",
      "[]\n",
      "[3, 4, 5]\n",
      "[3, 4]\n",
      "Life\n",
      "['Life']\n",
      "[]\n",
      "[]\n"
     ]
    }
   ],
   "source": [
    "str1 = \"Life is too short\"\n",
    "print(str1[0:4]) # slicing 문자열에서 원하는 부분 추출하기\n",
    "print(str1[0:0+4])\n",
    "\n",
    "#리스트에서 slicing하기\n",
    "l = [1, 2, 'Life', 'is', [3, 4, 5], 'too', [1], 0.5, 'short', '10']\n",
    "#    0   1   2       3      4         5     6    7      8        9\n",
    "print(l[0:4]) # [1, 2, 'Life', 'is'] : 리스트에서 원하는 만큼 출력하기 = 슬라이싱\n",
    "\n",
    "print(l[0:0+4]) # [1, 2, 'Life', 'is']\n",
    "\n",
    "#리스트 [1, 2] 가져오기 \n",
    "print(l[0: 0+2])\n",
    "\n",
    "#리스트 slicing의 결과값은 리스트가 된다 // 결과값 [1] \n",
    "print(l[0:1]) \n",
    "\n",
    "#리스트 indexing의 결과값은 요소의 자료형(문자열, 실수, 정수...)이 된다 // 결과값 1 \n",
    "print(l[0]) \n",
    "\n",
    "# [] 빈 리스트로 갖고 오기\n",
    "print(l[0:0])\n",
    "\n",
    "print(l[4]) # 리스트 [3, 4, 5]\n",
    "#                     0 1  2\n",
    "print(l[4][0:2]) #[3, 4]\n",
    "\n",
    "print(l[2]) #life \n",
    "print(l[2:2+1]) #['life']\n",
    "print(l[2:2+0]) #0개 갖고와라 [] 빈 리스트\n",
    "print(l[3:3]) #0개 갖고와라 [] 빈 리스트"
   ]
  },
  {
   "cell_type": "code",
   "execution_count": 100,
   "id": "aa8a5df5-2701-4eb1-86e5-287f3168b35a",
   "metadata": {
    "scrolled": true
   },
   "outputs": [
    {
     "name": "stdout",
     "output_type": "stream",
     "text": [
      "[1, 2, 3, 4, 5, 6, 7, 8]\n",
      "[1, 2, 3, 4, 1, 2, 3, 4, 1, 2, 3, 4]\n",
      "[1, 2, 'Life', 'is', [3, 4, 5], 'too', [1], 0.5, 'short', '10']\n",
      "[3, 4, 5, 1]\n",
      "[3, 4, 5, 3, 4, 5]\n",
      "['Life', 'i', 's']\n",
      "Lifeis\n",
      "hello\n",
      "['h', 'e', 'l', 'l', 'o']\n",
      "[1, 3, 4, 5]\n",
      "[1, 3, 4, 5]\n",
      "[1, 2, 3, 4]\n"
     ]
    }
   ],
   "source": [
    "#리스트 연산자 :  + (연결 연산자), * (반복 연산자)\n",
    "l1 = [1,2,3,4]\n",
    "l2 = [5,6,7,8]\n",
    "print (l1+l2) #[1, 2, 3, 4, 5, 6, 7, 8]\n",
    "print (l1 * 3 ) # [1, 2, 3, 4, 1, 2, 3, 4, 1, 2, 3, 4] : l1 3번 반복\n",
    "print(l) #[1, 2, 'Life', 'is', [3, 4, 5], 'too', [1], 0.5, 'short', '10']\n",
    "#print(l[4] + l[1]) : 리스트와 정수의 합 = 오류\n",
    "print(l[4] + l[6]) # [3, 4, 5, 1] : + 연결 연산자\n",
    "print(l[4] * l[1]) # 리스트 * 정수 [3, 4, 5, 3, 4, 5]\n",
    "\n",
    "l = [1, 2, 'Life', 'is', [3, 4, 5], 'too', [1], 0.5, 'short', '10']\n",
    "#print(l[2:2+1] + l[3]) 리스트 + 문자열 : 오류\n",
    "#list (l[3]) : [\"is\"] 리스트 + 리스트\n",
    "print(l[2:2+1] + list(l[3])) \n",
    "print(l[2] + l[3]) #문자열 + 문자열\n",
    "print(\"hello\")\n",
    "print(list(\"hello\")) #['h', 'e', 'l', 'l', 'o'] : list 함수\n",
    "# print(1[0] + l[4]) #정수 + 리스트 : 오류\n",
    "# print(list(l[0])+l[4]) : 오류\n",
    "# list() 리스트로 변환하는 함수 : 정수를 리스트로 변환할 수 없음\n",
    "\n",
    "# 리스트에서 원하는 정수를 슬라이싱을 해서 연산을 해주면 됨\n",
    "print(l[0:1]+l[4]) #결과값 [1, 3, 4, 5]\n",
    "print([l[0]]+l[4]) #대괄호로 리스트로 만들어주고 연산하면 리스트 + 리스트\n",
    "l4 = [1,2,3,4]\n",
    "print (l4) # [1, 2, 3, 4]"
   ]
  },
  {
   "cell_type": "code",
   "execution_count": 121,
   "id": "6b220713-ac80-46f6-a767-cf1c44dbb5a7",
   "metadata": {},
   "outputs": [
    {
     "name": "stdout",
     "output_type": "stream",
     "text": [
      "Lf stosot\n",
      "['Life', 'too']\n",
      "trohs oot si efiL\n",
      "['short', 'too', 'is', 'Life']\n",
      "Life is too short\n",
      "['Life', 'is', 'too', 'short']\n",
      "Lif\n",
      "Lif\n",
      "['Life', 'is', 'too']\n",
      "['Life', 'is', 'too']\n",
      "ife is too short\n",
      "ife is too short\n",
      "ife is too short\n",
      "['too', 'short']\n",
      "['too', 'short']\n",
      "['too', 'short']\n",
      "['too', 'short']\n"
     ]
    }
   ],
   "source": [
    "str1 = \"Life is too short\"\n",
    "result = ['Life', 'is', 'too', 'short']\n",
    "#            0     1      2       3\n",
    "print(str1[::2])\n",
    "print(result[::2])\n",
    "\n",
    "print(str1[::-1])\n",
    "print(result[::-1])\n",
    "print(str1[:])\n",
    "print(result[:])\n",
    "print(str1[0:3])\n",
    "print(str1[:3])\n",
    "print(result[0:3])\n",
    "print(result[:3])\n",
    "\n",
    "#str1 에서 ife is too short 출력하기\n",
    "print(str1[1:17])\n",
    "print(str1[1:])\n",
    "print(str1[1:len(str1)])\n",
    "\n",
    "# ['too', 'short'] 출력하기\n",
    "print(result[2:2+2])\n",
    "print(result[2:4]) #short까지 포함되어 출력하기\n",
    "print(result[2:]) #번호가 끝이라면 생략할 수 있음\n",
    "print(result[2:len(result)])"
   ]
  },
  {
   "cell_type": "code",
   "execution_count": 130,
   "id": "2bc8b099-cf4f-4582-852a-4a06e0f22c04",
   "metadata": {},
   "outputs": [
    {
     "name": "stdout",
     "output_type": "stream",
     "text": [
      "Your leg is too short\n",
      "['Life', 'is', 'too', 'short']\n",
      "17\n",
      "4\n"
     ]
    }
   ],
   "source": [
    "#replace 함수 원하는 내용으로 바꿔서 출력하기\n",
    "str1 = \"Life is too short\"\n",
    "#Life를 your leg로 변경하기\n",
    "str2 = str1.replace(\"Life\", \"Your leg\")\n",
    "print(str2) #결과값 Your leg is too short\n",
    "\n",
    "str3 = \"Lyfe is too short\"\n",
    "str4 = str3.replace(\"Lyfe\", \"Life\")\n",
    "\n",
    "result = ['Lyfe', 'is', 'too', 'short']\n",
    "result[0] = 'Life' #요소변경\n",
    "print(result) # ['Life', 'is', 'too', 'short']\n",
    "\n",
    "#len : 길이함수 - 리스트에도 사용할 수 있음)\n",
    "print(len(str1)) #str1 = \"Life is too short\" 공백포함 17개 // 결과값 17\n",
    "print(len(result)) # ['Life', 'is', 'too', 'short'] 리스트의 요소 4개 // 결과값 4"
   ]
  },
  {
   "cell_type": "code",
   "execution_count": 153,
   "id": "9e168e81-b5ee-4447-af73-0ebf50ce818f",
   "metadata": {},
   "outputs": [
    {
     "name": "stdout",
     "output_type": "stream",
     "text": [
      "['Life', 'is', 'too']\n",
      "['Life', 'is']\n",
      "['Life', 'is', 'too']\n",
      "['Life', 'is', 'too', 'short']\n",
      "['Life', 'short']\n",
      "['Life', 'is', 'short']\n",
      "['Life', 'is', 'too', 'short']\n",
      "['Life', 'is', 'too', 'short', [1, 2, 3]]\n",
      "[1, 2, 3, 4, 5, 6, 7]\n"
     ]
    }
   ],
   "source": [
    "#리스트 함수\n",
    "#리스트에 요소 추가 (raw data에도 변경된 값으로 업데이트 되는 것)\n",
    "#append()\n",
    "l1 = ['Life', 'is']\n",
    "#l1에 'too' 추가\n",
    "#print(l1 + 'too') : 리스트 + 문자열 : 오류\n",
    "print(l1 + ['too'])\n",
    "print(l1)\n",
    "l2 = l1 + ['too']\n",
    "print(l2) # ['Life', 'is', 'too']\n",
    "l1.append('too')\n",
    "l1.append('short')\n",
    "print(l1)\n",
    "\n",
    "#print(l1.append('short')) -- raw data가 변경되는 경우에는 출력할 수 없음 #마지막 요소 추가\n",
    "\n",
    "l1 = ['Life', 'short']\n",
    "#         0       1\n",
    "print(l1)\n",
    "#중간에 삽입 : insert\n",
    "#Life와 short 사이에 is를 추가\n",
    "l1.insert(1,'is')\n",
    "print(l1) # ['Life', 'is', 'short']\n",
    "#too를 is와 short사이에 추가\n",
    "l1.insert(2,'too')\n",
    "print(l1) # ['Life', 'is', 'too', 'short']\n",
    "\n",
    "#하나씩 말고 여러개를 한 번에 추가 = 확장\n",
    "#확장 함수 = extend\n",
    "\n",
    "l1.append([1,2,3])\n",
    "print(l1) # ['Life', 'is', 'too', 'short', [1, 2, 3]] 리스트 안에 리스트가 들어가짐\n",
    "\n",
    "#리스트 안에 요소값들이 그대로 들어가게 하기\n",
    "a = [1,2,3,4]\n",
    "b = [5,6,7]\n",
    "#원하는 결과값 [1,2,3,4,5,6,7]\n",
    "a.extend(b) #리스트 a 에다가 리스트 b의 요소들을 추가하라\n",
    "print(a) #[1, 2, 3, 4, 5, 6, 7]\n",
    "\n",
    "#추가 함수 : append, insert, extend"
   ]
  },
  {
   "cell_type": "code",
   "execution_count": 248,
   "id": "5d40e993-72df-45a1-b2ec-d2e521971974",
   "metadata": {},
   "outputs": [
    {
     "name": "stdout",
     "output_type": "stream",
     "text": [
      "['Life', 'too', 'short']\n",
      "['Life', 'too']\n",
      "['Life', 'too', 'short']\n",
      "['Life', 'short']\n",
      "[]\n",
      "None\n",
      "['Life', 'too', 'short']\n",
      "short\n",
      "['Life', 'too']\n",
      "is\n",
      "Life\n",
      "['too', 'short']\n"
     ]
    }
   ],
   "source": [
    "#index를 이용해서 요소 삭제\n",
    "#요소를 삭제하는 함수는 del\n",
    "l2 = ['Life', 'is', 'too', 'short']\n",
    "#        0      1     2         3\n",
    "\n",
    "# is를 삭제하고 싶다. \n",
    "del(l2[1])\n",
    "print(l2) # ['Life', 'too', 'short']\n",
    "\n",
    "#short를 삭제하고 싶다. raw data는 is 삭제되었기 때문에 인덱싱에도 변화\n",
    "# ['Life', 'too', 'short']\n",
    "#     0      1       2 \n",
    "del(l2[2])\n",
    "print(l2) #['Life', 'too']\n",
    "\n",
    "#요소를 이용해서 삭제하는 함수: remove\n",
    "l2 = ['Life', 'is', 'too', 'short']\n",
    "l2.remove('is')\n",
    "print(l2) #['Life', 'too', 'short']\n",
    "l2.remove('too')\n",
    "print(l2) #['Life', 'short']\n",
    "\n",
    "#전체 삭제 : clear\n",
    "l2.clear()\n",
    "print(l2) #[] 빈 리스트\n",
    "\n",
    "### 삭제한 값을 받아오기 : pop\n",
    "l2 = ['Life', 'is', 'too', 'short']\n",
    "#삭제한 값을 저장할 result 변수 설정 \n",
    "result = l2.remove('is')\n",
    "print(result) #None // remove() 함수는 단지 리스트에서 해당 항목을 제거하는 작업이므로, 제거된 항목을 반환하지 않음\n",
    "print(l2) #['Life', 'too', 'short'] \n",
    "\n",
    "l2 = ['Life', 'too', 'short'] \n",
    "#      0         1        2 \n",
    "#pop() 함수는 리스트의 마지막 요소를 제거하고 그 값을 반환\n",
    "#삭제하는 값을 저장할 result 변수 설정\n",
    "result = l2.pop()\n",
    "print(result) #short\n",
    "print(l2) #'Life', 'too']\n",
    "\n",
    "#중간에 있는 값을 삭제하되 중간에 있는 값을 반환받고 싶다\n",
    "l2 = ['Life', 'is', 'too', 'short']\n",
    "#      0       1        2      3\n",
    "result = l2.pop(1)\n",
    "print(result) #결과값 is\n",
    "result = l2.pop(0)\n",
    "print(result) #결과값 Life\n",
    "print(l2) #결과값 ['too', 'short']"
   ]
  },
  {
   "cell_type": "code",
   "execution_count": 204,
   "id": "b247154b-7657-497d-b108-ce3cbd6b3981",
   "metadata": {},
   "outputs": [
    {
     "name": "stdout",
     "output_type": "stream",
     "text": [
      "2\n",
      "too\n",
      "41\n"
     ]
    }
   ],
   "source": [
    "#확인하기\n",
    "\n",
    "import random #난수값은 l2 리스트 안의 인덱스 값 \n",
    "l2 = ['Life', 'is', 'too', 'short']\n",
    "#      0       1        2      3\n",
    "idx = random.randint(0,len(l2)-1) #난수 : 0, 1, 2, 3\n",
    "#random.randint(0,3) 0부터 3중에 아무거나 갖고와라\n",
    "print(idx)\n",
    "#l2.pop(idx) #값이 랜던하게 나옴\n",
    "result = l2.pop(idx)\n",
    "print(result)\n",
    "\n",
    "idx = random.randint(1,45)\n",
    "print(idx)"
   ]
  },
  {
   "cell_type": "code",
   "execution_count": 218,
   "id": "a4e2d03b-6662-4fc9-986a-8d55cda89d2f",
   "metadata": {},
   "outputs": [
    {
     "name": "stdout",
     "output_type": "stream",
     "text": [
      "[1, 2, 3, 4, 5]\n",
      "[5, 4, 3, 2, 1]\n",
      "['a', 'b', 'c']\n",
      "['c', 'b', 'a']\n",
      "['a', 'b', 'c', '가', '나', '다']\n",
      "['다', '나', '가', 'c', 'b', 'a']\n",
      "\n"
     ]
    }
   ],
   "source": [
    "#정렬 -- 오름차순, 내림차순\n",
    "# sort() // sort(reverse=True)\n",
    "\n",
    "l = [4,2,5,1,3] #랜던한 숫자의 배열\n",
    "#오름차순\n",
    "#print(l.sort()) :오류\n",
    "l.sort()\n",
    "print(l) #[1, 2, 3, 4, 5]\n",
    "\n",
    "#내림차순\n",
    "l = [4,2,5,1,3]\n",
    "l.sort(reverse=True) #오름차순으로 정렬하고 reverse해주기 \n",
    "print(l) #[5, 4, 3, 2, 1]\n",
    "\n",
    "l = ['b','a','c']\n",
    "l.sort()\n",
    "print(l)\n",
    "l.sort(reverse=True)\n",
    "print(l)\n",
    "\n",
    "l = ['b','a','c', '다','나','가']\n",
    "l.sort()\n",
    "print(l) #영어 우선, 다음 한국어\n",
    "l.sort(reverse=True)\n",
    "print(l) #['다', '나', '가', 'c', 'b', 'a']\n",
    "''' #문자열, 숫자 정렬 불가능 \n",
    "l = ['b','a','c', '다','나','가',3,1,2] #문자열, 숫자 정렬\n",
    "l.sort()\n",
    "print(1)\n",
    "1.sort(reverse = True)\n",
    "print(1)\n",
    "'''\n",
    "print()"
   ]
  },
  {
   "cell_type": "code",
   "execution_count": 225,
   "id": "31680de3-b5a6-43eb-9066-af9b3ede414b",
   "metadata": {},
   "outputs": [
    {
     "name": "stdout",
     "output_type": "stream",
     "text": [
      "8\n",
      "8\n",
      "2\n"
     ]
    }
   ],
   "source": [
    "str1 = \"Life is too short\"\n",
    "idx = str1.find(\"too\") #'too'의 첫번째 글자인 t의 인덱스를 찾는다\n",
    "print(idx) #8\n",
    "idx = str1.index(\"too\")\n",
    "print(idx)\n",
    "l1 =['Life', 'is', 'too', 'short']\n",
    "idx = l1.index('too') #요소의 위치\n",
    "print(idx)\n",
    "#idx = l1.find('too') find함수는 리스트에서 사용할 수 없다\n",
    "\n",
    "#2025.02.22 리스트 관련 함수\n",
    "### 리스트 indexing, slicing\n",
    "### 리스트 추가 함수 : append, insert, extend \n",
    "### 리스트 삭제 함수 : del, remove, pop, clear\n",
    "### 리스트 정렬 함수 : sort, sort(reverse=True)\n",
    "### 리스트 검색 함수 : index"
   ]
  },
  {
   "cell_type": "code",
   "execution_count": 235,
   "id": "4e0e8dcd-cc3d-408b-8726-5b6600a2aa5c",
   "metadata": {},
   "outputs": [
    {
     "name": "stdout",
     "output_type": "stream",
     "text": [
      "[1, 2, 3, 4]\n",
      "(1, 2, 3, 4)\n",
      "()\n",
      "32\n",
      "2\n",
      "(2,)\n",
      "(1, 2)\n",
      "1 2 3 4 5 6\n",
      "5\n",
      "(5,)\n",
      "(5,)\n"
     ]
    }
   ],
   "source": [
    "# 리터널: 자연수 : 정수\n",
    "#      :  자연수 : 실수\n",
    "#      : 자연어 (\" \", '', \"\"\" \"\"\" ,''' ''')\n",
    "# 리스트 : []  - 대괄호\n",
    "# 튜플 : () - 소괄호\n",
    "\n",
    "l = [1,2,3,4]\n",
    "print(l) #[1, 2, 3, 4]\n",
    "\n",
    "t = (1,2,3,4)\n",
    "print(t) # (1, 2, 3, 4)\n",
    "\n",
    "l = [] # 빈 리스트\n",
    "t = () # 빈 튜플\n",
    "print(t) # ()\n",
    " \n",
    "print((3+5)*4) # () : 최우선연산자 (튜플과 같은 기호)\n",
    "print((2)) # 결과값 2 // 튜플이 아니라 최우션연산자\n",
    "\n",
    "#튜플과 최우선연산자를 구별하는 방법은 , (콤마) 를 사용\n",
    "print((2,)) # 결과값 (2,) // 튜플\n",
    "print((1,2)) # 결과값 (1, 2) // 튜플\n",
    "\n",
    "print(1,2,3,4,5,6) # 결과물 1 2 3 4 5 6 // 집합 : set -- 소괄호도 없고, 콤마도 없는 것\n",
    "print( 3 + 2,) #결과값 5 ????\n",
    "print(( 3 + 2,)) #결과값 5, // 튜플\n",
    "t = ( 3 + 2,)\n",
    "print(t) # 결과값 (5,)\n"
   ]
  },
  {
   "cell_type": "code",
   "execution_count": 250,
   "id": "6820079b-15d4-4533-8a77-419b2dcf9101",
   "metadata": {},
   "outputs": [
    {
     "name": "stdout",
     "output_type": "stream",
     "text": [
      "(1, 2, 3, 4, 5, 6)\n",
      "{1, 2, 3, 4, 5, 6}\n",
      "too\n",
      "too\n",
      "['too', 'short']\n",
      "('too', 'short')\n",
      "['Your leg', 'is', 'too', 'short']\n",
      "('Life', 'is', 'too', 'short')\n",
      "2\n",
      "4\n",
      "\n"
     ]
    }
   ],
   "source": [
    "#어떠한 자료형이 들어갈 수 있는 튜플과 리스트 \n",
    "#튜플은 리스트와 같다\n",
    "\n",
    "t = () #빈 리스트 (*꼭 기억하기)\n",
    "t = (1,2,3,4,5) #정수 튜플\n",
    "t = (10.5,20.5,3.8) #실수 튜플\n",
    "t = ('a','b','c','d','이숭무') #문자열 튜플\n",
    "t = (10,\"이숭무\",10.5) #혼합형 튜플 (*가장 많이 사용하는 리스트)\n",
    "t = (10,\"이숭무\",10.5, [1,2,3]) #리스트를 포함한 혼합형 튜플\n",
    "t = (10,\"이숭무\",10.5, (1,2,3)) #튜플을 포함한 혼합형 튜플\n",
    "t = ([1,2,3,4],[5,6,7]) #리스트를 포함한 튜플\n",
    "t = ([1,2,3,4],(5,6,7)) #튜플과 리스트를 포함한 튜플\n",
    "\n",
    "#소괄호 없이 초기화된 변수는 튜플이다 \n",
    "t = 1,2,3,4,5,6 \n",
    "print(t) # 결과값 (1, 2, 3, 4, 5, 6)\n",
    "\n",
    "#집합으로 만들어주는 방법 \n",
    "s = set((1,2,3,4,5,6))\n",
    "print(s) # {1, 2, 3, 4, 5, 6}\n",
    "\n",
    "l1 = ['Life', 'is', 'too', 'short']\n",
    "#        0     1       2      3\n",
    "\n",
    "print(l1[2])\n",
    "t1 = ('Life', 'is', 'too', 'short')\n",
    "print(t1[2])\n",
    "print(l1[2:2+2])\n",
    "print(t1[2:2+2])\n",
    "l1[0] = 'Your leg'\n",
    "print(l1)\n",
    "print(t1)\n",
    "#t1[0] = 'Your leg'\n",
    "#print(t1[0])\n",
    "#리스트는 요소의 값을 변경할 수 있지만, 튜플은 요소의 값을 변경할 수 없다\n",
    "#튜플은 추가, 삭제도 안된다.\n",
    "#튜플은 파이썬의 상수 (=변하지 않는 값)\n",
    "#튜플은 indexing만 가능\n",
    "result = t1.index('too')\n",
    "print(result) # 2\n",
    "print(len(t1)) # 4 s\n",
    "\n",
    "'''\n",
    "#del t1[0] - 오류\n",
    "튜플은 indexing, slicing, index(), len() 함수만 사용가능하다\n",
    "#리터널도 상수\n",
    "값이 바뀌지 않는 것을 사용하기 위해 튜플 사용\n",
    "'''\n",
    "print()"
   ]
  },
  {
   "cell_type": "code",
   "execution_count": 251,
   "id": "ed8ec100-52b6-49df-8ae5-1e7651122f99",
   "metadata": {},
   "outputs": [
    {
     "name": "stdout",
     "output_type": "stream",
     "text": [
      "0\n"
     ]
    }
   ],
   "source": [
    "str2 = \"hello\"\n",
    "l2 = [1,2,3,3,4,5,3]\n",
    "t2 = (1,2,3,3,4,5,3)\n",
    "print(str2.count(\"1\"))\n",
    "-- 미완료"
   ]
  },
  {
   "cell_type": "code",
   "execution_count": 266,
   "id": "2defad04-1f8e-4134-86ec-4929ce81621a",
   "metadata": {},
   "outputs": [
    {
     "name": "stdout",
     "output_type": "stream",
     "text": [
      "('Life', 'is', 'too', 'short')\n",
      "Life\n",
      "Lifeis\n",
      "Life\n",
      "Lifeis\n",
      "['Life']\n",
      "('Life',)\n",
      "['Life', 'too']\n",
      "('Life', 'too')\n",
      "('Life', 'is', 'Life', 'is')\n"
     ]
    }
   ],
   "source": [
    "l1 = ['Life', 'is', 'too', 'short']\n",
    "t1 = ('Life', 'is', 'too', 'short') #('Life', 'is', 'too', 'short')\n",
    "t1 = 'Life', 'is', 'too', 'short' #('Life', 'is', 'too', 'short')\n",
    "print(t1)\n",
    "\n",
    "print(l1[0]) # life 문자열 \n",
    "print(l1[0] + l1[1]) #문자열 life + 문자열 is // Lifeis\n",
    "print(t1[0]) #문자열 life\n",
    "print(t1[0] + t1[1]) #문자열 + 문자열 // Lifeis\n",
    "print(l1[0:1])#slicing - 리스트는 리스트로 출력 // ['Life']\n",
    "print(t1[0:1]) #slicing - 튜플은 튜플로 출력 // ('Life',) #최우선연산자와 구별위해 콤마\n",
    "#print(l1[0:1] + l[2]) #리스트 + 문자열 ???\n",
    "print(l1[0:1] + l1[2:2+1]) #리스트 + 리스트\n",
    "#print(t1[0:1] + t1[2]) 튜플 + 문자열\n",
    "print(t1[0:1] + t1[2:2+1]) #('Life', 'too')\n",
    "print(t1[0:2] * 2)  # ('Life', 'is', 'Life', 'is')"
   ]
  },
  {
   "cell_type": "code",
   "execution_count": 291,
   "id": "125a3f85-003e-459a-8fb1-43928fac9c6f",
   "metadata": {},
   "outputs": [
    {
     "name": "stdout",
     "output_type": "stream",
     "text": [
      "['h', 'e', 'l', 'l', 'o']\n",
      "('h', 'e', 'l', 'l', 'o')\n",
      "('h', 'e', 'l', 'l', 'o')\n",
      "('h', 'e', 'l', 'l', 'o')\n",
      "['h', 'e', 'l', 'l', 'o']\n",
      "['h', 'e', 'l', 'l', 'o']\n",
      "hello\n",
      "('h', 'e', 'l', 'l', 'o')\n",
      "Lifeistooshort\n",
      "Life is too short\n",
      "Life:is:too:short\n",
      "h:e:l:l:o\n",
      "Life is too short\n",
      "jerry10\n",
      "30\n",
      "10\n"
     ]
    }
   ],
   "source": [
    "#형변화 : inst, str, list, tuple\n",
    "\n",
    "str3 = \"hello\"\n",
    "l3 = list(str3)\n",
    "print(l3) # ['h', 'e', 'l', 'l', 'o']\n",
    "t3 = tuple(str3)\n",
    "print(t3) #('h', 'e', 'l', 'l', 'o')\n",
    "print(t3) #('h', 'e', 'l', 'l', 'o')\n",
    "l3 = list(t3)\n",
    "print(t3) #('h', 'e', 'l', 'l', 'o')\n",
    "\n",
    "#\n",
    "t3 = tuple(l3)\n",
    "print(l3) #['h', 'e', 'l', 'l', 'o']\n",
    "\n",
    "str4 = str(l3)\n",
    "print(str4) #['h', 'e', 'l', 'l', 'o']\n",
    "#문자열인지 확인하는 방법 문자를 연산해본다. print(str4 + 이숭무)\n",
    "str4 = \"\".join(l3)\n",
    "print(str4) #결과값 hello\n",
    "str4 = \"\".join(t3)\n",
    "print(t3) #('h', 'e', 'l', 'l', 'o')\n",
    "\n",
    "l1 = ['Life', 'is', 'too', 'short']\n",
    "str4 = \"\".join(l1)\n",
    "print(str4) # Lifeistooshort\n",
    "str4 = \" \".join(l1)\n",
    "print(str4) #Life is too short\n",
    "str4 = \":\".join(l1)\n",
    "print(str4) #Life:is:too:short\n",
    "\n",
    "#str() 문자열 변환함수는 리스트나 튜플에서는 자체가 모두 문자열로 변환이 된다\n",
    "#리스트나 튜플 안에 있는 요소들은 문장으로  붙여서 출력하려면, \"\".join을 사용한다.\n",
    "\n",
    "str3 = \"hello\"\n",
    "str4 =\":\".join(str3)\n",
    "print(str4) # 결과값 h:e:l:l:o 문자 사이 사이에 콜론이 들어가게 됨 \n",
    "l1 = ['Life', 'is', 'too', 'short']\n",
    "print(\" \".join(l1)) #Life is too short\n",
    "\n",
    "#str() 숫자를 문자열로 바꾸기\n",
    "#int() 문자열을 숫자로 바꾸기\n",
    "print(\"jerry\" + str(10)) # jerry10\n",
    "print(10+int(\"20\")) #30\n",
    "\n",
    "# 세미 콜론은 명령문을 한 줄로 작성하기 위해서 사용\n",
    "i = 10 ; print(i) # 10"
   ]
  },
  {
   "cell_type": "code",
   "execution_count": 297,
   "id": "33a46123-88f8-4cc7-9b18-32894c50756d",
   "metadata": {},
   "outputs": [
    {
     "name": "stdout",
     "output_type": "stream",
     "text": [
      "\n",
      "3\n",
      "tom\n",
      "jerry\n"
     ]
    }
   ],
   "source": [
    "'''\n",
    "    리터널(상수) : 자연수, 자연어\n",
    "    리스트 : []\n",
    "    튜플 : (,)\n",
    "    딕셔너리 : {\"단어\": \"내용\",...} 중괄호\n",
    "             : {\"키\" : \"값\",...} : json, map\n",
    "'''\n",
    "print()\n",
    "\n",
    "l = [] #빈 리스트\n",
    "t = () #빈 튜플\n",
    "dic = {} #빈 딕셔너리\n",
    "dic = {1 : \"jerry\" , 2: \"tom\", 3: \"dooley\"}\n",
    "l4 = [1,2,3,4]\n",
    "#     0 1 2 3 \n",
    "print(l4[2]) #3\n",
    "print(dic[2]) #tom // 딕셔너리는 인덱스를 사용하지 않는다\n",
    "dic = {\"name\": \"jerry\",\"age\" : 5, \"height\" : 5}\n",
    "print(dic[\"name\"]) #딕셔너리는 값을 가져올 때 키를 사용한다"
   ]
  },
  {
   "cell_type": "code",
   "execution_count": 308,
   "id": "316a77a2-0c49-4ed0-b29b-f159f0d5df85",
   "metadata": {},
   "outputs": [
    {
     "name": "stdout",
     "output_type": "stream",
     "text": [
      "jerry의 나이는 5살 이고 키는 3cm 입니다\n",
      "jerry의 나이는 5살 이고 키는 3cm 입니다\n",
      "jerry의 나이는 5살 이고 키는 3cm 입니다\n",
      "jerry\n",
      "jerry의 나이는 5살 이고 키는 3cm 입니다\n"
     ]
    }
   ],
   "source": [
    "print(\"jerry의 나이는 5살 이고 키는 3cm 입니다\")\n",
    "#리터널 변수 사용\n",
    "name = \"jerry\"\n",
    "age = \"5\"\n",
    "height = 3\n",
    "\n",
    "#f문자 포매팅 사용해서 출력하세요\n",
    "print(f\"{name}의 나이는 {age}살 이고 키는 {height}cm 입니다\")\n",
    "\n",
    "#리스트 사용\n",
    "l4 = [\"jerry\", 5 , 3]\n",
    "print(f\"{l4[0]}의 나이는 {l4[1]}살 이고 키는 {l4[2]}cm 입니다\")\n",
    "\n",
    "d = {'name' : 'jerry', 'age' : 5, 'height' : 3}\n",
    "print(d['name'])\n",
    "print(f\"{d['name']}의 나이는 {d['age']}살 이고 키는 {d['height']}cm 입니다\")"
   ]
  },
  {
   "cell_type": "code",
   "execution_count": 317,
   "id": "0c326d0e-1894-4e2f-ba78-9c0322c31453",
   "metadata": {},
   "outputs": [
    {
     "name": "stdout",
     "output_type": "stream",
     "text": [
      "[1, 2, 3, 4]\n",
      "1\n",
      "5\n",
      "{'name': 'jerry', 2: 50, 'height': 3}\n",
      "{'name': 'jerry', 2: 50, 'height': 3, 'addr': '용산'}\n",
      "r\n",
      "r\n",
      "e\n"
     ]
    }
   ],
   "source": [
    "l = [1,2,3,4]\n",
    "print(l) #[1, 2, 3, 4]\n",
    "l[1] = 10; #???\n",
    "print(1)\n",
    "dic = {'name' : 'jerry', 2 : 5, 'height' : 3}\n",
    "print(dic[2]) # 5\n",
    " \n",
    "#나이를 50으로 바꾼다\n",
    "dic[2] = 50\n",
    "print(dic) # {'name': 'jerry', 2: 50, 'height': 3}\n",
    "#l[4] = 20; #IndexError: list assignment index out of range\n",
    "dic[\"addr\"] = \"용산\"\n",
    "print(dic) #\n",
    "\n",
    "# (중요)딕셔너리는 키가 있으면, 수정이 되고, 키가 없으면 추가가 된다\n",
    "# 딕셔너리는 키로 구분하므로 키의 중복을 허용하지 않는다\n",
    "dic = {1 : \"j\" , 1: \"e\", 1: \"r\"}\n",
    "print(dic[1]) # r  // 키가 중복된 경우, 마지막 값을 갖는다\n",
    "dic = {1: \"j\"}\n",
    "dic[1] = \"r\"\n",
    "print(dic[1]) # 결과값 r \n",
    "\n",
    "dic = {1 : \"j\" , 1: \"e\", 2: \"r\"}\n",
    "print(dic[1]) #결과값 e"
   ]
  },
  {
   "cell_type": "code",
   "execution_count": 341,
   "id": "73ce1790-6d33-47d5-ba46-1fd08cf53182",
   "metadata": {},
   "outputs": [
    {
     "name": "stdout",
     "output_type": "stream",
     "text": [
      "e\n",
      "jerry\n",
      "None\n",
      "서울\n",
      "jerry\n",
      "5\n",
      "900\n",
      "1000\n",
      "1400\n"
     ]
    }
   ],
   "source": [
    "# 딕셔너리 함수\n",
    "dic1 = {'name' : 'jerry', 'age' : 5, 'height' : 3}\n",
    "print(dic1['name'][1]) # 결과값 e\n",
    "#결과가 문자열이기 때문에 문자열에 대한 인덱싱이 가능해 e 라는 값이 출력이 된 것 \n",
    "\n",
    "print(dic1['name']) #키를 이용해서 값을 가져오기\n",
    "\n",
    "#get() 함숨를 이용해서 값을 출력 →\n",
    "# print(dic1.get((['name'])) : 오류 _IncompleteInputError: incomplete input\n",
    "# print(dic1['addr']) # 없는 키로 인해 오류KeyError: 'addr' \n",
    "print(dic1.get('addr')) #None 으로 출력 #키가 없으면 발생하는 오류를 막기 위해서 \n",
    "print(dic1.get('addr','서울')) # 키가 있으면 키 값으로 출력, 키가 없으면 서울로 출력\n",
    "print(dic1.get('name','홍길동')) #키가 있으면 jerry 로 출력되나, 키가 없으면 홍길동으로 출력\n",
    "print(dic1.get('age', 0)) # 키가 있으면 5로 출력되나, 키가 없으면 0으로 출력\n",
    "\n",
    "dic1 = {'classic' : 500, 'pop' : 700, 'jazz' : 900}\n",
    "dic2 = {'classic' : 500, 'pop' : 700}\n",
    "#print(dic1['jazz'] + dic['jazz']) -- dic2에 jazz가 없어 오류\n",
    "print(dic1.get('jazz', 0 ) + dic2.get('jazz',0)) #900 // 오류 없이 계산 완료\n",
    "print(dic1.get('classic', 0) + dic2.get('classic',0)) #1000\n",
    "print(dic1.get('pop', 0) + dic2.get('pop',0)) #1400"
   ]
  },
  {
   "cell_type": "code",
   "execution_count": 350,
   "id": "94699f53-001f-4c08-a8fa-06baba254eb9",
   "metadata": {},
   "outputs": [
    {
     "name": "stdout",
     "output_type": "stream",
     "text": [
      "[1, 3, 4]\n",
      "{'name': 'jerry', 'height': 3}\n",
      "[]\n",
      "{}\n",
      "jerry\n",
      "{'age': 5, 'height': 3}\n"
     ]
    }
   ],
   "source": [
    "#요소 삭제 \n",
    "d = {'name' : 'jerry', 'age' : 5, 'height' : 3}\n",
    "l = [1,2,3,4] #del, remove, pop, clear\n",
    "#    0 1 2 3\n",
    "#리스트에서 index를 이용해서 2를 삭제하시오\n",
    "del l[1]\n",
    "print(l) #[1, 3, 4]\n",
    "\n",
    "del d['age']\n",
    "print(d) # {'name': 'jerry', 'height': 3}\n",
    "\n",
    "#slicing을 이용해서 원하는 부분 삭제 가능\n",
    "del l[:]\n",
    "print(l) #[]\n",
    "\n",
    "l.clear()\n",
    "d.clear()\n",
    "print(d) #{}\n",
    "\n",
    "d = {'name' : 'jerry', 'age' : 5, 'height' : 3}\n",
    "result = d.pop('name')\n",
    "print(result)\n",
    "print(d)\n",
    "\n",
    "#딕셔너리는 삭제 : clear, pop(키), clear"
   ]
  },
  {
   "cell_type": "code",
   "execution_count": 354,
   "id": "190c1c78-d3b6-4f0e-a5f7-8076ddf8a698",
   "metadata": {},
   "outputs": [
    {
     "name": "stdout",
     "output_type": "stream",
     "text": [
      "dict_keys(['name', 'age', 'height'])\n",
      "dict_values(['jerry', 5, 3])\n",
      "dict_items([('name', 'jerry'), ('age', 5), ('height', 3)])\n"
     ]
    }
   ],
   "source": [
    "# 딕셔너리에 있는 키를 가져오기\n",
    "d = {'name' : 'jerry', 'age' : 5, 'height' : 3}\n",
    "print(d.keys()) # dict_keys(['name', 'age', 'height'])\n",
    "\n",
    "# 딕셔너리에 있는 값을 가져오기\n",
    "print(d.values()) # dict_values(['jerry', 5, 3])\n",
    "\n",
    "# 키와 값을 튜플로 가져오기\n",
    "print(d.items())"
   ]
  },
  {
   "cell_type": "code",
   "execution_count": 360,
   "id": "2726ec3f-7990-4209-b911-854c90ebd87e",
   "metadata": {},
   "outputs": [
    {
     "name": "stdout",
     "output_type": "stream",
     "text": [
      "{1, 2, 3, 4, 5}\n",
      "{1, 2, 3, 4, 5}\n",
      "(1, 2, 3, 4, 5)\n",
      "{1, 2, 3, 4, 5}\n",
      "{'e', 'o', 'h', 'l'}\n"
     ]
    }
   ],
   "source": [
    "# 자연수 리터널\n",
    "# 자연어 리터널\n",
    "# 리스트\n",
    "# 튜플\n",
    "# 딕셔너리 : {} #빈 딕셔너리, {\"키\" : \"값\",...}\n",
    "# 집합 : {1,2,3,4,5} : 값을 갖고 있어야만 집합 (무조건 1나 이상의 값)\n",
    "\n",
    "s = {1,2,3,4,5}\n",
    "print(s) # {1, 2, 3, 4, 5}\n",
    "\n",
    "#리스트에 있는 값을 함수로 만들기\n",
    "s = set([1,2,3,4,5])\n",
    "print(s) # {1, 2, 3, 4, 5}\n",
    "\n",
    "#튜플에 있는 값을 함수로 만들기\n",
    "s = ((1,2,3,4,5))\n",
    "print(s) # (1, 2, 3, 4, 5)\n",
    "\n",
    "#집합은 중복값을 허용하지 않는다\n",
    "s= {1,2,2,3,3,4,5,5,5} \n",
    "print(s) # {1, 2, 3, 4, 5}\n",
    "\n",
    "str1 = \"hello\"\n",
    "#문자열을 집합으로 만들겠다\n",
    "s= set(str1)\n",
    "print(s) # {'e', 'o', 'h', 'l'} (중요) 집합은 순서를 갖지 않는다"
   ]
  },
  {
   "cell_type": "code",
   "execution_count": 397,
   "id": "2d9b9454-4dce-4451-94dc-cdfa20eefe51",
   "metadata": {},
   "outputs": [
    {
     "name": "stdout",
     "output_type": "stream",
     "text": [
      "{1, 2, 3, 4, 5, 6}\n",
      "{1, 2, 3, 4, 5, 6}\n",
      "{3, 4}\n",
      "{3, 4}\n",
      "{1, 2}\n",
      "{1, 2}\n",
      "{5, 6}\n",
      "{5, 6}\n",
      "{1, 2, 5, 6}\n"
     ]
    }
   ],
   "source": [
    "#합집합, 교집합, 차집합 (집합 2개 이상) \n",
    "s1 = {1,2,3,4}\n",
    "s2 = {3,4,5,6}\n",
    "\n",
    "#합집합\n",
    "print(s1.union(s2)) # {1, 2, 3, 4, 5, 6}\n",
    "print(s1 | s2) #파이프 표시로 쉽게 출력 // shift + won 표시 | = 파이프 라고 함\n",
    "      \n",
    "#교집합\n",
    "print(s1.intersection(s2)) #{3, 4}\n",
    "print(s1 & s2)\n",
    "\n",
    "#차집합\n",
    "print(s1.difference(s2)) #{1, 2}\n",
    "print(s1 - s2)\n",
    "print(s2.difference(s1)) #{5, 6}\n",
    "print(s2 - s1)\n",
    "\n",
    "#여집합 (꺽쇄 모양)\n",
    "print(s1 ^ s2)"
   ]
  },
  {
   "cell_type": "code",
   "execution_count": 383,
   "id": "ca201a07-5b98-4b21-b9e1-edc43969ab1a",
   "metadata": {},
   "outputs": [
    {
     "name": "stdout",
     "output_type": "stream",
     "text": [
      "[1, 2, 3, 4, 5, 6]\n",
      "{1, 2, 3, 4, 5}\n",
      "{1, 2, 3, 4, 5, 'apple'}\n",
      "{1, 2, 3, 4, 5, (6, 7, 8, 9), 'apple'}\n",
      "{1, 2, 3, 4, 5, (6, 7, 8, 9), 6, 7, 8, 9, 'apple'}\n",
      "{1, 2, 3, 4, 5, (6, 7, 8, 9), 6, 7, 8, 9, 10, 'apple', 11, 12}\n",
      "{1, 2, 3, 4, 5, (6, 7, 8, 9), 6, 7, 8, 9, 'apple', 11, 12}\n",
      "1\n",
      "set()\n"
     ]
    }
   ],
   "source": [
    "l = [1,2,3,4,5]\n",
    "#리스트요소 추가하기\n",
    "l.append (6)\n",
    "print(l) # [1, 2, 3, 4, 5, 6]\n",
    "s1 = {1,2,3,4}\n",
    "s1.add(5)\n",
    "print(s1) #{1, 2, 3, 4, 5}\n",
    "\n",
    "#집합에 문자열 추가\n",
    "s1.add('apple')\n",
    "print(s1) #{1, 2, 3, 4, 5, 'apple'}\n",
    "\n",
    "s1.add((6,7,8,9))\n",
    "print(s1) #{1, 2, 3, 4, 5, (6, 7, 8, 9), 'apple'} -- 6,7,8,9 요소로 삽입됨\n",
    "\n",
    "#한 번에 여러개 요소 추가 : 튜플, 리스트인자로 사용하여 추가한다 \n",
    "s1.update((6,7,8,9)) #튜플인자 사용\n",
    "print(s1) #{1, 2, 3, 4, 5, (6, 7, 8, 9), 6, 7, 8, 9, 'apple'}\n",
    "\n",
    "s1.update([10,11,12]) #리스트인자 사용\n",
    "print(s1)\n",
    "\n",
    "#집합에서 요소 하나 삭제하기\n",
    "#집합은 index가 없기 때문에 del을 사용할 수 없음\n",
    "s1.remove(10)\n",
    "print(s1) # {1, 2, 3, 4, 5, (6, 7, 8, 9), 6, 7, 8, 9, 'apple', 11, 12}\n",
    "# result = s1.pop('apple')  #TypeError: set.pop() takes no arguments (1 given)\n",
    "result = s1.pop()\n",
    "print(result)\n",
    "s1.clear()\n",
    "print(s1) #set()"
   ]
  },
  {
   "cell_type": "code",
   "execution_count": 388,
   "id": "ba2f495b-156d-4527-b94d-19940bd0754f",
   "metadata": {},
   "outputs": [
    {
     "name": "stdout",
     "output_type": "stream",
     "text": [
      "False\n",
      "10\n",
      "true\n"
     ]
    }
   ],
   "source": [
    "# 리터널\n",
    "# 리스트\n",
    "# 튜플\n",
    "# 딕셔너리\n",
    "# 집합\n",
    "# 부울 자료형 : True / Fallse\n",
    "i = 10 ; #1,....\n",
    "b = True #부울타입은 변수와 차별을 두기 위해 첫글자가 대문자\n",
    "b = False\n",
    "print(b) #False\n",
    "true = 10 #정수형 변수\n",
    "b = true\n",
    "print(b) # 10\n",
    "\n",
    "b = \"true\" #문자열\n",
    "print(b) # true #부울타입은 변수와 차별을 두기 위해 첫글자가 대문자"
   ]
  },
  {
   "cell_type": "code",
   "execution_count": 403,
   "id": "18f56756-59a5-4b3d-bb98-a35703831b7b",
   "metadata": {},
   "outputs": [
    {
     "name": "stdout",
     "output_type": "stream",
     "text": [
      "True\n",
      "False\n",
      "True\n",
      "True\n",
      "False\n",
      "False\n",
      "False\n",
      "12\n",
      "pineapple\n",
      "True\n",
      "False\n",
      "평년\n"
     ]
    }
   ],
   "source": [
    "# 부울 타입을 사용하는 때\n",
    "# 논리연산\n",
    "print( True and True )\n",
    "print( False and False )\n",
    "b1 = True\n",
    "b2 = True\n",
    "print( b1 and b2 ) # 둘 다 참일 때 and\n",
    "print( b1 or b2 )  # 하나라도 참일 때 or\n",
    "# 부울 타입의 결과를 가져오는 연산자는 비교(관계)연산자\n",
    "# 크다 < , 작다 > , 크거나 같다 <=, 작거나 같다 >=, 같지 않다 != , 같다 == (대입과 구별하기 위해)\n",
    "a = 10\n",
    "b = 20 \n",
    "c = 30\n",
    "d = 15\n",
    "print(a > b) # 부울 타입 결과 False\n",
    "print(c <= d) \n",
    "print(a > b and c <= d) #부울 타입 결과 False\n",
    "# 논리연산을 하는 경우에는 비교연산자와 같이 사용. 부울 타입인 결과값을 갖고 오기 위해\n",
    "#하나의 연산만 하는 경우\n",
    "print(10+1*2)\n",
    "print(\"pine\"+\"apple\")\n",
    "\n",
    "#문제1. 합격하기 위해서는 모든 과목이 40점이상이고, 평균이 60점 이상이어야 한다\n",
    "mat = 40\n",
    "eng = 80\n",
    "#논리연산은 True 또는 False를 이용한 연산 : and , or\n",
    "#True와 False인 부울타입인 결과를 얻기 위해서 사용되는 비교연산\n",
    "result = mat>= 40 and eng>=40 and (mat+eng) / 2 >=60\n",
    "print(result) #True\n",
    "\n",
    "#문제2. 4년마다 한번씩 윤년이지만 100년마다는 윤년이 아니라고 한다. 그렇지만 400년(4와 100의 공약수) 마다는 윤년이다. 그렇다면 2100년은 윤년인가? 평년인가?\n",
    "year = 2200\n",
    "result = year % 4 == 0 and year % 100 != 0 or year % 400 == 0\n",
    "print(result) #False\n",
    "#and를 하게 되면, year % 4 == 0 과 동일한 얘기이므로 or를 사용하여야 한다\n",
    "\n",
    "if  year % 4 == 0 and year % 100 != 0 or year % 400 == 0:\n",
    "    print (\"윤년\")\n",
    "else:\n",
    "    print(\"평년\")"
   ]
  },
  {
   "cell_type": "code",
   "execution_count": 424,
   "id": "4790f903-6fb7-4fc2-b72c-f6dd91ee9c72",
   "metadata": {},
   "outputs": [
    {
     "name": "stdout",
     "output_type": "stream",
     "text": [
      "True\n",
      "False\n",
      "True\n",
      "True\n",
      "False\n",
      "True\n",
      "False\n",
      "True\n",
      "False\n",
      "True\n",
      "False\n",
      "False\n",
      "참\n"
     ]
    }
   ],
   "source": [
    "# 변환함수 : int(), str(), float(),list(), tuple(), set()\n",
    "# bool() : 모든 데이터를 부울타입으로 형변환\n",
    "print(bool(\"jerry\")) # 모든 문자열은 True로 변환\n",
    "print(bool(\"\")) # blank는 False로 변환\n",
    "print(bool(1)) # 숫자는 True로 변환\n",
    "print(bool(-100)) # 음수도 True로 변환\n",
    "print(bool(0)) # 0은 False로 변환 # 0 이 아닌 모든 숫자는 True\n",
    "print(bool([1,2,3])) #리스트는 True\n",
    "print(bool([])) # 빈 리스트는 False\n",
    "print(bool((1,2,3))) # 튜풀은 True\n",
    "print(bool(())) #빈 튜풀은 False\n",
    "print(bool({\"apple\"})) # 딕셔너리는 True\n",
    "print(bool({})) # 빈 딕셔너리 False\n",
    "print(bool(None)) # False\n",
    "\n",
    "if \"jerry\":\n",
    "    print(\"참\")\n",
    "else:\n",
    "    print(\"거짓\")"
   ]
  },
  {
   "cell_type": "code",
   "execution_count": 435,
   "id": "107c1b2e-dd10-4c03-aa2f-b24604d9a873",
   "metadata": {},
   "outputs": [
    {
     "name": "stdout",
     "output_type": "stream",
     "text": [
      "<class 'int'>\n",
      "<class 'float'>\n",
      "<class 'str'>\n",
      "<class 'list'>\n",
      "<class 'tuple'>\n",
      "<class 'set'>\n",
      "<class 'dict'>\n"
     ]
    }
   ],
   "source": [
    "#변수가 가지고 있는 자료형을 확인 함수 type()\n",
    "i = 10\n",
    "f = 109.5\n",
    "str1 = \"apple\"\n",
    "l = [1,2,3,4] \n",
    "t = (1,2,3,4)\n",
    "s = {1,2,3,4}\n",
    "d = {1:\"j\"}\n",
    "\n",
    "print(type(i)) # <class 'int'>\n",
    "print(type(f)) # <class 'float'>\n",
    "print(type(str1)) # <class 'str'>\n",
    "print(type(l)) # <class 'list'>\n",
    "print(type(t)) # <class 'tuple'>\n",
    "print(type(s)) # <class 'set'>\n",
    "print(type(d)) # <class 'dict'>"
   ]
  },
  {
   "cell_type": "code",
   "execution_count": 445,
   "id": "398dad1b-b2f1-47e1-bfdf-6f0bc5459b27",
   "metadata": {},
   "outputs": [
    {
     "name": "stdout",
     "output_type": "stream",
     "text": [
      "10 20 30\n",
      "10 20 30\n",
      "10 20 30\n",
      "10 20 30\n",
      "10 20 30\n",
      "10 20 30\n",
      "10 20 30\n",
      "10 20 30\n",
      "10 2.0 jerry\n"
     ]
    }
   ],
   "source": [
    "#변수를 만드는 여러가지 방법\n",
    "\n",
    "#방법1. \n",
    "i = 10\n",
    "j = 20\n",
    "\n",
    "#방법2.\n",
    "i, j, k = 10, 20 , 30\n",
    "print (i,j,k) #10 20 30\n",
    "\n",
    "i, j, k = (10, 20 , 30)\n",
    "print(i,j,k) #10 20 30\n",
    "\n",
    "(i, j, k) = (10, 20 , 30)\n",
    "print(i, j, k) #10 20 30\n",
    "\n",
    "(i, j, k) = 10,20,30\n",
    "print(i, j, k) #10 20 30\n",
    "\n",
    "i, j, k = [10, 20 , 30]\n",
    "print(i,j,k)\n",
    "\n",
    "[i, j, k] = [10, 20 , 30]\n",
    "print(i, j, k)\n",
    "\n",
    "[i, j, k] = (10, 20 , 30)\n",
    "print(i, j, k)\n",
    "\n",
    "(i, j, k) = [10,20,30]\n",
    "print(i, j, k)\n",
    "\n",
    "a, b, c = 10 , 2.0, \"jerry\"\n",
    "print(a,b,c)"
   ]
  },
  {
   "cell_type": "code",
   "execution_count": 448,
   "id": "90ed7a58-8e03-4ccf-b7fd-ad9da54a0167",
   "metadata": {},
   "outputs": [
    {
     "name": "stdout",
     "output_type": "stream",
     "text": [
      "20 10\n",
      "10 20\n"
     ]
    }
   ],
   "source": [
    "#값 서로 교환하기\n",
    "a = 10\n",
    "b = 20\n",
    "temp = a;\n",
    "a =  b\n",
    "b = temp\n",
    "print(a,b) #a = 20 b = 10\n",
    "\n",
    "a, b = b, a #값을 서로 바꾸기 -- 파이썬 방식 (추천)\n",
    "print(a,b) #10 20"
   ]
  },
  {
   "cell_type": "code",
   "execution_count": 453,
   "id": "6caaa9bc-14c4-4003-b7db-e190bac9d5c0",
   "metadata": {},
   "outputs": [
    {
     "name": "stdout",
     "output_type": "stream",
     "text": [
      "[10, 20, 30]\n",
      "[10, 20, 30]\n",
      "[10, 200, 30]\n",
      "[10, 200, 30]\n",
      "[10, 200, 30]\n",
      "[10, 20, 30]\n",
      "[10, 200, 30]\n"
     ]
    }
   ],
   "source": [
    "l1 = [10,20,30]\n",
    "l2 = l1\n",
    "print(l1)\n",
    "print(l2)\n",
    "l2[1] = 200 #리스트일 경우에는 = 을 사용하지 말자\n",
    "print(l2)\n",
    "print(l1) #한 개만 바뀌어도 다같이 바뀜\n",
    "\n",
    "l2 = l1[:] #리스트일 경우에는 [:] 으로 값 추가해주기\n",
    "print(l2)\n",
    "l2[1] = 20\n",
    "print(l2)\n",
    "print(l1) # l1은 여기서 값이 바뀌지 않았음 [10, 200, 30]"
   ]
  }
 ],
 "metadata": {
  "kernelspec": {
   "display_name": "Python 3 (ipykernel)",
   "language": "python",
   "name": "python3"
  },
  "language_info": {
   "codemirror_mode": {
    "name": "ipython",
    "version": 3
   },
   "file_extension": ".py",
   "mimetype": "text/x-python",
   "name": "python",
   "nbconvert_exporter": "python",
   "pygments_lexer": "ipython3",
   "version": "3.13.2"
  }
 },
 "nbformat": 4,
 "nbformat_minor": 5
}
