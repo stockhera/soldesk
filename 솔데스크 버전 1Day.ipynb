{
 "cells": [
  {
   "cell_type": "code",
   "execution_count": 9,
   "id": "2f79985b-8ee0-4d0a-8591-91a9b79780cd",
   "metadata": {},
   "outputs": [
    {
     "name": "stdout",
     "output_type": "stream",
     "text": [
      "9\n"
     ]
    }
   ],
   "source": [
    "pip install jupyter  #설치\n",
    "pip uninstall jupyter #삭제\n",
    "\n",
    "juoyter notbook # 실행  또는 juoyter-notbook"
   ]
  },
  {
   "cell_type": "code",
   "execution_count": null,
   "id": "9b3c84c7-e3ab-40c2-b23c-1805c1aecb59",
   "metadata": {},
   "outputs": [],
   "source": []
  },
  {
   "cell_type": "code",
   "execution_count": 12,
   "id": "41c9ffab-9481-47da-81d9-3acc7340984d",
   "metadata": {},
   "outputs": [
    {
     "name": "stdout",
     "output_type": "stream",
     "text": [
      "6\n",
      "9\n",
      "6\n",
      "9\n"
     ]
    }
   ],
   "source": [
    "# 파이썬은 행단위 언어이다.\n",
    "print(3 + 3)\n",
    "print(3 * 3)\n",
    "print(3 + 3); print(3 * 3)"
   ]
  },
  {
   "cell_type": "code",
   "execution_count": 14,
   "id": "91ceb0a5-0436-403d-b559-c9ff3e69633b",
   "metadata": {},
   "outputs": [
    {
     "name": "stdout",
     "output_type": "stream",
     "text": [
      "10\n",
      "20\n"
     ]
    }
   ],
   "source": [
    "a = 10\n",
    "'''\n",
    "# 파이썬 기본 자료형\n",
    "# 리터널 : 숫자(자연수) : 정수 : 10, 54 , 5\n",
    "#                      : 실수 : 10.1, 20.5\n",
    "#         문자(자연어) : 한국어, 영어, 프랑스어 : 가 , apple\n",
    "'''\n",
    "a = 10 # a는 변수 :  값을 저장하기 위한 문자 : 등호에서 왼쪽에 있는 문자.\n",
    "print(a)\n",
    "print(10 + a)"
   ]
  },
  {
   "cell_type": "code",
   "execution_count": 16,
   "id": "e98f8fb8-05b1-4c98-afe7-991a00407ce7",
   "metadata": {},
   "outputs": [
    {
     "name": "stdout",
     "output_type": "stream",
     "text": [
      "10\n",
      "20\n"
     ]
    }
   ],
   "source": [
    "print(a)\n",
    "a = 20\n",
    "print(a)\n",
    "# 순차적 프로그래밍 언어\n",
    "# 변수는 오로지 하나의 값만 저장한다."
   ]
  },
  {
   "cell_type": "code",
   "execution_count": 20,
   "id": "ace4b507-9238-4dde-8563-660b266018e4",
   "metadata": {},
   "outputs": [
    {
     "name": "stdout",
     "output_type": "stream",
     "text": [
      "10\n"
     ]
    }
   ],
   "source": [
    "j = 10 # 변수는 초기값을 가져야 한다.\n",
    "print(j)"
   ]
  },
  {
   "cell_type": "code",
   "execution_count": null,
   "id": "1b7bb0a8-3614-47ff-82fc-683aa807c8c7",
   "metadata": {},
   "outputs": [],
   "source": [
    "i = 10 # i라는 변수는 정수리터널값을 저장\n",
    "i = 10.1 # i라는 변수는 실수리터널을 저장"
   ]
  },
  {
   "cell_type": "code",
   "execution_count": 32,
   "id": "161c8b7c-65d2-4daa-9a6f-d783d447de77",
   "metadata": {},
   "outputs": [
    {
     "name": "stdout",
     "output_type": "stream",
     "text": [
      "30\n",
      "-10\n",
      "200\n",
      "0.5\n",
      "1\n",
      "3\n",
      "3\n",
      "1000\n",
      "10\n",
      "20\n"
     ]
    }
   ],
   "source": [
    "# 자연수 리터널이 사용하는 연산자 : + , - , * , / , %, // , **\n",
    "i = 10\n",
    "j = 20\n",
    "print(i + j)\n",
    "print(i - j)\n",
    "print(i * j)\n",
    "print(i / j)\n",
    "# 나머지 \n",
    "print(10 % 3)\n",
    "#  몫\n",
    "print(10 // 3)\n",
    "k = 3\n",
    "print(i // k)\n",
    "# 제곱승\n",
    "print(10 ** 3)\n",
    "\n",
    "이숭무 = 10\n",
    "print(이숭무)\n",
    "이숭무 = j # j가 가진 값을 이숭무라는 변수에 대입\n",
    "print(이숭무)"
   ]
  },
  {
   "cell_type": "code",
   "execution_count": 41,
   "id": "a1c5681f-5c9b-46a0-85ed-5dd3571bd245",
   "metadata": {},
   "outputs": [
    {
     "name": "stdout",
     "output_type": "stream",
     "text": [
      "20\n",
      "이숭무\n",
      "이숭무\n",
      "<class 'int'>\n",
      "<class 'str'>\n",
      "10\n",
      "10.1\n",
      "이숭무\n"
     ]
    }
   ],
   "source": [
    "# 자연어 리터널 : 문자열 : \"이숭무\" , '이숭무' : \"\" ,''\n",
    "str1 = 이숭무\n",
    "print(str1)\n",
    "str1 = \"이숭무\"\n",
    "print(str1)\n",
    "str1 = '이숭무'\n",
    "print(str1)\n",
    "i = 10 # 숫자 리터널\n",
    "str1 = \"10\" #  문자열 리터널\n",
    "#print(10 + str1) #TypeError: unsupported operand type(s) for +: 'int' and 'str'\n",
    "print(type(i))\n",
    "print(type(str1))\n",
    "i = 10\n",
    "print(i)\n",
    "i = 10.1\n",
    "print(i)\n",
    "i = \"이숭무\"\n",
    "print(i)"
   ]
  },
  {
   "cell_type": "code",
   "execution_count": 46,
   "id": "c7582ca0-de2e-493c-a85c-9a30095a7f4b",
   "metadata": {},
   "outputs": [
    {
     "name": "stdout",
     "output_type": "stream",
     "text": [
      "100\n"
     ]
    }
   ],
   "source": [
    "# 변수명은 문자이어야 한다.\n",
    "#2 = 10\n",
    "a = \"b\"\n",
    "#1이 = 10\n",
    "이2 = 100\n",
    "print( 이2 )"
   ]
  },
  {
   "cell_type": "code",
   "execution_count": 56,
   "id": "cf95c565-5c69-4286-8fd9-6a37720cd780",
   "metadata": {},
   "outputs": [
    {
     "name": "stdout",
     "output_type": "stream",
     "text": [
      "20\n",
      "python  is fun\n",
      "python is fun\n",
      "pythonpythonpython\n",
      "==========================================================================================\n",
      "파이썬은 너무 재밌어요\n",
      "==========================================================================================\n"
     ]
    }
   ],
   "source": [
    "# 문자리터널 연산자 : + , *\n",
    "print(10 + 10) # 덧셈연산\n",
    "head = \"python \"\n",
    "tail = \" is fun\"\n",
    "print(head + tail) # 연결연산자 \n",
    "#print(head + 3)\n",
    "head = \"python\"\n",
    "tail = \"is fun\"\n",
    "print(head + \" \" + tail) # 이항연산자 : 항은 문자이어야 한다.\n",
    "print(head * 3) # 반복연산자 # 이항연산자 : 1항은 문자이고 2항은 숫자\n",
    "print(\"===\" * 30)\n",
    "print(\"파이썬은 너무 재밌어요\")\n",
    "print(\"===\" * 30)"
   ]
  },
  {
   "cell_type": "code",
   "execution_count": 70,
   "id": "39c55555-9a64-4325-987b-b430e55a1f02",
   "metadata": {},
   "outputs": [
    {
     "name": "stdout",
     "output_type": "stream",
     "text": [
      "Life is too short,\n",
      " You need Python\n",
      "Life is too short,\n",
      " You need Python\n",
      "Life's too short,\n",
      " You need Python\n",
      "Life's too short,\n",
      " You need Python\n",
      "Life is too short,\n",
      " \"You need\" Python\n",
      "Life is too short,\n",
      " \"You need\" Python\n"
     ]
    }
   ],
   "source": [
    "str1 = \"Life is too short,\\n You need Python\"\n",
    "print(str1)\n",
    "str1 = 'Life is too short,\\n You need Python'\n",
    "print(str1)\n",
    "str1 = 'Life\\'s too short,\\n You need Python'\n",
    "print(str1)\n",
    "str1 = \"Life's too short,\\n You need Python\"\n",
    "print(str1)\n",
    "str1 = \"Life is too short,\\n \\\"You need\\\" Python\"\n",
    "print(str1)\n",
    "str1 = 'Life is too short,\\n \"You need\" Python'\n",
    "print(str1)"
   ]
  },
  {
   "cell_type": "code",
   "execution_count": 72,
   "id": "d988afe8-a4fc-40ab-a0c2-16661e715165",
   "metadata": {},
   "outputs": [
    {
     "name": "stdout",
     "output_type": "stream",
     "text": [
      "Life is too short, \n",
      "\"You need\" Python\n",
      "Life's too short, \n",
      "You need Python\n"
     ]
    }
   ],
   "source": [
    "str1 = '''Life is too short, \n",
    "\"You need\" Python'''\n",
    "print(str1)\n",
    "str1 = \"\"\"Life's too short, \n",
    "You need Python\"\"\"\n",
    "print(str1)\n",
    "# 문자열을 표기하는 방법 : \" \",' ',\"\"\" \"\"\", ''' '''"
   ]
  },
  {
   "cell_type": "code",
   "execution_count": 75,
   "id": "1a96c4e6-5db7-45c9-a78f-f58c4714f2cc",
   "metadata": {},
   "outputs": [
    {
     "name": "stdout",
     "output_type": "stream",
     "text": [
      "Life is too short, You need Python\n",
      "34\n",
      "3\n"
     ]
    }
   ],
   "source": [
    "str1 = \"Life is too short, You need Python\"\n",
    "print(str1)\n",
    "#  문자열의 갯수\n",
    "print(len(str1))\n",
    "str1 = \"이숭무\"\n",
    "print(len(str1))"
   ]
  },
  {
   "cell_type": "code",
   "execution_count": 88,
   "id": "4f88c406-ea3f-49ad-8e97-ffd775192a36",
   "metadata": {},
   "outputs": [
    {
     "name": "stdout",
     "output_type": "stream",
     "text": [
      "Life is too short, You need Python\n",
      "t\n",
      "L\n",
      "Y\n",
      "n\n",
      "n\n",
      "34\n",
      "n\n",
      "t\n"
     ]
    }
   ],
   "source": [
    "# 문자열 indexing : index란 문자가 가지고 있는 위치를 나타내는 고유의 번호 \n",
    "# 문자의 시작은 0번부터 시작한다.\n",
    "str1 = \"Life is too short, You need Python\"\n",
    "#                 1         2         3\n",
    "#       0123456789012345678901234567890123\n",
    "# 마지막 index는 크기보다 1작다.\n",
    "print(str1)\n",
    "print(str1[8])\n",
    "print(str1[0])\n",
    "print(str1[19])\n",
    "print(str1[33])\n",
    "print(str1[34-1])\n",
    "print(len(str1))\n",
    "print(str1[len(str1)-1])\n",
    "str1 = \"Life is too short\"\n",
    "print(\"Life is too short\"[len(str1)-1])"
   ]
  },
  {
   "cell_type": "code",
   "execution_count": 101,
   "id": "bf2df5b0-9386-4d9a-87e5-09860686f8fb",
   "metadata": {},
   "outputs": [
    {
     "name": "stdout",
     "output_type": "stream",
     "text": [
      "L\n",
      "L\n",
      "L\n",
      "t\n",
      "t\n",
      "17\n",
      "t\n",
      "117\n"
     ]
    }
   ],
   "source": [
    "str1 = \"Life is too short\"\n",
    "#                 1\n",
    "#       01234567890123456\n",
    "#              1\n",
    "#      -76543210987654321   \n",
    "print(str1[0]) # 문자리터널\n",
    "print(str1[-17])\n",
    "print(str1[-len(str1)])\n",
    "print(str1[-1])\n",
    "print(str1[16])\n",
    "print(len(str1)) # 정수리터널\n",
    "print(str1[len(str1)-1])"
   ]
  },
  {
   "cell_type": "code",
   "execution_count": 109,
   "id": "f0553b0a-7fbf-462a-9b3a-a2e9080d4720",
   "metadata": {},
   "outputs": [
    {
     "name": "stdout",
     "output_type": "stream",
     "text": [
      "Life\n",
      "Life\n"
     ]
    }
   ],
   "source": [
    "str1 = \"Life is too short\"\n",
    "#                 1\n",
    "#       01234567890123456\n",
    "print(\"Life\")\n",
    "print(str1[0] + str1[1] + str1[2] + str1[3])"
   ]
  },
  {
   "cell_type": "code",
   "execution_count": 120,
   "id": "56042410-abd1-43ab-9c4d-709cd1b5aa93",
   "metadata": {},
   "outputs": [
    {
     "name": "stdout",
     "output_type": "stream",
     "text": [
      "Life\n",
      "Life\n",
      "short\n",
      "short\n"
     ]
    },
    {
     "name": "stdin",
     "output_type": "stream",
     "text": [
      "숫자를 입력하세요. 10\n"
     ]
    },
    {
     "name": "stdout",
     "output_type": "stream",
     "text": [
      "20\n",
      "e is too s\n"
     ]
    }
   ],
   "source": [
    "#slicing :  문자열 자르기\n",
    "str1 = \"Life is too short\"\n",
    "#                 1\n",
    "#       01234567890123456\n",
    "print(str1[0:4]) # start : 0 , end : 4\n",
    "print(str1[0 : 0 + 4])\n",
    "print(str1[12:17])\n",
    "print(str1[12 : 12 + 5])\n",
    "wordCount = int(input(\"숫자를 입력하세요.\"))\n",
    "print(10 + wordCount)\n",
    "print(str1[3 : 3 + wordCount])"
   ]
  },
  {
   "cell_type": "code",
   "execution_count": 130,
   "id": "9f53498f-7cf8-4494-9b37-59dec8de27e9",
   "metadata": {},
   "outputs": [
    {
     "name": "stdout",
     "output_type": "stream",
     "text": [
      "Life\n",
      "Life\n",
      "Life\n",
      "short\n",
      "short\n",
      "short\n",
      "Life is too short\n",
      "Life\n",
      "Life\n",
      "Life\n",
      "Life\n",
      "Life\n"
     ]
    }
   ],
   "source": [
    "str1 = \"Life is too short\"\n",
    "#                 1\n",
    "#       01234567890123456\n",
    "#              1\n",
    "#      -76543210987654321 \n",
    "print(\"Life\")\n",
    "print(str1[0:0+4])\n",
    "print(str1[:4])\n",
    "print(str1[12:17])\n",
    "print(str1[12:len(str1)])\n",
    "print(str1[12:])\n",
    "print(str1[:])\n",
    "print(\"Life\")\n",
    "print(str1[0:4])\n",
    "print(str1[0:-13])\n",
    "print(str1[-17:4])\n",
    "print(str1[-17:-13])"
   ]
  },
  {
   "cell_type": "code",
   "execution_count": 131,
   "id": "23408136-b686-4ca2-bb5a-583f3f6892d9",
   "metadata": {},
   "outputs": [
    {
     "name": "stdout",
     "output_type": "stream",
     "text": [
      "2001년\n",
      "03월\n",
      "31일\n",
      "이름은 Rainy입니다\n"
     ]
    }
   ],
   "source": [
    "# 날짜(년,월,일)와 이름을 분리하여 출력\n",
    "a = \"20010331Rainy\"\n",
    "print( a[:4]    + \"년\")\n",
    "print( a[4:4+2]     + \"월\")\n",
    "print( a[6:6+2]     + \"일\")\n",
    "print(\"이름은 \" + a[8:] + \"입니다\")"
   ]
  },
  {
   "cell_type": "code",
   "execution_count": 157,
   "id": "8ad3c6e7-04e3-4ef5-8b2e-22f78e032367",
   "metadata": {},
   "outputs": [
    {
     "name": "stdout",
     "output_type": "stream",
     "text": [
      "Life\n",
      "Lf\n",
      "Lf stosot\n",
      "trohs oot si efiL\n",
      "f stos\n",
      "hs oot si ef\n",
      "hs oot si efiL\n",
      "h o iei\n",
      "ho  i\n",
      "fit \n"
     ]
    }
   ],
   "source": [
    "str1 = \"Life is too short\"\n",
    "#                 1\n",
    "#       01234567890123456\n",
    "# 하나 건너서 출력\n",
    "print(str1[0:4])\n",
    "print(str1[0:4:2])\n",
    "print(str1[::2])\n",
    "#reverse\n",
    "print(str1[::-1])\n",
    "# 2번부터 13번까지 하나 건너서 출력\n",
    "print(str1[2:14:2])\n",
    "# 13번부터 2번까지 reverse\n",
    "print(str1[13:1:-1])\n",
    "# 13번부터 1번까지 reverse\n",
    "print(str1[13::-1])\n",
    "print(str1[13::-1][::2])\n",
    "# 13번부터 1번까지 한글자씩 reverse\n",
    "print(str1[13::-1][::2])\n",
    "print(str1[13::-2])\n",
    "print(str1[13::-3])\n",
    "# 2번부터 13번까지 두글자씩 건너서 출력\n",
    "print(str1[2:14:3])"
   ]
  },
  {
   "cell_type": "code",
   "execution_count": 147,
   "id": "ddb0715b-af74-492b-be4e-3145c2dc94c3",
   "metadata": {},
   "outputs": [
    {
     "name": "stdout",
     "output_type": "stream",
     "text": [
      "i\n",
      "python\n"
     ]
    }
   ],
   "source": [
    "str1=\"pithon\"  # 문자열인 경우 하나의 문자만 변경할 수 없다.\n",
    "print(str1[1])\n",
    "#str1[1] = \"y\"\n",
    "print(str1[0] +\"y\" + str1[2:])"
   ]
  },
  {
   "cell_type": "code",
   "execution_count": 164,
   "id": "3c4ffd27-7c23-49bf-804d-a3c35eb66446",
   "metadata": {},
   "outputs": [
    {
     "name": "stdin",
     "output_type": "stream",
     "text": [
      "숫자를입력해주세요. 20\n"
     ]
    },
    {
     "name": "stdout",
     "output_type": "stream",
     "text": [
      "나의 이름은 이숭무이고 나이는 20살입니다.\n",
      "나의 이름은 이숭무이고 나이는 20살입니다.\n"
     ]
    },
    {
     "name": "stdin",
     "output_type": "stream",
     "text": [
      "이름을 입력하세요. 이숭무\n"
     ]
    },
    {
     "name": "stdout",
     "output_type": "stream",
     "text": [
      "나의 이름은 이숭무이고 나이는 20살입니다.\n",
      "나의 이름은 이숭무이고 나이는 20살입니다.\n"
     ]
    }
   ],
   "source": [
    "# 포맷문자열 포매팅 : \n",
    "# 포맷문자 : %s:string:문자열 , %d:10진정수 : deciaml , %f:실수 :float , %c:문자 :charecter\n",
    "'나의 이름은 이숭무이고 나이는 20살입니다.'\n",
    "age = int(input(\"숫자를입력해주세요.\"))\n",
    "print('나의 이름은 이숭무이고 나이는 '+ str(age)+'살입니다.')\n",
    "print(\"나의 이름은 이숭무이고 나이는 %d살입니다.\" % age)\n",
    "name = input(\"이름을 입력하세요.\")\n",
    "print('나의 이름은 %s이고 나이는 %d살입니다.' % (name, age))\n",
    "str2 = '나의 이름은 %s이고 나이는 %d살입니다.' % (name, age)\n",
    "print(str2)"
   ]
  },
  {
   "cell_type": "code",
   "execution_count": 165,
   "id": "e30f48ab-d23b-4b35-81eb-19b68e5d1480",
   "metadata": {},
   "outputs": [
    {
     "name": "stdout",
     "output_type": "stream",
     "text": [
      "이상범의 계좌번호는 2222이고 잔액은 1000입니다.\n"
     ]
    }
   ],
   "source": [
    "'이숭무의 계좌번호는 1111이고 잔액은 100입니다.'\n",
    "name='이상범'\n",
    "account = '2222'\n",
    "money=1000\n",
    "result = '%s의 계좌번호는 %s이고 잔액은 %d입니다.' % (name, account, money)\n",
    "print(result)"
   ]
  },
  {
   "cell_type": "code",
   "execution_count": 174,
   "id": "33c477e9-c2f4-4502-81e4-589f9062c7b1",
   "metadata": {},
   "outputs": [
    {
     "name": "stdout",
     "output_type": "stream",
     "text": [
      "이상범의 나이는 20살이고 키는 173.550000입니다\n",
      "이상범의 나이는 20살이고 키는 173.55입니다\n",
      "이상범의 나이는 20살이고 키는 173.6입니다\n",
      "이상범의 나이는 20살이고 키는      173.6입니다\n",
      "이상범의 나이는 20살이고 키는 173.6입니다\n",
      "이상범의 나이는 20살이고 키는 173.6입니다\n",
      "이상범의 나이는 20살이고 키는 173.55입니다\n"
     ]
    }
   ],
   "source": [
    "\"이숭무의 나이는 20살이고 키는 175.3입니다\"\n",
    "name='이상범'\n",
    "age = 20\n",
    "height = 173.55\n",
    "result = \"%s의 나이는 %d살이고 키는 %f입니다\" % (name, age, height)\n",
    "print(result)\n",
    "result = \"%s의 나이는 %d살이고 키는 %6.2f입니다\" % (name, age, height)\n",
    "print(result)\n",
    "result = \"%s의 나이는 %d살이고 키는 %5.1f입니다\" % (name, age, height)\n",
    "print(result)\n",
    "result = \"%s의 나이는 %d살이고 키는 %10.1f입니다\" % (name, age, height)\n",
    "print(result)\n",
    "result = \"%s의 나이는 %d살이고 키는 %1.1f입니다\" % (name, age, height)\n",
    "print(result)\n",
    "result = \"%s의 나이는 %d살이고 키는 %.1f입니다\" % (name, age, height)\n",
    "print(result)\n",
    "result = \"%s의 나이는 %s살이고 키는 %s입니다\" % (name, age, height)\n",
    "print(result)"
   ]
  },
  {
   "cell_type": "code",
   "execution_count": 182,
   "id": "e66eb442-3cc6-4642-83ed-151dab6e2d07",
   "metadata": {},
   "outputs": [
    {
     "name": "stdout",
     "output_type": "stream",
     "text": [
      "       이상범의 나이는         20살이고 키는     173.55입니다\n",
      "이상범       의 나이는 20        살이고 키는 173.55    입니다\n",
      "이숭무       의 나이는 20        살이고 키는 173.55    입니다\n"
     ]
    }
   ],
   "source": [
    "# 정렬 : -는 왼쪽정렬, +는 오른쪽 정렬 \n",
    "result = \"%10s의 나이는 %10d살이고 키는 %10.2f입니다\" % (name, age, height)\n",
    "print(result)\n",
    "result = \"%-10s의 나이는 %-10d살이고 키는 %-10.2f입니다\" % (name, age, height)\n",
    "print(result)\n",
    "result = \"%-10s의 나이는 %-10d살이고 키는 %-10.2f입니다\" % (\"이숭무\", age, height)\n",
    "print(result)"
   ]
  },
  {
   "cell_type": "code",
   "execution_count": 185,
   "id": "37fac81a-6c91-4df5-b040-1ad73953cf5b",
   "metadata": {},
   "outputs": [
    {
     "name": "stdout",
     "output_type": "stream",
     "text": [
      "이상범의 나이는 20살이고 키는 173.550000입니다\n",
      "이상범의 나이는 20살이고 키는 173.55입니다\n",
      "이숭무의 나이는 20살이고 키는 173.55입니다\n",
      "이상범의 나이는 20살이고 키는 175.25입니다\n"
     ]
    }
   ],
   "source": [
    "# format 함수를 사용한 포매팅\n",
    "# 변수 : a i, j, str1\n",
    "# 함수 : print(), int(), str(), format()\n",
    "print('%s의 나이는 %d살이고 키는 %f입니다' % (name, age, height) )\n",
    "print('{1}의 나이는 {0}살이고 키는 {2}입니다'.format( age, name, height))\n",
    "#                                                 0    1      2\n",
    "print('{1}의 나이는 {0}살이고 키는 {2}입니다'.format( age, \"이숭무\", height))\n",
    "print('{1}의 나이는 {0}살이고 키는 {2}입니다'.format( age, name, 175.25))"
   ]
  },
  {
   "cell_type": "code",
   "execution_count": 189,
   "id": "f18bd182-922c-4f65-ac87-90c6fe5466ca",
   "metadata": {},
   "outputs": [
    {
     "ename": "SyntaxError",
     "evalue": "positional argument follows keyword argument (1020503931.py, line 5)",
     "output_type": "error",
     "traceback": [
      "\u001b[1;36m  Cell \u001b[1;32mIn[189], line 5\u001b[1;36m\u001b[0m\n\u001b[1;33m    print('{n}의 나이는 {0}살이고 키는 {2}입니다'.format( age, n=name, 175.25))\u001b[0m\n\u001b[1;37m                                                                 ^\u001b[0m\n\u001b[1;31mSyntaxError\u001b[0m\u001b[1;31m:\u001b[0m positional argument follows keyword argument\n"
     ]
    }
   ],
   "source": [
    "# format함수에 이름으로 넣기\n",
    "print('{1}의 나이는 {0}살이고 키는 {2}입니다'.format( age, name, 175.25))\n",
    "print('{1}의 나이는 {0}살이고 키는 {f}입니다'.format( age, name, f=175.25))\n",
    "print('{n}의 나이는 {0}살이고 키는 {f}입니다'.format( age, n=name, f=175.25))\n",
    "# positional argument follows keyword argument\n",
    "#print('{n}의 나이는 {0}살이고 키는 {2}입니다'.format( age, n=name, 175.25))\n",
    "#print('{1}의 나이는 {a}살이고 키는 {f}입니다'.format( a=age, name, f=175.25))\n",
    "# 이름은 뒤에서 부터 순차적으로 붙여준다.                                                    0    n       "
   ]
  },
  {
   "cell_type": "code",
   "execution_count": 201,
   "id": "447cc3fe-ed89-40ae-9cba-4b6c92d666e4",
   "metadata": {},
   "outputs": [
    {
     "name": "stdout",
     "output_type": "stream",
     "text": [
      "       이상범의 나이는         20살이고 키는      173.6입니다\n",
      "이상범       의 나이는         20살이고 키는     175.25입니다\n",
      "       이상범의 나이는 20        살이고 키는 175.25    입니다\n",
      "   이상범    의 나이는     20    살이고 키는   175.25  입니다\n",
      "---이상범----의 나이는 !!!!20!!!!살이고 키는 **175.25**입니다\n",
      "{이상범}의 나이는 !!!!20!!!!살이고 키는 **175.25**입니다\n",
      "{2}의 나이는 !!!!20!!!!살이고 키는 **175.25**입니다\n"
     ]
    }
   ],
   "source": [
    "#format함수를 이용한 정렬 : 왼쪽 정렬 : < , 오른쪽 정렬 : > \n",
    "print('%10s의 나이는 %10d살이고 키는 %10.1f입니다' % (name, age, height) )\n",
    "print('{1:10}의 나이는 {0:10}살이고 키는 {2:10}입니다'.format( age, name, 175.25))\n",
    "# 문자는 왼쪽 숫자 오른쪽\n",
    "print('{1:>10}의 나이는 {0:<10}살이고 키는 {2:<10}입니다'.format( age, name, 175.25))\n",
    "print('{1:^10}의 나이는 {0:^10}살이고 키는 {2:^10}입니다'.format( age, name, 175.25))\n",
    "print('{1:-^10}의 나이는 {0:!^10}살이고 키는 {2:*^10}입니다'.format( age, name, 175.25))\n",
    "#print('{이상범}의 나이는 {0:!^10}살이고 키는 {1:*^10}입니다'.format( age, 175.25))\n",
    "print('{{이상범}}의 나이는 {0:!^10}살이고 키는 {1:*^10}입니다'.format( age, 175.25))\n",
    "print('{{2}}의 나이는 {0:!^10}살이고 키는 {1:*^10}입니다'.format( age, 175.25, name))"
   ]
  },
  {
   "cell_type": "code",
   "execution_count": 210,
   "id": "eb31e800-199c-44b2-8d9e-cef47e203ea2",
   "metadata": {},
   "outputs": [
    {
     "name": "stdout",
     "output_type": "stream",
     "text": [
      "이장범은 나이가 20이고 키는 173.600000입니다.\n",
      "이장범은 나이가 20이고 키는 173.600입니다.\n",
      "이장범은 나이가 20이고 키는 173.6입니다.\n",
      "이장범은 나이가 20이고 키는 173.600입니다.\n"
     ]
    }
   ],
   "source": [
    "#f 문자열 포매팅\n",
    "name=\"이장범\"\n",
    "age = 20\n",
    "height=173.6\n",
    "'이장범은 나이가 20이고 키는 173.6입니다.'\n",
    "print('%s은 나이가 %d이고 키는 %f입니다.' % (name, age, height)) #포맷문자열 포매팅\n",
    "print('{0}은 나이가 {1}이고 키는 {2:.3f}입니다.'.format(name, age, height))\n",
    "print(f'{name}은 나이가 {age}이고 키는 {height}입니다.')\n",
    "result = f'{name}은 나이가 {age}이고 키는 {height:.3f}입니다.'\n",
    "print(result)"
   ]
  },
  {
   "cell_type": "code",
   "execution_count": 211,
   "id": "c3423058-78b0-4406-baf3-bdd029458e49",
   "metadata": {},
   "outputs": [
    {
     "name": "stdout",
     "output_type": "stream",
     "text": [
      "17\n",
      "17\n",
      "2\n"
     ]
    }
   ],
   "source": [
    "# 문자열 가공 : 문자열 함수\n",
    "str1 = \"Life is too short\" # indexing,  slicing\n",
    "print(len(str1))\n",
    "print(len(\"Life is too short\"))\n",
    "# 특정문자의 갯수\n",
    "print(str1.count('s'))\n",
    "print(\"Life is too short\".count('s'))"
   ]
  },
  {
   "cell_type": "code",
   "execution_count": 218,
   "id": "27caab94-e4f8-4e4b-aef5-d5f4990e3169",
   "metadata": {},
   "outputs": [
    {
     "name": "stdout",
     "output_type": "stream",
     "text": [
      "8\n",
      "too\n",
      "too\n",
      "too\n",
      "8\n"
     ]
    }
   ],
   "source": [
    "# \"too\"라는 글자 출력\n",
    "idx = str1.index(\"too\")\n",
    "str2 = \"too\"\n",
    "print(idx)\n",
    "print(str1[idx:idx+3])\n",
    "print(str1[idx:idx+len(str2)])\n",
    "print(str1[str1.index(\"too\"):str1.index(\"too\")+len(str2)])\n",
    "idx = str1.index(\"t\")\n",
    "print(idx)"
   ]
  },
  {
   "cell_type": "code",
   "execution_count": 225,
   "id": "404b762b-0e4c-4707-a286-2211b19d7f70",
   "metadata": {},
   "outputs": [
    {
     "name": "stdout",
     "output_type": "stream",
     "text": [
      "Life is too short\n",
      "ife is too\n",
      "5\n",
      "5\n"
     ]
    }
   ],
   "source": [
    "##str1에서 첫번째 i가 있는 문자부터 10글자\n",
    "print(str1)\n",
    "idx = str1.index(\"i\")\n",
    "result = str1[idx: idx+10]\n",
    "print(result)\n",
    "### 두번째 i부터 10글자\n",
    "idx = str1.index(\"i\",2);\n",
    "print(idx)\n",
    "idx = str1.index(\"i\",str1.index(\"i\") + 1);\n",
    "print(idx)"
   ]
  },
  {
   "cell_type": "code",
   "execution_count": 233,
   "id": "8067fcc2-aa70-4c2f-af39-642dfe782c4c",
   "metadata": {},
   "outputs": [
    {
     "name": "stdout",
     "output_type": "stream",
     "text": [
      "2\n",
      "8\n",
      "16\n",
      "==========================================================================================\n",
      "16\n"
     ]
    }
   ],
   "source": [
    "str1 = \"Lite is too short, You need python\"\n",
    "# 3번째 t의 index가져오기\n",
    "idx = str1.index('t')# t의 cjt번째 index \n",
    "print(idx) # 2\n",
    "idx1 = str1.index('t',idx+1) # t의 두번째 index (2+1)\n",
    "print(idx1) # 8\n",
    "idx2 = str1.index('t',idx1+1) # t의 세번째 index (8 + 1)\n",
    "print(idx2)\n",
    "print(\"===\" * 30)\n",
    "\n",
    "print( str1.index('t', str1.index('t',str1.index('t') + 1) + 1) )"
   ]
  },
  {
   "cell_type": "code",
   "execution_count": 237,
   "id": "51c3585c-d5c5-4c1f-bdab-fe1d5a507c8c",
   "metadata": {},
   "outputs": [
    {
     "name": "stdout",
     "output_type": "stream",
     "text": [
      "30\n",
      "tho\n"
     ]
    }
   ],
   "source": [
    "#마지막에 있는 't'\n",
    "idx = str1.rindex('t')\n",
    "print(idx)\n",
    "#마지막에 있는 't'에서 3글자\n",
    "print(str1[idx : idx + 3])"
   ]
  },
  {
   "cell_type": "code",
   "execution_count": 247,
   "id": "dae17c66-fb50-48c2-b6a2-1c8f86ab5d1a",
   "metadata": {},
   "outputs": [
    {
     "name": "stdout",
     "output_type": "stream",
     "text": [
      "Lite is too short, You need python\n",
      "1\n",
      "5\n",
      "-1\n",
      "\n"
     ]
    }
   ],
   "source": [
    "#find : index처럼 문자열의 index를 가져온다.\n",
    "print(str1)\n",
    "idx = str1.find(\"i\")\n",
    "print(idx)\n",
    "idx = str1.rfind(\"i\")\n",
    "print(idx) \n",
    "#print(str1.index('zoo')) #substring not found\n",
    "print(str1.find('zoo')) # -1\n",
    "'''\n",
    "if str1.find('zoo') == -1:\n",
    "    print(\"없는 문자열입니다.\")\n",
    "else:\n",
    "    print(str1)\n",
    "'''\n",
    "print()"
   ]
  },
  {
   "cell_type": "code",
   "execution_count": 252,
   "id": "21f82d8b-2606-4348-918a-268bab470797",
   "metadata": {},
   "outputs": [
    {
     "name": "stdout",
     "output_type": "stream",
     "text": [
      "Lite is too short, You need python\n",
      "LITE IS TOO SHORT, YOU NEED PYTHON\n",
      "lite is too short, you need python\n",
      "Lite is too short, You need python\n"
     ]
    }
   ],
   "source": [
    "print(str1)\n",
    "#  모두 대문자\n",
    "print(str1.upper())\n",
    "#  모두 소문자\n",
    "print(str1.lower())\n",
    "print(str1)"
   ]
  },
  {
   "cell_type": "code",
   "execution_count": 263,
   "id": "2bda0d30-ddd6-487f-bd17-d34fb95acdf0",
   "metadata": {},
   "outputs": [
    {
     "name": "stdout",
     "output_type": "stream",
     "text": [
      "    highland0    \n",
      "highland0\n",
      "highland0    \n",
      "    highland0\n",
      "highland0\n",
      "abhighland0\n",
      "highland0ab\n",
      "high    lan   d   0\n"
     ]
    }
   ],
   "source": [
    "str1 = \"    highland0    \"\n",
    "print(str1)\n",
    "print(str1.strip())\n",
    "print(str1.lstrip())\n",
    "print(str1.rstrip())\n",
    "str1 = \"abhighland0ab\"\n",
    "print(str1.strip(\"ab\"))\n",
    "print(str1.rstrip(\"ab\")) #right\n",
    "print(str1.lstrip(\"ab\")) #left\n",
    "str1 = \"    high    lan   d   0    \"\n",
    "print(str1.strip())\n",
    "#중간에 있는 공백문자는 정상적인 데이터이다."
   ]
  },
  {
   "cell_type": "code",
   "execution_count": 267,
   "id": "103c1646-c12f-4bf9-ae6c-e08f2749f60d",
   "metadata": {},
   "outputs": [
    {
     "name": "stdout",
     "output_type": "stream",
     "text": [
      "pithon\n",
      "python\n",
      "Your leg is too short\n",
      "Life is too short\n"
     ]
    }
   ],
   "source": [
    "### # 문자열 대체하기\n",
    "str1 = \"pithon\"\n",
    "str2 = str1.replace('i', 'y')\n",
    "print(str1)\n",
    "print(str2)\n",
    "str1 = \"Life is too short\" #\"Life\" : \"Your leg\"\n",
    "str2 = str1.replace(\"Life\",\"Your leg\")\n",
    "print(str2)\n",
    "print(str1)"
   ]
  },
  {
   "cell_type": "code",
   "execution_count": 270,
   "id": "3c0bcfb3-87f9-43a9-89f4-892bb5e19b02",
   "metadata": {},
   "outputs": [
    {
     "name": "stdout",
     "output_type": "stream",
     "text": [
      "Life is too short\n",
      "['Life', 'is', 'too', 'short']\n",
      "['Life', 'is', 'too', 'short']\n"
     ]
    }
   ],
   "source": [
    "# 쪼개기 : split : 결과는 리스트가 된다.\n",
    "print(str1)\n",
    "l = str1.split()\n",
    "print(l)\n",
    "str2 = \"Life:is:too:short\"\n",
    "l = str2.split(\":\")\n",
    "print(l) # ['Life', 'is', 'too', 'short'] :  리스트"
   ]
  }
 ],
 "metadata": {
  "kernelspec": {
   "display_name": "Python 3 (ipykernel)",
   "language": "python",
   "name": "python3"
  },
  "language_info": {
   "codemirror_mode": {
    "name": "ipython",
    "version": 3
   },
   "file_extension": ".py",
   "mimetype": "text/x-python",
   "name": "python",
   "nbconvert_exporter": "python",
   "pygments_lexer": "ipython3",
   "version": "3.13.2"
  }
 },
 "nbformat": 4,
 "nbformat_minor": 5
}
