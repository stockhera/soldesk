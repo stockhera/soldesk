{
 "cells": [
  {
   "cell_type": "code",
   "execution_count": 7,
   "id": "18f7e577-ea2f-46aa-9355-1ac367bd2457",
   "metadata": {},
   "outputs": [
    {
     "name": "stdout",
     "output_type": "stream",
     "text": [
      "False\n",
      "불합격\n",
      "불합격\n",
      "영어 수학 국어 모두 범위안에 없습니다\n",
      "불합격\n",
      "프로그램 종료\n"
     ]
    }
   ],
   "source": [
    "# 영어, 수학 , 국어의 점수 40점 이상이고 평균이 60 이상이면 합격(True)\n",
    "eng = 30\n",
    "kor = 60\n",
    "mat = 80\n",
    "result = eng >= 40 and kor >= 40 and mat >= 40 and (eng+kor+mat) / 3 >= 60\n",
    "print(result)\n",
    "# 조건문 : if\n",
    "\n",
    "# 단일 if : if문에 있는 조건식의 결과가 True일 때만 실행\n",
    "if result: # True \n",
    "    print(\"합격\")\n",
    "\n",
    "if eng >= 40 and kor >= 40 and mat >= 40 and (eng+kor+mat) / 3 >= 60: # True \n",
    "    print(\"합격\")\n",
    "\n",
    "# if ~ else\n",
    "if eng >= 40 and kor >= 40 and mat >= 40 and (eng+kor+mat) / 3 >= 60: # True \n",
    "    print(\"합격\")\n",
    "else:\n",
    "    print(\"불합격\")\n",
    "\n",
    "if result: # True 일때\n",
    "    print(\"합격\")\n",
    "else: # False 일때\n",
    "    print(\"불합격\")\n",
    "# tab을 사용하는 space(공백문자)를 사용할 수 있는 데 두가지 방식을 동시에 사용 불가\n",
    "if result: \n",
    "    print(\"영어 수학 국어 모두 범위안에 있습니다\")\n",
    "    print(\"합격\")\n",
    "else :\n",
    "    print(\"영어 수학 국어 모두 범위안에 없습니다\")\n",
    "    print(\"불합격\")\n",
    "# 위 조건문과 상관 없이 실행   \n",
    "print(\"프로그램 종료\") &nbsp;"
   ]
  },
  {
   "cell_type": "code",
   "execution_count": null,
   "id": "eeb39dcd-8799-416b-b827-4f6b3e44e741",
   "metadata": {},
   "outputs": [],
   "source": [
    "city = \"02\"\n",
    "swith (city){\n",
    "    case \"02\" : print(\"서울\"); break;\n",
    "    case \"031\" : print(\"경기도\"); break;\n",
    "}\n",
    "\n",
    "dic = {\"02\": \"서울\" , \"031\" : \"경기도\"}\n",
    "print(dic[city])"
   ]
  },
  {
   "cell_type": "code",
   "execution_count": 8,
   "id": "191a681c-0ccb-4a46-85e3-5e65ceed54a4",
   "metadata": {},
   "outputs": [
    {
     "ename": "IndentationError",
     "evalue": "unexpected indent (374596601.py, line 3)",
     "output_type": "error",
     "traceback": [
      "\u001b[1;36m  Cell \u001b[1;32mIn[8], line 3\u001b[1;36m\u001b[0m\n\u001b[1;33m    print(\"실행될까요\")\u001b[0m\n\u001b[1;37m    ^\u001b[0m\n\u001b[1;31mIndentationError\u001b[0m\u001b[1;31m:\u001b[0m unexpected indent\n"
     ]
    }
   ],
   "source": [
    "if result :\n",
    "    print(\"합격:\")\n",
    "        print(\"실행될까요\")"
   ]
  },
  {
   "cell_type": "code",
   "execution_count": 16,
   "id": "5b248401-e280-461f-b5b6-30cd2a53b1c7",
   "metadata": {},
   "outputs": [
    {
     "name": "stdout",
     "output_type": "stream",
     "text": [
      "True\n",
      "False\n",
      "True\n",
      "4를 포함하고 있습니다\n",
      "4를 포함하고 있습니다\n",
      "True\n",
      "7이 포함되어 있지 않다\n",
      "True\n",
      "True\n"
     ]
    }
   ],
   "source": [
    "# in연산자\n",
    "l = [1,2,3,4,5]\n",
    "result = 4 in l\n",
    "print(result)\n",
    "result = 7 in l\n",
    "print(result)\n",
    "result = 4 in [1,2,3,4,5]\n",
    "print(result)\n",
    "if result:\n",
    "    print(\"4를 포함하고 있습니다\")\n",
    "else:\n",
    "    print(\"4를 포함하고 있지 않습니다.\")\n",
    "\n",
    "if 4 in [1,2,3,4,5]:\n",
    "    print(\"4를 포함하고 있습니다\")\n",
    "else:\n",
    "    print(\"4를 포함하고 있지 않습니다.\")\n",
    "\n",
    "result = 7 not in [1,2,3,4,5]\n",
    "print(result)\n",
    "if result: # True\n",
    "    print(\"7이 포함되어 있지 않다\")\n",
    "else: # False\n",
    "    print(\"7이 포함되어 있다\")\n",
    "\n",
    "print(\"y\" in \"python\")\n",
    "print(\"th\" in \"python\")\n",
    "print(\"이숭무\" not in \"python\")\n",
    "print( 1 in (1,2,3,4,5)) \n",
    "print( 7 not in (1,2,3,4,5))\n",
    "print( \"a\" in {\"a\":\"이숭무\" , \"b\" : \"이장범\"})\n",
    "dic = {1 : \"이\", 2:\"숭\"}\n",
    "print( 1 in dic)\n",
    "print( \"c\" not in {\"a\":\"이숭무\" , \"b\" : \"이장범\"})"
   ]
  },
  {
   "cell_type": "code",
   "execution_count": 17,
   "id": "f6b68ace-90d1-4a06-90f7-7443e36faf82",
   "metadata": {},
   "outputs": [
    {
     "name": "stdout",
     "output_type": "stream",
     "text": [
      "지폐가 있습니다\n"
     ]
    }
   ],
   "source": [
    "pocket = ['paper', 'cellphone', 'money'] #문자열 리스트\n",
    "if 'paper' in pocket:\n",
    "    print(\"지폐가 있습니다\")\n",
    "else:\n",
    "    print(\"지폐를 가지고 있지 않습니다.\")"
   ]
  },
  {
   "cell_type": "code",
   "execution_count": 20,
   "id": "abef6767-117f-433a-adc2-65cc39db49d9",
   "metadata": {},
   "outputs": [
    {
     "name": "stdout",
     "output_type": "stream",
     "text": [
      "C\n"
     ]
    }
   ],
   "source": [
    "# in, not in\n",
    "# 조건문이 하나\n",
    "# 단일 if , if ~ else\n",
    "# 조건문이 여러개인 경우\n",
    "# 학점 90이상이면 \"A\" , 80점이상이면 \"B\", 70점이상이면 \"C\" , 60점이상이면 \"D\"\n",
    "# 아니면 \"F\"\n",
    "score = 78\n",
    "if score >= 90: #  90 ~ \n",
    "    print(\"A\")\n",
    "elif score >= 80: #  80 ~ 89\n",
    "    print(\"B\")\n",
    "elif score >= 70: # ~ 79\n",
    "    print(\"C\")\n",
    "elif score >= 60: #  60  ~ 69\n",
    "    print(\"D\")\n",
    "else : # ~ 59\n",
    "    print(\"F\")"
   ]
  },
  {
   "cell_type": "code",
   "execution_count": null,
   "id": "d55a0f07-c143-46a0-aaaf-eb9a9fcf73f4",
   "metadata": {},
   "outputs": [],
   "source": [
    "# 다중(중첩) if문 ===> if ~ elif ~ else\n",
    "if score >= 90:\n",
    "    print(\"A\")\n",
    "else : # ~ 89\n",
    "    if score >= 80:\n",
    "        print(\"B\")\n",
    "    else: # 79\n",
    "        if score >= 70:\n",
    "            print(\"C\")\n",
    "        else: # 69\n",
    "            if score >= 60:\n",
    "                print(\"D\")\n",
    "            else: # ~ 59\n",
    "                print(\"F\")"
   ]
  },
  {
   "cell_type": "code",
   "execution_count": null,
   "id": "c0db3b94-80c0-453b-98ef-7c81ef1bcde3",
   "metadata": {},
   "outputs": [],
   "source": [
    "# 95 : A+  90 : A\n",
    "score = 78\n",
    "if score >= 90: #  90 ~\n",
    "    if score >= 95:\n",
    "        print(\"A+\")\n",
    "    else:\n",
    "        print(\"A\")\n",
    "elif score >= 80: #  80 ~ 89\n",
    "    if score >= 85:\n",
    "        print(\"B+\")\n",
    "    else:\n",
    "        print(\"B\")\n",
    "elif score >= 70: # ~ 79\n",
    "    if score >= 75:\n",
    "        print(\"C+\")\n",
    "    else:\n",
    "        print(\"C\")\n",
    "elif score >= 60: #  60  ~ 69\n",
    "    if score >= 65:\n",
    "        print(\"D+\")\n",
    "    else:\n",
    "        print(\"D\")\n",
    "else : # ~ 59\n",
    "    print(\"F\")"
   ]
  },
  {
   "cell_type": "code",
   "execution_count": 21,
   "id": "6ef44374-4b43-49ac-98ed-86d65b1f1f77",
   "metadata": {},
   "outputs": [
    {
     "name": "stdout",
     "output_type": "stream",
     "text": [
      "success\n",
      "success\n"
     ]
    }
   ],
   "source": [
    "#파이썬에서 사용하는 방식\n",
    "'''\n",
    "score가 60이상이면 message 변수에 success를,  아니면 message 에 failure를 \n",
    "저장한 후 출력\n",
    "'''\n",
    "score = 78\n",
    "if score>= 60:\n",
    "    message = \"success\"\n",
    "else :\n",
    "    message = \"failure\"\n",
    "print(message)\n",
    "\n",
    "message = \"success\" if score>= 60 else \"failure\"\n",
    "print(message)"
   ]
  },
  {
   "cell_type": "code",
   "execution_count": 22,
   "id": "1e4de56f-02da-4bc9-9317-4794c3be0de6",
   "metadata": {},
   "outputs": [
    {
     "name": "stdout",
     "output_type": "stream",
     "text": [
      "C\n"
     ]
    }
   ],
   "source": [
    "if score >= 90:\n",
    "    message  = \"A\"\n",
    "else : # ~ 89\n",
    "    if score >= 80:\n",
    "        message  = \"B\"\n",
    "    else: # 79\n",
    "        if score >= 70:\n",
    "            message  = \"C\"\n",
    "        else: # 69\n",
    "            if score >= 60:\n",
    "                message  =  \"D\"\n",
    "            else: # ~ 59\n",
    "                message  =  \"F\"\n",
    "print(message )\n",
    "message  = \"A\" if score >= 90 else(\n",
    "           \"B\" if score >= 80 else(\n",
    "           \"C\" if score >= 70 else(  \n",
    "           \"D\" if score >= 60 else \"F\"\n",
    "           )))\n",
    "print(message )"
   ]
  },
  {
   "cell_type": "code",
   "execution_count": 24,
   "id": "7a675437-4f88-4c87-888c-5db6542441d3",
   "metadata": {},
   "outputs": [
    {
     "name": "stdout",
     "output_type": "stream",
     "text": [
      "-10\n",
      "-10\n"
     ]
    }
   ],
   "source": [
    "# if문을 이용한 사직연산 \n",
    "a = 10; b = 20; opt = \"sub\"\n",
    "if opt == \"add\":\n",
    "    message = a + b\n",
    "elif opt == \"sub\":\n",
    "    message = a - b\n",
    "elif opt == \"mul\":\n",
    "    message = a * b\n",
    "else:\n",
    "    message = a / b\n",
    "print(message)\n",
    "message = a + b if opt == \"add\" else(\n",
    "          a - b if opt == \"sub\" else(\n",
    "          a * b if opt == \"mul\" else \n",
    "          a / b\n",
    "          ))\n",
    "print(message)"
   ]
  },
  {
   "cell_type": "code",
   "execution_count": null,
   "id": "a55377b1-b5ba-4616-801e-bd89fcd6f5a7",
   "metadata": {},
   "outputs": [],
   "source": [
    "# 조건문 : if , if ~ else , if ~ elif ~ else , 중첩 if, \n",
    "# 조건식 연산자 : in , not in"
   ]
  },
  {
   "cell_type": "code",
   "execution_count": 29,
   "id": "2ce27263-e4a6-45f2-8483-56f84be613cb",
   "metadata": {},
   "outputs": [
    {
     "name": "stdout",
     "output_type": "stream",
     "text": [
      "나무를 1번찍었습다\n",
      "나무를 2번찍었습다\n",
      "나무를 3번찍었습다\n",
      "나무를 4번찍었습다\n",
      "나무를 5번찍었습다\n",
      "나무를 6번찍었습다\n",
      "나무를 7번찍었습다\n",
      "나무를 8번찍었습다\n",
      "나무를 8번찍었습다\n",
      "나무를 10번찍었습다\n",
      "나무가 넘어가유~~~\n",
      "나무를 1번찍었습다\n",
      "나무를 2번찍었습다\n",
      "나무를 3번찍었습다\n",
      "나무를 4번찍었습다\n",
      "나무를 5번찍었습다\n",
      "나무를 6번찍었습다\n",
      "나무를 7번찍었습다\n",
      "나무를 8번찍었습다\n",
      "나무를 9번찍었습다\n",
      "나무를 10번찍었습다\n"
     ]
    }
   ],
   "source": [
    "# 반복문 : 반복적으로 사용하기 위한 명령문\n",
    "print(\"나무를 1번찍었습다\");\n",
    "print(\"나무를 2번찍었습다\");\n",
    "print(\"나무를 3번찍었습다\");\n",
    "print(\"나무를 4번찍었습다\");\n",
    "print(\"나무를 5번찍었습다\");\n",
    "print(\"나무를 6번찍었습다\");\n",
    "print(\"나무를 7번찍었습다\");\n",
    "print(\"나무를 8번찍었습다\");\n",
    "print(\"나무를 8번찍었습다\");\n",
    "print(\"나무를 10번찍었습다\");\n",
    "print(\"나무가 넘어가유~~~\");\n",
    "\n",
    "i = 1;\n",
    "while i <= 10:\n",
    "    #print(f\"나무를 {i}번찍었습다\");\n",
    "    #print(\"나무를 %d번찍었습다\" % i);\n",
    "    print(\"나무를 {0}번찍었습다\".format(i)); \n",
    "    i = i + 1; # i += 1"
   ]
  },
  {
   "cell_type": "code",
   "execution_count": 32,
   "id": "35b6e665-aa72-4079-bd9d-dbc089ea1ab0",
   "metadata": {},
   "outputs": [
    {
     "name": "stdout",
     "output_type": "stream",
     "text": [
      "8 * 1 = 8\n",
      "8 * 2 = 16\n",
      "8 * 3 = 24\n",
      "8 * 4 = 32\n",
      "8 * 5 = 40\n",
      "8 * 6 = 48\n",
      "8 * 7 = 56\n",
      "8 * 8 = 64\n",
      "8 * 9 = 72\n"
     ]
    }
   ],
   "source": [
    "# 구구단\n",
    "# 8단\n",
    "'''\n",
    "8 * 1 = (8 * 1)\n",
    "8 * 2 = (8 * 2)\n",
    "8 * 3 = (8 * 3)\n",
    "8 * 4 = (8 * 4)\n",
    "8 * 5 = (8 * 5)\n",
    "8 * 6 = (8 * 6)\n",
    "8 * 7 = (8 * 7)\n",
    "8 * 8 = (8 * 8)\n",
    "8 * 9 = (8 * 9)\n",
    "'''\n",
    "i = 1\n",
    "while i <= 9:\n",
    "    #print(f\"8 * {i} = {8 * i}\")\n",
    "    #print(\"8 * %d = %d\" % (i, 8 * i))\n",
    "    print(\"8 * {0} = {1}\".format(i , 8 * i))\n",
    "    i += 1;"
   ]
  },
  {
   "cell_type": "code",
   "execution_count": 34,
   "id": "db219f09-567f-45d5-8a93-a5fe7755c18f",
   "metadata": {},
   "outputs": [
    {
     "name": "stdout",
     "output_type": "stream",
     "text": [
      "8 * 3 = 24\n",
      "8 * 4 = 32\n",
      "8 * 5 = 40\n",
      "8 * 6 = 48\n",
      "8 * 7 = 56\n"
     ]
    }
   ],
   "source": [
    "start = 3\n",
    "end = 7\n",
    "while start <= end:\n",
    "    print(\"8 * {0} = {1}\".format(start , 8 * start))\n",
    "    start += 1;"
   ]
  },
  {
   "cell_type": "code",
   "execution_count": 35,
   "id": "714d2317-e116-4cfb-b870-de0049c789fd",
   "metadata": {},
   "outputs": [
    {
     "name": "stdin",
     "output_type": "stream",
     "text": [
      "곱의 첫번째 숫자를 입력하세요 3\n",
      "곱의 두번째 숫자를 입력하세요 5\n"
     ]
    },
    {
     "name": "stdout",
     "output_type": "stream",
     "text": [
      "8 * 3 = 24\n",
      "8 * 4 = 32\n",
      "8 * 5 = 40\n"
     ]
    }
   ],
   "source": [
    "start = int(input(\"곱의 첫번째 숫자를 입력하세요\"))\n",
    "end = int(input(\"곱의 두번째 숫자를 입력하세요\"))\n",
    "while start <= end:\n",
    "    print(\"8 * {0} = {1}\".format(start , 8 * start))\n",
    "    start += 1;"
   ]
  },
  {
   "cell_type": "code",
   "execution_count": 37,
   "id": "f5a29ac2-7ed7-4a4a-a133-3c50bc55088d",
   "metadata": {},
   "outputs": [
    {
     "name": "stdin",
     "output_type": "stream",
     "text": [
      "단을 숫자로 입력하시오 :  7\n",
      "곱의 첫번째 숫자를 입력하세요 :  2\n",
      "곱의 두번째 숫자를 입력하세요 :  6\n"
     ]
    },
    {
     "name": "stdout",
     "output_type": "stream",
     "text": [
      "7 * 2 = 14\n",
      "7 * 3 = 21\n",
      "7 * 4 = 28\n",
      "7 * 5 = 35\n",
      "7 * 6 = 42\n"
     ]
    }
   ],
   "source": [
    "dan = int(input(\"단을 숫자로 입력하시오 : \"))\n",
    "start = int(input(\"곱의 첫번째 숫자를 입력하세요 : \"))\n",
    "end = int(input(\"곱의 두번째 숫자를 입력하세요 : \"))\n",
    "while start <= end:\n",
    "    #print(\"{2} * {0} = {1}\".format(start , dan * start, dan))\n",
    "    print(f\"{dan} * {start} = {dan * start}\")\n",
    "    start += 1;"
   ]
  },
  {
   "cell_type": "code",
   "execution_count": 48,
   "id": "5bf40d47-ac67-45f7-b1bc-1f9844197c50",
   "metadata": {},
   "outputs": [
    {
     "name": "stdout",
     "output_type": "stream",
     "text": [
      "0\n",
      "1\n",
      "1\n",
      "[2, 3, 4, 5, 6, 7, 8, 9]\n"
     ]
    }
   ],
   "source": [
    "import random\n",
    "idx = random.randint(0, 8) # 0,1,2,3,4,5,6,7,8\n",
    "l = [1,2,3,4,5,6,7,8,9] \n",
    "#    0 1 2 3 4 5 6 7 8\n",
    "print(idx)\n",
    "print(l[idx])\n",
    "result = l.pop(idx)\n",
    "print(result)\n",
    "# 비복원 : 로또\n",
    "# 복원 : 주사위\n",
    "print(l)"
   ]
  },
  {
   "cell_type": "code",
   "execution_count": 50,
   "id": "ac4d6de7-f870-4189-bc38-dad78231f4aa",
   "metadata": {},
   "outputs": [
    {
     "name": "stdout",
     "output_type": "stream",
     "text": [
      "[1, 2, 3, 4, 5, 6, 7, 8, 9, 10, 11, 12, 13, 14, 15, 16, 17, 18, 19, 20, 21, 22, 23, 24, 25, 26, 27, 28, 29, 30, 31, 32, 33, 34, 35, 36, 37, 38, 39, 40, 41, 42, 43, 44, 45]\n",
      "3 6 33 32 9 30 "
     ]
    }
   ],
   "source": [
    "import random\n",
    "lotto = []\n",
    "i = 1\n",
    "while i <= 45:\n",
    "    lotto.append(i)\n",
    "    i += 1\n",
    "print(lotto) # 1,2,4,5,7,...,45 # 39 + 45\n",
    "size = len(lotto) # 45 \n",
    "y = 1\n",
    "while y <= 6:\n",
    "    size -= 1 \n",
    "    idx = random.randint(0, size) \n",
    "    result = lotto.pop(idx) # 39\n",
    "    print(result , end =\" \")\n",
    "    y += 1"
   ]
  },
  {
   "cell_type": "code",
   "execution_count": 2,
   "id": "8c0a9872-ab39-4065-aaa0-5110c2e6c76a",
   "metadata": {},
   "outputs": [
    {
     "name": "stdin",
     "output_type": "stream",
     "text": [
      "사고 싶은 갯수를 입력하시오 :  5\n"
     ]
    },
    {
     "name": "stdout",
     "output_type": "stream",
     "text": [
      "20 31 28 6 29 23 \n",
      "18 42 3 29 28 4 \n",
      "16 27 33 18 6 20 \n",
      "28 19 33 31 8 45 \n",
      "25 9 5 20 37 2 \n"
     ]
    }
   ],
   "source": [
    "import random\n",
    "cnt = 1\n",
    "cntEnd = int(input(\"사고 싶은 갯수를 입력하시오 : \"))\n",
    "lotto = []\n",
    "while cnt <= cntEnd:\n",
    "    i = 1\n",
    "    while i <= 45:\n",
    "        lotto.append(i)\n",
    "        i += 1\n",
    "    size = len(lotto)\n",
    "    y = 1\n",
    "    while y <= 6: # 45 - 6 = 39\n",
    "        size -= 1\n",
    "        idx = random.randint(0, size)\n",
    "        result = lotto.pop(idx)\n",
    "        print(result , end=\" \") \n",
    "        y += 1\n",
    "    lotto.clear()  # lotto = [] \n",
    "    print()\n",
    "    cnt += 1"
   ]
  },
  {
   "cell_type": "code",
   "execution_count": 65,
   "id": "754eee6a-ed7c-4014-82fc-dd265012de1c",
   "metadata": {},
   "outputs": [
    {
     "name": "stdout",
     "output_type": "stream",
     "text": [
      "6 * 1 = 6\n",
      "6 * 2 = 12\n",
      "6 * 3 = 18\n",
      "6 * 4 = 24\n",
      "6 * 5 = 30\n",
      "6 * 6 = 36\n",
      "6 * 7 = 42\n",
      "6 * 8 = 48\n",
      "6 * 9 = 54\n",
      "7 * 1 = 7\n",
      "7 * 2 = 14\n",
      "7 * 3 = 21\n",
      "7 * 4 = 28\n",
      "7 * 5 = 35\n",
      "7 * 6 = 42\n",
      "7 * 7 = 49\n",
      "7 * 8 = 56\n",
      "7 * 9 = 63\n",
      "8 * 1 = 8\n",
      "8 * 2 = 16\n",
      "8 * 3 = 24\n",
      "8 * 4 = 32\n",
      "8 * 5 = 40\n",
      "8 * 6 = 48\n",
      "8 * 7 = 56\n",
      "8 * 8 = 64\n",
      "8 * 9 = 72\n"
     ]
    }
   ],
   "source": [
    "i = 1 \n",
    "while i <= 9:\n",
    "    print(f\"4 * {i} = {4 * i}\")\n",
    "    i += 1\n",
    "\n",
    "i = 1 \n",
    "while i <= 9:\n",
    "    print(f\"5 * {i} = {5 * i}\")\n",
    "    i += 1\n",
    "# 6단\n",
    "i = 1 \n",
    "while i <= 9:\n",
    "    print(f\"6 * {i} = {6 * i}\")\n",
    "    i += 1\n",
    "# 7단\n",
    "i = 1 \n",
    "while i <= 9:\n",
    "    print(f\"7 * {i} = {7 * i}\")\n",
    "    i += 1\n",
    "# 8단\n",
    "i = 1 \n",
    "while i <= 9:\n",
    "    print(f\"8 * {i} = {8 * i}\")\n",
    "    i += 1"
   ]
  },
  {
   "cell_type": "code",
   "execution_count": 69,
   "id": "c25ecb2e-dda2-4808-8edf-c4d47d343ec9",
   "metadata": {},
   "outputs": [
    {
     "name": "stdout",
     "output_type": "stream",
     "text": [
      "2 * 1 = 2\n",
      "2 * 2 = 4\n",
      "2 * 3 = 6\n",
      "2 * 4 = 8\n",
      "2 * 5 = 10\n",
      "2 * 6 = 12\n",
      "2 * 7 = 14\n",
      "2 * 8 = 16\n",
      "2 * 9 = 18\n",
      "3 * 1 = 3\n",
      "3 * 2 = 6\n",
      "3 * 3 = 9\n",
      "3 * 4 = 12\n",
      "3 * 5 = 15\n",
      "3 * 6 = 18\n",
      "3 * 7 = 21\n",
      "3 * 8 = 24\n",
      "3 * 9 = 27\n",
      "4 * 1 = 4\n",
      "4 * 2 = 8\n",
      "4 * 3 = 12\n",
      "4 * 4 = 16\n",
      "4 * 5 = 20\n",
      "4 * 6 = 24\n",
      "4 * 7 = 28\n",
      "4 * 8 = 32\n",
      "4 * 9 = 36\n",
      "5 * 1 = 5\n",
      "5 * 2 = 10\n",
      "5 * 3 = 15\n",
      "5 * 4 = 20\n",
      "5 * 5 = 25\n",
      "5 * 6 = 30\n",
      "5 * 7 = 35\n",
      "5 * 8 = 40\n",
      "5 * 9 = 45\n",
      "6 * 1 = 6\n",
      "6 * 2 = 12\n",
      "6 * 3 = 18\n",
      "6 * 4 = 24\n",
      "6 * 5 = 30\n",
      "6 * 6 = 36\n",
      "6 * 7 = 42\n",
      "6 * 8 = 48\n",
      "6 * 9 = 54\n",
      "7 * 1 = 7\n",
      "7 * 2 = 14\n",
      "7 * 3 = 21\n",
      "7 * 4 = 28\n",
      "7 * 5 = 35\n",
      "7 * 6 = 42\n",
      "7 * 7 = 49\n",
      "7 * 8 = 56\n",
      "7 * 9 = 63\n",
      "8 * 1 = 8\n",
      "8 * 2 = 16\n",
      "8 * 3 = 24\n",
      "8 * 4 = 32\n",
      "8 * 5 = 40\n",
      "8 * 6 = 48\n",
      "8 * 7 = 56\n",
      "8 * 8 = 64\n",
      "8 * 9 = 72\n",
      "9 * 1 = 9\n",
      "9 * 2 = 18\n",
      "9 * 3 = 27\n",
      "9 * 4 = 36\n",
      "9 * 5 = 45\n",
      "9 * 6 = 54\n",
      "9 * 7 = 63\n",
      "9 * 8 = 72\n",
      "9 * 9 = 81\n"
     ]
    }
   ],
   "source": [
    "startDan = 2\n",
    "#이중 반복문\n",
    "while startDan <= 9:\n",
    "    i = 1 \n",
    "    while i <= 9:\n",
    "        print(f\"{startDan} * {i} = {startDan * i}\")\n",
    "        i += 1\n",
    "    startDan += 1"
   ]
  },
  {
   "cell_type": "code",
   "execution_count": 5,
   "id": "cebe97af-1e36-4a5d-90ad-d82c5e1862c2",
   "metadata": {},
   "outputs": [
    {
     "name": "stdin",
     "output_type": "stream",
     "text": [
      "시작 단을 입력하세요 :  2\n",
      "마지막 단을 입력하세요 :  3\n",
      "곱의 시작 숫자를 입력하세요 :  3\n",
      "곱의 마지막 숫자를 입력하세요 :  5\n"
     ]
    },
    {
     "name": "stdout",
     "output_type": "stream",
     "text": [
      "2 * 3 = 6\n",
      "2 * 4 = 8\n",
      "2 * 5 = 10\n",
      "3 * 3 = 9\n",
      "3 * 4 = 12\n",
      "3 * 5 = 15\n"
     ]
    }
   ],
   "source": [
    "startDan = int(input(\"시작 단을 입력하세요 : \"))\n",
    "endDan = int(input(\"마지막 단을 입력하세요 : \"))\n",
    "startGop = int(input(\"곱의 시작 숫자를 입력하세요 : \"))\n",
    "endGop = int(input(\"곱의 마지막 숫자를 입력하세요 : \"))\n",
    "while startDan <= endDan:\n",
    "    gop = startGop # \n",
    "    while gop <= endGop:\n",
    "        print(f\"{startDan} * {gop} = {startDan * gop}\")\n",
    "        gop += 1\n",
    "    startDan += 1"
   ]
  },
  {
   "cell_type": "code",
   "execution_count": 14,
   "id": "7d1e19a0-25da-4a95-a0fa-826661a95917",
   "metadata": {},
   "outputs": [
    {
     "name": "stdout",
     "output_type": "stream",
     "text": [
      "21\n",
      "21\n",
      "15\n",
      "21\n",
      "21\n"
     ]
    }
   ],
   "source": [
    "###  for문\n",
    "idx = 0\n",
    "sum1 = 0\n",
    "l = [1,2,3,4,5,6]\n",
    "'''\n",
    "sum1 = sum1 + l[0]\n",
    "sum1 = sum1 + l[1]\n",
    "sum1 = sum1 + l[2]\n",
    "...\n",
    "'''\n",
    "print(sum(l))\n",
    "while idx < len(l):\n",
    "    sum1 = sum1 + l[idx]\n",
    "    idx += 1\n",
    "print(sum1)\n",
    "sum1 = 0\n",
    "for num in [1,2,3,4,5]: # for each\n",
    "    sum1 = sum1 + num\n",
    "print(sum1)\n",
    "\n",
    "sum1 = 0\n",
    "for num in l:\n",
    "    sum1 += num\n",
    "print(sum1)\n",
    "\n",
    "### [1,2,3,4,5,6]\n",
    "###  0 1 2 3 4 5\n",
    "sum1 = 0\n",
    "for idx in range(0, len(l)):\n",
    "    sum1 += l[idx]\n",
    "print(sum1)\n"
   ]
  },
  {
   "cell_type": "code",
   "execution_count": 15,
   "id": "b1a9eae7-90f8-465d-bd55-d5cf98c69557",
   "metadata": {},
   "outputs": [
    {
     "name": "stdout",
     "output_type": "stream",
     "text": [
      "5050\n",
      "5050\n"
     ]
    }
   ],
   "source": [
    "# 1 ~ 100\n",
    "sum1= 0\n",
    "i = 1\n",
    "end = 100\n",
    "while i <= end:\n",
    "    sum1 += i\n",
    "    i += 1\n",
    "print(sum1)\n",
    "\n",
    "sum1 =0\n",
    "for i in range(1 , end + 1):\n",
    "    sum1 += i\n",
    "print(sum1)    "
   ]
  },
  {
   "cell_type": "code",
   "execution_count": 19,
   "id": "fe5ba0b0-1d92-4a8d-aee5-fa872a547627",
   "metadata": {},
   "outputs": [
    {
     "name": "stdout",
     "output_type": "stream",
     "text": [
      "2550\n",
      "2550\n",
      "2550\n"
     ]
    }
   ],
   "source": [
    "# 짝수만 구하시오\n",
    "# 1 ~ 100까지 중\n",
    "sum1=0\n",
    "i = 1\n",
    "while i < 101:\n",
    "    if i % 2 == 0:\n",
    "        sum1 += i\n",
    "    i += 1\n",
    "print(sum1)\n",
    "sum1 = 0\n",
    "for i  in range(1 , 101):\n",
    "    if i % 2 == 0:\n",
    "        sum1 += i\n",
    "print(sum1)\n",
    "sum1 = 0\n",
    "i = 0\n",
    "while i < 100:\n",
    "    i += 1\n",
    "    if i % 2 != 0:\n",
    "        continue\n",
    "    sum1 += i\n",
    "print(sum1)\n",
    "sum1 = 0\n",
    "for i  in range(1 , 101):\n",
    "    if i % 2 != 0:\n",
    "        continue\n",
    "    sum1 += i\n",
    "print(sum1)"
   ]
  },
  {
   "cell_type": "code",
   "execution_count": 22,
   "id": "073fbd45-136b-424c-9d9a-35caaebc7b5b",
   "metadata": {},
   "outputs": [
    {
     "name": "stdout",
     "output_type": "stream",
     "text": [
      "5050\n",
      "5050\n"
     ]
    }
   ],
   "source": [
    "# break\n",
    "i = 1\n",
    "sum1 = 0\n",
    "while True:\n",
    "    if i == 101:\n",
    "        break # 조건에 만족하면 반복문 멈춰라.\n",
    "    sum1 += i\n",
    "    i += 1\n",
    "print(sum1)\n",
    "sum1 = 0\n",
    "for i in range(1 , 10001):\n",
    "    if i == 101:\n",
    "        break # 조건에 만족하면 반복문 멈춰라.\n",
    "    sum1 += i\n",
    "print(sum1)"
   ]
  },
  {
   "cell_type": "code",
   "execution_count": 24,
   "id": "71c27ae7-3dfe-4560-aa0d-e44a180726e7",
   "metadata": {},
   "outputs": [
    {
     "name": "stdout",
     "output_type": "stream",
     "text": [
      " 5 * 1 = 5\n",
      " 5 * 2 = 10\n",
      " 5 * 3 = 15\n",
      " 5 * 4 = 20\n",
      " 5 * 5 = 25\n",
      " 5 * 6 = 30\n",
      " 5 * 7 = 35\n",
      " 5 * 8 = 40\n",
      " 5 * 9 = 45\n",
      " 2 * 1 = 2\n",
      " 2 * 2 = 4\n",
      " 2 * 3 = 6\n",
      " 2 * 4 = 8\n",
      " 2 * 5 = 10\n",
      " 2 * 6 = 12\n",
      " 2 * 7 = 14\n",
      " 2 * 8 = 16\n",
      " 2 * 9 = 18\n",
      " 3 * 1 = 3\n",
      " 3 * 2 = 6\n",
      " 3 * 3 = 9\n",
      " 3 * 4 = 12\n",
      " 3 * 5 = 15\n",
      " 3 * 6 = 18\n",
      " 3 * 7 = 21\n",
      " 3 * 8 = 24\n",
      " 3 * 9 = 27\n",
      " 4 * 1 = 4\n",
      " 4 * 2 = 8\n",
      " 4 * 3 = 12\n",
      " 4 * 4 = 16\n",
      " 4 * 5 = 20\n",
      " 4 * 6 = 24\n",
      " 4 * 7 = 28\n",
      " 4 * 8 = 32\n",
      " 4 * 9 = 36\n",
      " 5 * 1 = 5\n",
      " 5 * 2 = 10\n",
      " 5 * 3 = 15\n",
      " 5 * 4 = 20\n",
      " 5 * 5 = 25\n",
      " 5 * 6 = 30\n",
      " 5 * 7 = 35\n",
      " 5 * 8 = 40\n",
      " 5 * 9 = 45\n",
      " 6 * 1 = 6\n",
      " 6 * 2 = 12\n",
      " 6 * 3 = 18\n",
      " 6 * 4 = 24\n",
      " 6 * 5 = 30\n",
      " 6 * 6 = 36\n",
      " 6 * 7 = 42\n",
      " 6 * 8 = 48\n",
      " 6 * 9 = 54\n",
      " 7 * 1 = 7\n",
      " 7 * 2 = 14\n",
      " 7 * 3 = 21\n",
      " 7 * 4 = 28\n",
      " 7 * 5 = 35\n",
      " 7 * 6 = 42\n",
      " 7 * 7 = 49\n",
      " 7 * 8 = 56\n",
      " 7 * 9 = 63\n",
      " 8 * 1 = 8\n",
      " 8 * 2 = 16\n",
      " 8 * 3 = 24\n",
      " 8 * 4 = 32\n",
      " 8 * 5 = 40\n",
      " 8 * 6 = 48\n",
      " 8 * 7 = 56\n",
      " 8 * 8 = 64\n",
      " 8 * 9 = 72\n",
      " 9 * 1 = 9\n",
      " 9 * 2 = 18\n",
      " 9 * 3 = 27\n",
      " 9 * 4 = 36\n",
      " 9 * 5 = 45\n",
      " 9 * 6 = 54\n",
      " 9 * 7 = 63\n",
      " 9 * 8 = 72\n",
      " 9 * 9 = 81\n"
     ]
    }
   ],
   "source": [
    "# for문을 이용해서 5단 출력\n",
    "for gop in range(1, 10):\n",
    "    print(f\" 5 * {gop} = {5 * gop}\")\n",
    "\n",
    "# for 문을 이용해서  2단부터 9단 까지 출력\n",
    "for dan in range(2, 10):\n",
    "    for gop in range(1, 10):\n",
    "        print(f\" {dan} * {gop} = {dan * gop}\")"
   ]
  },
  {
   "cell_type": "code",
   "execution_count": 26,
   "id": "22c5ebd5-ec24-4d13-93cf-1e196ba1bbb7",
   "metadata": {},
   "outputs": [
    {
     "name": "stdin",
     "output_type": "stream",
     "text": [
      "시작단을 입력해주세요. :  2\n",
      "마지막단을 입력해주세요. :  4\n",
      "시작곱을 입력해주세요. :  3\n",
      "마지막곱을 입력해주세요. :  5\n"
     ]
    },
    {
     "name": "stdout",
     "output_type": "stream",
     "text": [
      " 2 * 3 = 6\n",
      " 2 * 4 = 8\n",
      " 2 * 5 = 10\n",
      " 3 * 3 = 9\n",
      " 3 * 4 = 12\n",
      " 3 * 5 = 15\n",
      " 4 * 3 = 12\n",
      " 4 * 4 = 16\n",
      " 4 * 5 = 20\n"
     ]
    }
   ],
   "source": [
    "startDan = int(input(\"시작단을 입력해주세요. : \"))\n",
    "endDan = int(input(\"마지막단을 입력해주세요. : \"))\n",
    "startGop = int(input(\"시작곱을 입력해주세요. : \"))\n",
    "endGop = int(input(\"마지막곱을 입력해주세요. : \"))\n",
    "for dan in range(startDan, endDan + 1):\n",
    "    for gop in range(startGop, endGop +1 ):\n",
    "        print(f\" {dan} * {gop} = {dan * gop}\")"
   ]
  },
  {
   "cell_type": "code",
   "execution_count": 28,
   "id": "b389bd72-b626-4a67-965f-ff10817cceb6",
   "metadata": {},
   "outputs": [
    {
     "name": "stdout",
     "output_type": "stream",
     "text": [
      "22 40 16 27 14 21 "
     ]
    }
   ],
   "source": [
    "import random\n",
    "'''\n",
    "lotto =[]\n",
    "for i in range(1, 45 + 1):\n",
    "    lotto.append(i)\n",
    "'''\n",
    "lotto = [i for i in range(1, 45 + 1)]\n",
    "size = len(lotto)\n",
    "for num in range(0, 6):\n",
    "    size -= 1\n",
    "    idx = random.randint(0, size)\n",
    "    result = lotto.pop(idx)\n",
    "    print(result , end=\" \")"
   ]
  },
  {
   "cell_type": "code",
   "execution_count": 30,
   "id": "371873d8-7f39-4352-a77c-e7033461458f",
   "metadata": {},
   "outputs": [
    {
     "name": "stdin",
     "output_type": "stream",
     "text": [
      " 구매수량을 입력하세요 :  5\n"
     ]
    },
    {
     "name": "stdout",
     "output_type": "stream",
     "text": [
      "35 6 32 27 3 26 \n",
      "19 5 44 38 31 40 \n",
      "2 24 4 7 28 3 \n",
      "43 5 10 3 21 37 \n",
      "2 37 4 43 35 22 \n"
     ]
    }
   ],
   "source": [
    "import random\n",
    "lotto =[]\n",
    "qty = int(input(\" 구매수량을 입력하세요 : \"))\n",
    "for cnt in range(0, qty):\n",
    "    for i in range(1, 45 + 1):\n",
    "        lotto.append(i)\n",
    "    size = len(lotto)\n",
    "    for num in range(0, 6):\n",
    "        size -= 1\n",
    "        idx = random.randint(0, size)\n",
    "        result = lotto.pop(idx)\n",
    "        print(result , end=\" \")\n",
    "    lotto.clear()\n",
    "    print()"
   ]
  },
  {
   "cell_type": "code",
   "execution_count": 32,
   "id": "17af5bdc-3ab9-4735-88eb-22c044c35516",
   "metadata": {},
   "outputs": [
    {
     "name": "stdin",
     "output_type": "stream",
     "text": [
      "구매를 하시려면 Y를 아니면 아무키나 누르시오 Y\n",
      " 구매수량을 입력하세요 :  4\n"
     ]
    },
    {
     "name": "stdout",
     "output_type": "stream",
     "text": [
      "39 9 3 44 42 35 \n",
      "39 37 41 14 5 36 \n",
      "5 2 4 26 9 43 \n",
      "24 26 45 25 8 22 \n"
     ]
    },
    {
     "name": "stdin",
     "output_type": "stream",
     "text": [
      "구매를 하시려면 Y를 아니면 아무키나 누르시오 Y\n",
      " 구매수량을 입력하세요 :  4\n"
     ]
    },
    {
     "name": "stdout",
     "output_type": "stream",
     "text": [
      "26 15 3 19 13 16 \n",
      "29 40 20 16 24 28 \n",
      "12 22 11 35 30 21 \n",
      "27 4 26 16 28 15 \n"
     ]
    },
    {
     "name": "stdin",
     "output_type": "stream",
     "text": [
      "구매를 하시려면 Y를 아니면 아무키나 누르시오 r\n"
     ]
    }
   ],
   "source": [
    "import random\n",
    "lotto =[]\n",
    "while True:\n",
    "    str1 = input(\"구매를 하시려면 Y를 아니면 아무키나 누르시오\")\n",
    "    if 'Y' != str1:\n",
    "        print(\"프로그램이 종료됩니다.\")\n",
    "        break\n",
    "    qty = int(input(\" 구매수량을 입력하세요 : \"))\n",
    "    for cnt in range(0, qty):\n",
    "        for i in range(1, 45 + 1):\n",
    "            lotto.append(i)\n",
    "        size = len(lotto)\n",
    "        for num in range(0, 6):\n",
    "            size -= 1\n",
    "            idx = random.randint(0, size)\n",
    "            result = lotto.pop(idx)\n",
    "            print(result , end=\" \")\n",
    "        lotto.clear()\n",
    "        print()"
   ]
  },
  {
   "cell_type": "code",
   "execution_count": 36,
   "id": "4d5fda6a-7af3-4575-8f50-0f6f9350035a",
   "metadata": {},
   "outputs": [
    {
     "name": "stdout",
     "output_type": "stream",
     "text": [
      "[1, 2, 3, 4, 5, 6, 7, 8, 9, 10, 11, 12, 13, 14, 15, 16, 17, 18, 19, 20, 21, 22, 23, 24, 25, 26, 27, 28, 29, 30, 31, 32, 33, 34, 35, 36, 37, 38, 39, 40, 41, 42, 43, 44, 45]\n",
      "[1, 2, 3, 4, 5, 6, 7, 8, 9, 10, 11, 12, 13, 14, 15, 16, 17, 18, 19, 20, 21, 22, 23, 24, 25, 26, 27, 28, 29, 30, 31, 32, 33, 34, 35, 36, 37, 38, 39, 40, 41, 42, 43, 44, 45]\n"
     ]
    }
   ],
   "source": [
    "# list comprehension\n",
    "lotto = []\n",
    "for i in range(1, 45 + 1):\n",
    "    lotto.append(i)\n",
    "print(lotto)\n",
    "\n",
    "lotto = [i for i in range(1, 45 + 1)] # append"
   ]
  },
  {
   "cell_type": "code",
   "execution_count": 38,
   "id": "13c8b1ac-5f89-4267-82b1-4073e313f822",
   "metadata": {},
   "outputs": [
    {
     "name": "stdout",
     "output_type": "stream",
     "text": [
      "[3, 6, 9, 12, 15, 18, 21, 24, 27, 30, 33, 36, 39, 42, 45, 48, 51, 54, 57, 60, 63, 66, 69, 72, 75, 78, 81, 84, 87, 90, 93, 96, 99, 102, 105, 108, 111, 114, 117, 120, 123, 126, 129, 132, 135]\n",
      "[3, 6, 9, 12, 15, 18, 21, 24, 27, 30, 33, 36, 39, 42, 45, 48, 51, 54, 57, 60, 63, 66, 69, 72, 75, 78, 81, 84, 87, 90, 93, 96, 99, 102, 105, 108, 111, 114, 117, 120, 123, 126, 129, 132, 135]\n"
     ]
    }
   ],
   "source": [
    "lotto = []\n",
    "for i in range(1, 45 + 1):\n",
    "    lotto.append( 3 * i)\n",
    "print(lotto)\n",
    "\n",
    "lotto = [3 * i for i in range(1, 45 + 1) ] # lotto.append일때 사용가능"
   ]
  },
  {
   "cell_type": "code",
   "execution_count": 40,
   "id": "cac0450d-4d21-4efc-a3fa-1d546125949e",
   "metadata": {},
   "outputs": [
    {
     "name": "stdout",
     "output_type": "stream",
     "text": [
      "[6, 12, 18, 24]\n",
      "[6, 12, 18, 24]\n"
     ]
    }
   ],
   "source": [
    "t = 1,2,3,4,5,6,7,8,9\n",
    "l = []\n",
    "#튜플에 있는 값중 짝수만 3을 곱해서 리스트에 저장\n",
    "for num in t:\n",
    "    if num % 2 == 0:\n",
    "        l.append(num * 3)\n",
    "print(l)\n",
    "\n",
    "l = [num * 3 for num in t if num % 2 == 0 ]\n",
    "print(l)"
   ]
  },
  {
   "cell_type": "code",
   "execution_count": 41,
   "id": "a31e0340-ed0b-4526-a6df-5eec17e3ee2d",
   "metadata": {},
   "outputs": [
    {
     "name": "stdout",
     "output_type": "stream",
     "text": [
      "[3, 6, 9, 12, 15, 18, 21, 24, 27, 4, 8, 12, 16, 20, 24, 28, 32, 36, 5, 10, 15, 20, 25, 30, 35, 40, 45, 6, 12, 18, 24, 30, 36, 42, 48, 54]\n"
     ]
    }
   ],
   "source": [
    "# 3~ 6단까지의 곱의 값을 리스트에 추가\n",
    "l = []\n",
    "for dan in range(3, 7):\n",
    "    for gop in range(1, 10):\n",
    "        l.append(dan * gop)\n",
    "print(l)\n",
    "\n",
    "l = [dan * gop for dan in range(3, 7)\n",
    "               for gop in range(1, 10)]\n",
    "print(l)"
   ]
  },
  {
   "cell_type": "code",
   "execution_count": null,
   "id": "b13c5978-5be4-43fe-a795-6f44bc64259c",
   "metadata": {},
   "outputs": [],
   "source": [
    "# 3~ 6단까지의 곱의 값이 짝수만 리스트에 추가\n",
    "l = []\n",
    "for dan in range(3, 7):\n",
    "    for gop in range(1, 10):\n",
    "        if dan * gop % 2 == 0:\n",
    "            l.append(dan * gop)\n",
    "print(l)\n",
    "l = [dan * gop for dan in range(3, 7) \n",
    "               for gop in range(1, 10) if dan * gop % 2 == 0 ]"
   ]
  },
  {
   "cell_type": "code",
   "execution_count": 48,
   "id": "b42b471d-461a-4f46-bcc0-2f6a20634038",
   "metadata": {},
   "outputs": [
    {
     "name": "stdout",
     "output_type": "stream",
     "text": [
      "[(1, 2), (3, 4), (5, 6)]\n",
      "(1, 2)\n",
      "3\n",
      "(3, 4)\n",
      "7\n",
      "(5, 6)\n",
      "11\n",
      "1 2\n",
      "3\n",
      "3 4\n",
      "7\n",
      "5 6\n",
      "11\n",
      "1 2 3\n",
      "6\n",
      "4 5 6\n",
      "15\n",
      "7 8 9\n",
      "24\n"
     ]
    }
   ],
   "source": [
    "l1 = [(1,2),(3,4),(5,6)]\n",
    "print(l1)\n",
    "for t in l1:\n",
    "    print(t) # (1,2)\n",
    "    #           0 1\n",
    "    print(t[0] + t[1])\n",
    "for (a, b) in l1:   # a, b = (1, 2) , (a, b) = (1, 2)\n",
    "    print(a, b)\n",
    "    print(a + b)\n",
    "l2 = [[1,2,3],[4,5,6],[7,8,9]]\n",
    "for a,b,c in l2: # a, b, c = [1,2,3]\n",
    "    print (a,b,c)\n",
    "    print( a + b + c)\n",
    "\n",
    "l2 = [[1,2,3],[4,5],[7,8,9,10]]\n",
    "# a,b, c = 1,2,3,4\n",
    "# 크기가 같아야 오류가 생기지 않는다."
   ]
  },
  {
   "cell_type": "code",
   "execution_count": 50,
   "id": "d2212268-d2a8-49a9-a8ed-91c4acd430ff",
   "metadata": {},
   "outputs": [],
   "source": [
    "# 함수(function) : x값에 따른 y값의 변화를 알고 싶을 때\n",
    "'''\n",
    "f(x) = 2x + 3일때\n",
    "y = f(3)에서 y값은?\n",
    "'''\n",
    "def f(x): # 피호출함수 ,  x : 가인자 ,  매개변수 , parameter\n",
    "    return 2 * x + 3 "
   ]
  },
  {
   "cell_type": "code",
   "execution_count": 52,
   "id": "51a52530-62c5-499f-866c-ba63f8aa4d2a",
   "metadata": {},
   "outputs": [
    {
     "name": "stdout",
     "output_type": "stream",
     "text": [
      "9\n"
     ]
    }
   ],
   "source": [
    "i = 3\n",
    "y = f(i) # 호출함수 , i : 실인자, argument\n",
    "print(y)"
   ]
  },
  {
   "cell_type": "code",
   "execution_count": 53,
   "id": "ef01987a-8f82-4dac-adde-ccfc832f074f",
   "metadata": {},
   "outputs": [
    {
     "name": "stdout",
     "output_type": "stream",
     "text": [
      "13\n"
     ]
    }
   ],
   "source": [
    "y = f(5)\n",
    "print(y)"
   ]
  },
  {
   "cell_type": "code",
   "execution_count": 54,
   "id": "9386374a-b7b8-4371-83d0-f3bf0d176382",
   "metadata": {},
   "outputs": [],
   "source": [
    "'''\n",
    "f(x1, x2) = 3x1 + 5x2일때\n",
    "y = f(5, 3)에서 y값은?\n",
    "'''\n",
    "def f(x1, x2): # x1, x2 : parameter\n",
    "   return 3*x1 + 5*x2"
   ]
  },
  {
   "cell_type": "code",
   "execution_count": 57,
   "id": "8c89bdc7-0439-462e-a902-7a4087bab72f",
   "metadata": {},
   "outputs": [
    {
     "name": "stdout",
     "output_type": "stream",
     "text": [
      "30\n",
      "14355\n"
     ]
    }
   ],
   "source": [
    "y = f(5, 3) # 5, 3 : argument , 5 => x1 , 3 => x2 \n",
    "print(y)\n",
    "y = f(10, 2865)\n",
    "print(y)\n",
    "# argument는 parameter와 1대1 대응한다.\n",
    "# argument와 parameter의 갯수는 같아야 한다.\n",
    "# 피호출함수를 샐행 하려면 같은 이름의 호출함수를 사용한다.\n",
    "# return문 뒤에 있는 값은 호출함수에게 전달된다."
   ]
  },
  {
   "cell_type": "code",
   "execution_count": null,
   "id": "671f4778-2513-4306-b00e-6863ac83255d",
   "metadata": {},
   "outputs": [],
   "source": [
    "'''함수문법\n",
    "def 함수명(parameter1, parameter2, parameter3,..., parametr_n):\n",
    "    명령어1\n",
    "    명령어2\n",
    "    ...\n",
    "    명령어n\n",
    "    return 결과값\n",
    "\n",
    "변수 = 함수명(argument1, argument2, argument3,..., argument_n)\n",
    "print(변수)\n",
    "'''"
   ]
  },
  {
   "cell_type": "code",
   "execution_count": null,
   "id": "bb5f7461-da4a-4f11-a898-4fd56c346c46",
   "metadata": {},
   "outputs": [],
   "source": [
    "#  복잡하고 긴 코드를 반복 실행해야 하는 명령어를 사용하고 싶을 때 함수를 만들자\n",
    "for gop in range(1, 9):\n",
    "    print(f\"3 * {gop} = {3 * gop}\")\n",
    "def gugu3Dan():\n",
    "    for gop in range(1, 9):\n",
    "        print(f\"3 * {gop} = {3 * gop}\")"
   ]
  },
  {
   "cell_type": "code",
   "execution_count": 62,
   "id": "28f21e61-87f5-49e4-bc79-b2e87e7c818f",
   "metadata": {},
   "outputs": [
    {
     "name": "stdout",
     "output_type": "stream",
     "text": [
      "3 * 1 = 3\n",
      "3 * 2 = 6\n",
      "3 * 3 = 9\n",
      "3 * 4 = 12\n",
      "3 * 5 = 15\n",
      "3 * 6 = 18\n",
      "3 * 7 = 21\n",
      "3 * 8 = 24\n",
      "3 * 1 = 3\n",
      "3 * 2 = 6\n",
      "3 * 3 = 9\n",
      "3 * 4 = 12\n",
      "3 * 5 = 15\n",
      "3 * 6 = 18\n",
      "3 * 7 = 21\n",
      "3 * 8 = 24\n",
      "3 * 1 = 3\n",
      "3 * 2 = 6\n",
      "3 * 3 = 9\n",
      "3 * 4 = 12\n",
      "3 * 5 = 15\n",
      "3 * 6 = 18\n",
      "3 * 7 = 21\n",
      "3 * 8 = 24\n",
      "3 * 1 = 3\n",
      "3 * 2 = 6\n",
      "3 * 3 = 9\n",
      "3 * 4 = 12\n",
      "3 * 5 = 15\n",
      "3 * 6 = 18\n",
      "3 * 7 = 21\n",
      "3 * 8 = 24\n"
     ]
    }
   ],
   "source": [
    "gugu3Dan()\n",
    "gugu3Dan()\n",
    "gugu3Dan()\n",
    "gugu3Dan()"
   ]
  },
  {
   "cell_type": "code",
   "execution_count": 66,
   "id": "39c91c3c-6102-491d-a988-86b5fdf8a728",
   "metadata": {},
   "outputs": [],
   "source": [
    "# 함수의 4가지유형\n",
    "# 일반적인 형식 : 매개변수와 반환값이 있는 경우\n",
    "def add(x1,  x2):\n",
    "    return x1 + x2"
   ]
  },
  {
   "cell_type": "code",
   "execution_count": 67,
   "id": "a6a5531a-add6-49a7-8bf8-661b14d26e23",
   "metadata": {},
   "outputs": [
    {
     "name": "stdout",
     "output_type": "stream",
     "text": [
      "8\n"
     ]
    }
   ],
   "source": [
    "result = add( 3, 5)\n",
    "print(result)"
   ]
  },
  {
   "cell_type": "code",
   "execution_count": 69,
   "id": "72747c9d-2f18-4c76-8a95-c8a1606249d9",
   "metadata": {},
   "outputs": [],
   "source": [
    "# 2. 매개변수는 있고 반환값이 없는 경우\n",
    "def add(a, b):\n",
    "    print(a + b)"
   ]
  },
  {
   "cell_type": "code",
   "execution_count": 70,
   "id": "2c50c471-a067-43a1-a64e-4acfcacd8e3f",
   "metadata": {},
   "outputs": [
    {
     "name": "stdout",
     "output_type": "stream",
     "text": [
      "8\n"
     ]
    }
   ],
   "source": [
    "add(3, 5)"
   ]
  },
  {
   "cell_type": "code",
   "execution_count": 72,
   "id": "a03d4a26-7751-463b-8995-fd344304d5ef",
   "metadata": {},
   "outputs": [],
   "source": [
    "# 3. 매개변수는 없고 반환값있는 경우\n",
    "def add():\n",
    "    x = 10; y = 20\n",
    "    return x + y"
   ]
  },
  {
   "cell_type": "code",
   "execution_count": 74,
   "id": "c60bdac5-155a-4c72-9b5f-d867f2522cfc",
   "metadata": {},
   "outputs": [
    {
     "name": "stdout",
     "output_type": "stream",
     "text": [
      "30\n"
     ]
    }
   ],
   "source": [
    "result = add()\n",
    "print(result)"
   ]
  },
  {
   "cell_type": "code",
   "execution_count": 77,
   "id": "2e81109e-c2ef-4e51-9db7-0dff1c0d0a63",
   "metadata": {},
   "outputs": [],
   "source": [
    "# 4. 매개변수 없고 반환값도 없는 경우\n",
    "def add():\n",
    "    x = int(input(\"숫자를 입력하세요 : \")) \n",
    "    y = int(input(\"숫자를 입력하세요 : \")) \n",
    "    print( x + y)"
   ]
  },
  {
   "cell_type": "code",
   "execution_count": 78,
   "id": "071a6c6b-22bb-4196-986d-9b9b3c7271ae",
   "metadata": {},
   "outputs": [
    {
     "name": "stdin",
     "output_type": "stream",
     "text": [
      "숫자를 입력하세요 :  10\n",
      "숫자를 입력하세요 :  20\n"
     ]
    },
    {
     "name": "stdout",
     "output_type": "stream",
     "text": [
      "30\n"
     ]
    }
   ],
   "source": [
    "add()"
   ]
  },
  {
   "cell_type": "code",
   "execution_count": 81,
   "id": "7efcb147-3c86-43db-9c95-f7a04ff3b868",
   "metadata": {},
   "outputs": [
    {
     "name": "stdin",
     "output_type": "stream",
     "text": [
      "시작곱을 입력해주세요 :  3\n",
      "마지막곱을 입력해주세요 :  6\n"
     ]
    },
    {
     "name": "stdout",
     "output_type": "stream",
     "text": [
      "3 * 3 = 9\n",
      "3 * 4 = 12\n",
      "3 * 5 = 15\n",
      "3 * 6 = 18\n"
     ]
    }
   ],
   "source": [
    "startGop = int(input(\"시작곱을 입력해주세요 : \"))\n",
    "endGop = int(input(\"마지막곱을 입력해주세요 : \"))\n",
    "for gop in range(startGop, endGop + 1):\n",
    "    print(f\"3 * {gop} = {3 * gop}\")"
   ]
  },
  {
   "cell_type": "code",
   "execution_count": 89,
   "id": "7af9679d-d1aa-4772-9fda-3cba03781f93",
   "metadata": {},
   "outputs": [],
   "source": [
    "def gugu3Dan():\n",
    "    startGop = int(input(\"시작곱을 입력해주세요 : \"))\n",
    "    endGop = int(input(\"마지막곱을 입력해주세요 : \"))\n",
    "    for gop in range(startGop, endGop + 1):\n",
    "        print(f\"3 * {gop} = {3 * gop}\")"
   ]
  },
  {
   "cell_type": "code",
   "execution_count": 90,
   "id": "ba2c1a7d-cc27-4feb-a104-cc14286aaea4",
   "metadata": {},
   "outputs": [
    {
     "name": "stdin",
     "output_type": "stream",
     "text": [
      "시작곱을 입력해주세요 :  3\n",
      "마지막곱을 입력해주세요 :  5\n"
     ]
    },
    {
     "name": "stdout",
     "output_type": "stream",
     "text": [
      "3 * 3 = 9\n",
      "3 * 4 = 12\n",
      "3 * 5 = 15\n"
     ]
    }
   ],
   "source": [
    "gugu3Dan()"
   ]
  },
  {
   "cell_type": "code",
   "execution_count": 96,
   "id": "3a9ef9eb-40fe-46a1-8cfe-785f5ca6de17",
   "metadata": {},
   "outputs": [],
   "source": [
    "def gugu3Dan(startGop, endGop):\n",
    "    for gop in range(startGop, endGop + 1):\n",
    "        print(f\"3 * {gop} = {3 * gop}\")"
   ]
  },
  {
   "cell_type": "code",
   "execution_count": 97,
   "id": "0f1f6502-d06b-4ff5-a823-fa545c68bba2",
   "metadata": {},
   "outputs": [
    {
     "name": "stdin",
     "output_type": "stream",
     "text": [
      "시작 곱을 입력해주세요 :  4\n",
      "마지막 곱을 입력해주세요 :  5\n"
     ]
    },
    {
     "name": "stdout",
     "output_type": "stream",
     "text": [
      "3 * 4 = 12\n",
      "3 * 5 = 15\n"
     ]
    }
   ],
   "source": [
    "startGop = int(input(\"시작 곱을 입력해주세요 : \"))\n",
    "endGop = int(input(\"마지막 곱을 입력해주세요 : \"))\n",
    "gugu3Dan(startGop, endGop)"
   ]
  },
  {
   "cell_type": "code",
   "execution_count": 93,
   "id": "754c9ed5-7436-4e0d-b8f5-0de694ea1cb1",
   "metadata": {},
   "outputs": [
    {
     "name": "stdout",
     "output_type": "stream",
     "text": [
      "sdfs\n"
     ]
    }
   ],
   "source": [
    "# parameter이름을 이용해서 값을 전달\n"
   ]
  },
  {
   "cell_type": "code",
   "execution_count": 101,
   "id": "5dd9833e-006a-4d9f-9636-a3e026d94668",
   "metadata": {},
   "outputs": [],
   "source": [
    "def lottoF():\n",
    "    lotto =[]\n",
    "    while True:\n",
    "        str1 = input(\"구매를 하시려면 Y를 아니면 아무키나 누르시오\")\n",
    "        if 'Y' != str1:\n",
    "            print(\"프로그램이 종료됩니다.\")\n",
    "            break\n",
    "        qty = int(input(\" 구매수량을 입력하세요 : \"))\n",
    "        for cnt in range(0, qty):\n",
    "            for i in range(1, 45 + 1):\n",
    "                lotto.append(i)\n",
    "            size = len(lotto)\n",
    "            for num in range(0, 6):\n",
    "                size -= 1\n",
    "                idx = random.randint(0, size)\n",
    "                result = lotto.pop(idx)\n",
    "                print(result , end=\" \")\n",
    "            lotto.clear()\n",
    "            print()"
   ]
  },
  {
   "cell_type": "code",
   "execution_count": 102,
   "id": "972b92aa-ebae-4bd4-9c26-4627499760d2",
   "metadata": {},
   "outputs": [
    {
     "name": "stdin",
     "output_type": "stream",
     "text": [
      "구매를 하시려면 Y를 아니면 아무키나 누르시오 Y\n",
      " 구매수량을 입력하세요 :  4\n"
     ]
    },
    {
     "name": "stdout",
     "output_type": "stream",
     "text": [
      "16 34 1 36 12 40 \n",
      "16 9 39 45 17 34 \n",
      "25 45 13 16 28 2 \n",
      "29 7 34 35 21 18 \n"
     ]
    },
    {
     "name": "stdin",
     "output_type": "stream",
     "text": [
      "구매를 하시려면 Y를 아니면 아무키나 누르시오 v\n"
     ]
    },
    {
     "name": "stdout",
     "output_type": "stream",
     "text": [
      "프로그램이 종료됩니다.\n"
     ]
    }
   ],
   "source": [
    "lottoF()"
   ]
  },
  {
   "cell_type": "code",
   "execution_count": 103,
   "id": "dd8e82cd-f5ac-43fb-baaa-1b536d0ef1f9",
   "metadata": {},
   "outputs": [],
   "source": [
    "# parameter이름을 이용해서 값을 전달\n",
    "def sum1(num1 , num2): # 이름 : 식별자\n",
    "    sum1 = 0\n",
    "    for i in range(num1, num2 + 1):\n",
    "        sum1 += i\n",
    "    print(sum1)"
   ]
  },
  {
   "cell_type": "code",
   "execution_count": 105,
   "id": "4ff4957a-e236-44c6-b2c6-8517b4be8ec2",
   "metadata": {},
   "outputs": [
    {
     "name": "stdout",
     "output_type": "stream",
     "text": [
      "165\n",
      "0\n"
     ]
    }
   ],
   "source": [
    "sum1(10, 20)\n",
    "sum1(num2 = 20, num1 = 10) # argument에 parmeter의 이름을 사용할 수 있다."
   ]
  },
  {
   "cell_type": "code",
   "execution_count": 106,
   "id": "d710cf03-3c7f-4615-a723-7d20b2066b0a",
   "metadata": {},
   "outputs": [],
   "source": [
    "def calc(x1, x2, opt):\n",
    "    if opt == \"add\":\n",
    "        result = x1 + x2\n",
    "    elif opt == \"sub\":\n",
    "        result = x1 - x2\n",
    "    elif opt == \"mul\":\n",
    "        result = x1 * x2\n",
    "    else:\n",
    "        result = x1 / x2\n",
    "    return result"
   ]
  },
  {
   "cell_type": "code",
   "execution_count": 114,
   "id": "1a306a29-b126-46c4-b1de-7379e7c8b60e",
   "metadata": {},
   "outputs": [
    {
     "ename": "SyntaxError",
     "evalue": "positional argument follows keyword argument (4012282830.py, line 9)",
     "output_type": "error",
     "traceback": [
      "\u001b[1;36m  Cell \u001b[1;32mIn[114], line 9\u001b[1;36m\u001b[0m\n\u001b[1;33m    y = calc(10, x2 = 30, \"mul\")\u001b[0m\n\u001b[1;37m                               ^\u001b[0m\n\u001b[1;31mSyntaxError\u001b[0m\u001b[1;31m:\u001b[0m positional argument follows keyword argument\n"
     ]
    }
   ],
   "source": [
    "y = calc(10, 20, \"add\")\n",
    "print(y)\n",
    "y = calc(10, opt=\"mul\", x2 = 30) \n",
    "print(y)\n",
    "y = calc( opt=\"mul\", x2 = 30, x1=10) \n",
    "print(y)\n",
    "#y = calc( opt=\"mul\", 30, x1=10) \n",
    "#print(y)\n",
    "#y = calc(10, x2 = 30, \"mul\") \n",
    "#print(y)"
   ]
  },
  {
   "cell_type": "code",
   "execution_count": 117,
   "id": "ad3157c5-f33f-45ac-92e8-834def240e04",
   "metadata": {},
   "outputs": [
    {
     "name": "stdout",
     "output_type": "stream",
     "text": [
      "(1, 2, 3, 4, 5)\n",
      "(1, 2, 3, 4, 5, 6, 7)\n"
     ]
    }
   ],
   "source": [
    "'''\n",
    "sum(1)\n",
    "sum(1,2,3,4,4,5)\n",
    "sum(1,2,4,34,5)\n",
    "'''\n",
    "i = 1,2,3,4,5\n",
    "print(i)\n",
    "# 같은 이름의 함수명을 여러개 만들 수 없다\n",
    "# 같은 이름의 함수명을 여러개 만들 수 없다\n",
    "def add(*para): # *매개변수(*para) : 튜플\n",
    "    print(para)\n",
    "add(1,2,3,4,5,6,7)"
   ]
  },
  {
   "cell_type": "code",
   "execution_count": 125,
   "id": "3a5e2d71-c06a-4d82-aa03-2bdf18b3500f",
   "metadata": {},
   "outputs": [],
   "source": [
    "def add_mul(opt, *para ):\n",
    "    sum1 = 1\n",
    "    if opt==\"add\":\n",
    "        for i in para:\n",
    "            sum1 += i\n",
    "    elif opt == \"mul\":\n",
    "        for i in para:\n",
    "            sum1 *= i\n",
    "    print(sum1)"
   ]
  },
  {
   "cell_type": "code",
   "execution_count": 123,
   "id": "f5fad220-6c91-499c-be28-9ac369993a6d",
   "metadata": {},
   "outputs": [
    {
     "name": "stdout",
     "output_type": "stream",
     "text": [
      "22\n",
      "720\n"
     ]
    }
   ],
   "source": [
    "add_mul(\"add\", 1,2,3,4,5,6)\n",
    "add_mul(\"mul\", 1,2,3,4,5,6)"
   ]
  },
  {
   "cell_type": "code",
   "execution_count": 126,
   "id": "cb1cf489-11bc-494b-9b04-59d9725c8a18",
   "metadata": {},
   "outputs": [],
   "source": [
    "# argument를 딕셔너리로 받자.\n",
    "def dic1(**para):\n",
    "    print(para)"
   ]
  },
  {
   "cell_type": "code",
   "execution_count": 127,
   "id": "b9c3c8fe-60e4-4250-bb83-dc2207a3e691",
   "metadata": {},
   "outputs": [
    {
     "name": "stdout",
     "output_type": "stream",
     "text": [
      "{'a': 10, 'b': 20}\n"
     ]
    }
   ],
   "source": [
    "dic1(a = 10, b= 20)"
   ]
  },
  {
   "cell_type": "code",
   "execution_count": 128,
   "id": "c2c5e0ca-9171-4e20-8b1f-e9df5b70d18d",
   "metadata": {},
   "outputs": [],
   "source": [
    "# 함수의 리턴값은 언제나 하나이다\n",
    "def add(x1, x3):\n",
    "    return x1 + x3"
   ]
  },
  {
   "cell_type": "code",
   "execution_count": 129,
   "id": "7b16814c-fd29-443e-b209-ea0413bacf0c",
   "metadata": {},
   "outputs": [
    {
     "name": "stdout",
     "output_type": "stream",
     "text": [
      "8\n"
     ]
    }
   ],
   "source": [
    "result = add(3,5)\n",
    "print(result)"
   ]
  },
  {
   "cell_type": "code",
   "execution_count": 134,
   "id": "873d2114-d95a-4c84-bf6f-fd06e140cad2",
   "metadata": {},
   "outputs": [],
   "source": [
    "#return문은 함수에서 한번만 사용가능하다.\n",
    "def add_nul():\n",
    "    x = 10\n",
    "    y = 3\n",
    "    return x + y, x * y"
   ]
  },
  {
   "cell_type": "code",
   "execution_count": 136,
   "id": "831b3a19-88be-49e1-ab0f-9ebbd87741c2",
   "metadata": {},
   "outputs": [
    {
     "name": "stdout",
     "output_type": "stream",
     "text": [
      "13 30\n"
     ]
    }
   ],
   "source": [
    "result = add_nul()\n",
    "print(result[0], result[1])"
   ]
  },
  {
   "cell_type": "code",
   "execution_count": 133,
   "id": "f6c5c117-19a1-40a4-aa51-4a9f771d1597",
   "metadata": {},
   "outputs": [
    {
     "name": "stdout",
     "output_type": "stream",
     "text": [
      "(1, 2, 3, 4, 5)\n"
     ]
    }
   ],
   "source": [
    "t = 1,2,3,4,5\n",
    "print(t)"
   ]
  }
 ],
 "metadata": {
  "kernelspec": {
   "display_name": "Python 3 (ipykernel)",
   "language": "python",
   "name": "python3"
  },
  "language_info": {
   "codemirror_mode": {
    "name": "ipython",
    "version": 3
   },
   "file_extension": ".py",
   "mimetype": "text/x-python",
   "name": "python",
   "nbconvert_exporter": "python",
   "pygments_lexer": "ipython3",
   "version": "3.13.2"
  }
 },
 "nbformat": 4,
 "nbformat_minor": 5
}
