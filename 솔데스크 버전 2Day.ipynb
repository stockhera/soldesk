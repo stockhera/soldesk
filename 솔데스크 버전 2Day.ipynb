{
 "cells": [
  {
   "cell_type": "code",
   "execution_count": 2,
   "id": "6e2206c6-3b9f-44fd-b95f-3f16be02fa86",
   "metadata": {},
   "outputs": [
    {
     "name": "stdout",
     "output_type": "stream",
     "text": [
      "['Life', 'is', 'too', 'short']\n"
     ]
    }
   ],
   "source": [
    "str1 = \"Life is too short\"\n",
    "str2 = str1.split()\n",
    "print(str2) # ['Life', 'is', 'too', 'short'] : 리스트"
   ]
  },
  {
   "cell_type": "code",
   "execution_count": 5,
   "id": "ba98cafe-b50f-4ba5-98ee-11e0c8d06207",
   "metadata": {},
   "outputs": [
    {
     "name": "stdout",
     "output_type": "stream",
     "text": [
      "10\n",
      "[1, 2, 3, 4]\n"
     ]
    }
   ],
   "source": [
    "i = 10; # 정수리터널 변수\n",
    "f = 10.5 # 실수형 리터널 변수\n",
    "s = \"이숭무\" #문자열형 리터널 변수\n",
    "l = [1,2,3,4] # 리스트 변수\n",
    "print(i)\n",
    "print(l)"
   ]
  },
  {
   "cell_type": "code",
   "execution_count": 6,
   "id": "a4a58925-3e8f-4d27-a3a2-5ada3cb0be9d",
   "metadata": {},
   "outputs": [],
   "source": [
    "# 리스트자료형 형식\n",
    "l = [] # 빈 리스트\n",
    "l = [1,2,3,4,5] # 정수 리스트\n",
    "l = [10.5,2.5,3.8] # 실수 리스트\n",
    "l = ['a','b','c','이숭무'] #문자열 리스트\n",
    "l = [10, \"이숭무\", 10.5] #혼합형 리스트\n",
    "l = [10, \"이숭무\", 10.5, [1,2,3]] # 리스트를 포함한 혼합형 리스트\n",
    "l = [[1,2,3,4],[5,6,7]] # 리스트를 포함 리스트"
   ]
  },
  {
   "cell_type": "code",
   "execution_count": 14,
   "id": "3128ba65-ec5f-4c99-ab4a-478b7a15d050",
   "metadata": {},
   "outputs": [
    {
     "name": "stdout",
     "output_type": "stream",
     "text": [
      "e\n",
      "['Life', 'is', 'too', 'short']\n",
      "is\n",
      "is\n",
      "is\n",
      "10\n",
      "short\n",
      "r\n",
      "r\n",
      "r\n"
     ]
    }
   ],
   "source": [
    "str1 = \"Life is too short\"\n",
    "#       0123456789  :index\n",
    "#              1\n",
    "#       76543210987654321 -\n",
    "print(str1[3])\n",
    "l = str1.split()\n",
    "print(l) # ['Life', 'is', 'too', 'short']\n",
    "#              0      1      2       3  : 요소가 가지고 있는 고유의 번호 :index\n",
    "#              4      3      2       1  -\n",
    "print(l[1]) # 'is'\n",
    "print(l[-3])\n",
    "l = ['Life', 'is', 'too', 'short', 10]\n",
    "#      0       1      2      3      4\n",
    "#                          01234\n",
    "str3 = l[1]\n",
    "print(str3) # is : 문자열\n",
    "i = l[4]\n",
    "print(i) # 4 : 정수\n",
    "str3 = l[3]\n",
    "print(str3)    # short  :문자열\n",
    "#                01234\n",
    "print(str3[3]) # r\n",
    "print(l[3][3])\n",
    "\n",
    "print(l[3][3])"
   ]
  },
  {
   "cell_type": "code",
   "execution_count": 21,
   "id": "3abdf1f3-5fa9-42c7-a42a-1b72c3bc28da",
   "metadata": {},
   "outputs": [
    {
     "name": "stdout",
     "output_type": "stream",
     "text": [
      "1\n",
      "2\n",
      "3\n",
      "Life\n",
      "is\n",
      "Lifeis\n",
      "[3, 4, 5]\n",
      "LifeLife\n",
      "10\n",
      "20\n",
      "1010\n",
      "f\n"
     ]
    }
   ],
   "source": [
    "l = [1, 2, 'Life', 'is', [3,4,5], 'too', [1], 0.5, 'short', \"10\"]\n",
    "#    0  1     2      3      4       5     6    7      8       9\n",
    "print(l[0]) # 정수\n",
    "print(l[1]) # 정수\n",
    "# 정수 + 정수 : 10 + 20\n",
    "print(l[0] + l[1]) \n",
    "print(l[2]) # 문자열\n",
    "print(l[3]) # 문자열\n",
    "# 문자열 + 문자열 : 연결 연산자\n",
    "print(l[2] + l[3]) \n",
    "print(l[4]) # 리스트\n",
    "# 문자열 * 정수 : 반복연산자\n",
    "print(l[2] * l[1])\n",
    "print(l[9]) # \"10\" : 문자열\n",
    "#print(l[9] + 10)\n",
    "print(int(l[9]) + 10)\n",
    "print(l[9] + str(10))\n",
    "# l[2] 에 있는 f를 출력\n",
    "print(l[2][2]) # l[2] :\"Life\" => l[2][2] : f"
   ]
  },
  {
   "cell_type": "code",
   "execution_count": 27,
   "id": "c007d8c5-5130-40b7-8b50-57e09c65953b",
   "metadata": {},
   "outputs": [
    {
     "name": "stdout",
     "output_type": "stream",
     "text": [
      "['a', 'b', 'c']\n",
      "b\n",
      "['a', 'b', 'c']\n",
      "b\n",
      "b\n",
      "b\n"
     ]
    }
   ],
   "source": [
    "a = [1, 2, 3, ['a', 'b', 'c']]\n",
    "#    0  1  2         3\n",
    "#              0     1    2\n",
    "#  - 4  3  2         1  \n",
    "#            - 3     2    1\n",
    "print(a[3])\n",
    "print(a[3][1])\n",
    "print(a[-1])\n",
    "print(a[-1][-2])\n",
    "print(a[3][-2])\n",
    "print(a[-1][1])"
   ]
  },
  {
   "cell_type": "code",
   "execution_count": 31,
   "id": "9ad8dc0f-79c5-41b0-b540-cd74deefa4c7",
   "metadata": {},
   "outputs": [
    {
     "name": "stdout",
     "output_type": "stream",
     "text": [
      "['a', 'b', ['life', 'is']]\n",
      "['life', 'is']\n",
      "life\n",
      "f\n",
      "i\n"
     ]
    }
   ],
   "source": [
    "a = [1, 2, 3, ['a', 'b', ['life', 'is']]]\n",
    "#    0  1  2             3\n",
    "#               0    1          2\n",
    "#                            0      1\n",
    "print(a[3]) # ['a', 'b', ['life', 'is']]\n",
    "#               0    1         2\n",
    "print(a[3][2]) # ['life', 'is']\n",
    "#                   0      1\n",
    "print(a[3][2][0]) # 'life'\n",
    "#                    0123\n",
    "print(a[3][2][0][2])\n",
    "print(a[3][2][0][1])\n",
    "# 리스트 indexing"
   ]
  },
  {
   "cell_type": "code",
   "execution_count": 46,
   "id": "50d0c612-8f62-458a-80dd-40d68995f86d",
   "metadata": {},
   "outputs": [
    {
     "name": "stdout",
     "output_type": "stream",
     "text": [
      "Life\n",
      "Life\n",
      "[1, 2, 'Life', 'is']\n",
      "[1, 2, 'Life', 'is']\n",
      "[1, 2]\n",
      "[1]\n",
      "1\n",
      "[]\n",
      "[3, 4, 5]\n",
      "[3, 4]\n",
      "Life\n",
      "['Life']\n",
      "[]\n",
      "[]\n"
     ]
    }
   ],
   "source": [
    "# slicing\n",
    "str1 = \"Life is too short\"\n",
    "#       01234...\n",
    "print(str1[0:4]) \n",
    "print(str1[0:0+4])\n",
    "l = [1, 2, 'Life', 'is', [3, 4, 5], 'too', [1], 0.5, 'short', '10']\n",
    "#    0  1    2       3...\n",
    "print(l[0:4])\n",
    "print(l[0: 0 + 4])\n",
    "print(l[0: 0+ 2])\n",
    "print(l[0:1])  # [1]: 리스트 slicing의 결과는 리스트가 된다.\n",
    "print(l[0]) # 1 : 리스트 indexing의 결과 요소의 자료형\n",
    "print(l[0:0]) # [] : 빈 리스트\n",
    "print(l[4]) # [3, 4, 5] \n",
    "#              0  1  2\n",
    "print(l[4][0:2])\n",
    "#################################################\n",
    "print(l[2]) # Life\n",
    "print(l[2: 2 + 1]) #['Life']\n",
    "print(l[2: 2 + 0])  # [] 빈리스트\n",
    "print(l[3:3])"
   ]
  },
  {
   "cell_type": "code",
   "execution_count": 66,
   "id": "5448ca2d-8521-48b1-9e38-1bdbc9698a14",
   "metadata": {},
   "outputs": [
    {
     "name": "stdout",
     "output_type": "stream",
     "text": [
      "[1, 2, 3, 4, 5, 6, 7, 8]\n",
      "[1, 2, 3, 4, 1, 2, 3, 4, 1, 2, 3, 4]\n",
      "[1, 2, 'Life', 'is', [3, 4, 5], 'too', [1], 0.5, 'short', '10']\n",
      "[3, 4, 5, 1]\n",
      "[3, 4, 5, 3, 4, 5]\n",
      "['Life', 'i', 's']\n",
      "Lifeis\n",
      "hello\n",
      "['h', 'e', 'l', 'l', 'o']\n",
      "[1, 3, 4, 5]\n",
      "[3, 4, 5, 3, 4, 5]\n",
      "[1, 3, 4, 5]\n",
      "[1, 2, 3, 4]\n",
      "[1, 2, 3, 4]\n",
      "[1]\n",
      "[1]\n"
     ]
    }
   ],
   "source": [
    "# 리스트 연산자  : +(연결연산자), *(반복연산자)\n",
    "l1 = [1,2,3,4]\n",
    "l2 = [5,6,7,8]\n",
    "print(l1 + l2)\n",
    "print(l1 * 3 )\n",
    "print(l)\n",
    "print(l[4] + l[6]) # +:연결연산자\n",
    "print(l[4] * l[1]) # 리스트 * 정수\n",
    "#print(l[2:2 + 1] + l[3] ) # 리스트 + 문자열(l[3] : \"is\")\n",
    "print(l[2:2 + 1] + list(l[3])) # list(l[3]) : [\"i\",\"s\"] # 리스트 + 리스트\n",
    "print(l[2] + l[3]) # 문자열 + 문자열\n",
    "print(\"hello\")\n",
    "print(list(\"hello\")) # ['h', 'e', 'l', 'l', 'o']\n",
    "# print(list(l[0]) + l[4]) # list(정수) + 리스트\n",
    "# list()리스트로 변환하는 변환 함수 : 정수를 리스트로 변환 할 수 없음.\n",
    "print(l[0:1] + l[4])\n",
    "print(l[4] * l[1]) # 리스트 * 정수\n",
    "print([l[0]] + l[4])\n",
    "l4 = [1,2,3,4]\n",
    "print(l4)\n",
    "print([1,2,3,4])\n",
    "print([1])\n",
    "print([l[0]])"
   ]
  },
  {
   "cell_type": "code",
   "execution_count": 79,
   "id": "0e841286-4268-45c0-a698-deab1a940795",
   "metadata": {},
   "outputs": [
    {
     "name": "stdout",
     "output_type": "stream",
     "text": [
      "Lf stosot\n",
      "['Life', 'too']\n",
      "trohs oot si efiL\n",
      "['short', 'too', 'is', 'Life']\n",
      "Life is too short\n",
      "['Life', 'is', 'too', 'short']\n",
      "Lif\n",
      "Lif\n",
      "['Life', 'is', 'too']\n",
      "['Life', 'is', 'too']\n",
      "ife is too short\n",
      "ife is too short\n",
      "ife is too short\n",
      "['too', 'short']\n",
      "['too', 'short']\n",
      "['too', 'short']\n"
     ]
    }
   ],
   "source": [
    "str1 = \"Life is too short\"\n",
    "result = ['Life', 'is', 'too', 'short']\n",
    "print(str1[::2])\n",
    "print(result[::2])\n",
    "print(str1[::-1])\n",
    "print(result[::-1])\n",
    "print(str1[:])\n",
    "print(result[:])\n",
    "print(str1[0:3])\n",
    "print(str1[:3])\n",
    "print(result[0:3])\n",
    "print(result[:3])\n",
    "print(str1[1:17])\n",
    "print(str1[1:])\n",
    "print(str1[1:len(str1)])\n",
    "print(result[2 : 2 + 2]) # ['Life', 'is', 'too', 'short'] : start :2 , end : 4\n",
    "                         #     0      1      2      3 \n",
    "print(result[2:])\n",
    "print(result[2:len(result)])"
   ]
  },
  {
   "cell_type": "code",
   "execution_count": 87,
   "id": "969b0d0b-2318-4259-b808-25d1cc3904d3",
   "metadata": {},
   "outputs": [
    {
     "name": "stdout",
     "output_type": "stream",
     "text": [
      "Life is too short\n",
      "['Life', 'is', 'too', 'short']\n",
      "17\n",
      "4\n"
     ]
    }
   ],
   "source": [
    "str1 = \"Lyfe is too short\"\n",
    "# Life  :  \"Your leg\"\n",
    "str2 = str1.replace(\"Lyfe\",  \"Life\")\n",
    "# str1[1] = 'i'\n",
    "print(str2)\n",
    "result = ['Lyfe', 'is', 'too', 'short']\n",
    "result[0] = 'Life' #  요소변경\n",
    "print(result)\n",
    "print(len(str1))\n",
    "print(len(result))"
   ]
  },
  {
   "cell_type": "code",
   "execution_count": 103,
   "id": "8519786c-adf4-4b77-820a-45d29350271d",
   "metadata": {},
   "outputs": [
    {
     "name": "stdout",
     "output_type": "stream",
     "text": [
      "['Life', 'is', 'too']\n",
      "['Life', 'is']\n",
      "['Life', 'is', 'too']\n",
      "['Life', 'is', 'too']\n",
      "None\n",
      "['Life', 'is', 'too', 'short']\n",
      "['Life', 'short']\n",
      "['Life', 'is', 'short']\n",
      "['Life', 'is', 'too', 'short']\n",
      "['Life', 'is', 'too', 'short', [1, 2, 3]]\n",
      "[1, 2, 3, 4, 5, 6, 7]\n"
     ]
    }
   ],
   "source": [
    "# 리스트 함수\n",
    "# 리스트에 요소 추가 \n",
    "#append()\n",
    "l1 = ['Life', 'is']\n",
    "# l1 에 'too' 추가\n",
    "print(l1 + ['too'])\n",
    "print(l1)\n",
    "l2 = l1 + ['too']\n",
    "print(l2)\n",
    "l1.append('too') \n",
    "print(l1)\n",
    "print(l1.append('short')) # 마지막 요소 추가\n",
    "print(l1)\n",
    "l1 = ['Life', 'short']\n",
    "#       0        1\n",
    "print(l1)\n",
    "# 중간에 삽입 : insert\n",
    "# 'is'\n",
    "l1.insert(1, 'is')\n",
    "print(l1) # ['Life', 'is', 'short']\n",
    "l1.insert(2, 'too')\n",
    "print(l1)\n",
    "# 확장 : extend\n",
    "l1.append([1,2,3])\n",
    "print(l1)\n",
    "a = [1,2,3,4]\n",
    "b = [5,6,7]\n",
    "#[1,2,3,4,5,6,7]\n",
    "a.extend(b)\n",
    "print(a)\n",
    "#  추가 :  append, insert , extend"
   ]
  },
  {
   "cell_type": "code",
   "execution_count": 116,
   "id": "de2655b2-1b26-4fac-a9bb-253e08561ff2",
   "metadata": {},
   "outputs": [
    {
     "name": "stdout",
     "output_type": "stream",
     "text": [
      "['Life', 'too', 'short']\n",
      "['Life', 'too']\n",
      "['Life', 'too', 'short']\n",
      "['Life', 'short']\n",
      "[]\n",
      "None\n",
      "['Life', 'too', 'short']\n",
      "short\n",
      "['Life', 'too']\n",
      "is\n",
      "Life\n"
     ]
    }
   ],
   "source": [
    "#요소 삭제\n",
    "l2 = ['Life', 'is', 'too', 'short']\n",
    "#        0     1      2       3\n",
    "# index를 이용해서 요소 삭제 : del\n",
    "del l2[1]\n",
    "print(l2) # ['Life', 'too', 'short']\n",
    "#              0       1      2\n",
    "del l2[2]\n",
    "print(l2) # ['Life', 'too']\n",
    "# 요소를 이용해서 삭제 : remove\n",
    "l2 = ['Life', 'is', 'too', 'short']\n",
    "l2.remove('is')\n",
    "print(l2)\n",
    "l2.remove('too')\n",
    "print(l2)\n",
    "# 전체 삭제 : clear\n",
    "l2.clear()\n",
    "print(l2)\n",
    "### 삭제한 값을 받아오기 : pop\n",
    "l2 = ['Life', 'is', 'too', 'short']\n",
    "result = l2.remove('is') \n",
    "print(result)# None\n",
    "print(l2) # ['Life', 'too', 'short']\n",
    "#              0       1        2\n",
    "result = l2.pop() # 마지막 요소를 지우고 지운값을 반환\n",
    "print(result)\n",
    "print(l2)\n",
    "l2 = ['Life', 'is', 'too', 'short']\n",
    "#        0      1      2      3\n",
    "result = l2.pop(1)\n",
    "print(result)\n",
    "result = l2.pop(0)\n",
    "print(result)"
   ]
  },
  {
   "cell_type": "code",
   "execution_count": 198,
   "id": "84fc0c57-717e-46b3-86be-c0d3cea4925f",
   "metadata": {},
   "outputs": [
    {
     "name": "stdout",
     "output_type": "stream",
     "text": [
      "1\n",
      "is\n",
      "['Life', 'too', 'short']\n",
      "9\n"
     ]
    }
   ],
   "source": [
    "import random # 난수값 : 0 ~ 3\n",
    "l2 = ['Life', 'is', 'too', 'short']\n",
    "idx = random.randint(0, len(l2) - 1) \n",
    "# idx = random.randint(0, 3) # 0, 1 , 2, 3 \n",
    "print(idx)\n",
    "result = l2.pop(idx)\n",
    "print(result)\n",
    "print(l2)\n",
    "idx = random.randint(1, 45)\n",
    "print(idx)"
   ]
  },
  {
   "cell_type": "code",
   "execution_count": 205,
   "id": "fb570720-2d5a-4bd4-8817-f0249e1e9a84",
   "metadata": {},
   "outputs": [
    {
     "name": "stdout",
     "output_type": "stream",
     "text": [
      "[1, 2, 3, 4, 5]\n",
      "[5, 4, 3, 2, 1]\n",
      "['a', 'b', 'c']\n",
      "['c', 'b', 'a']\n",
      "['가', '나', '다']\n",
      "['a', 'b', 'c', '가', '나', '다']\n",
      "\n"
     ]
    }
   ],
   "source": [
    "# 정렬 -- 오름차순, 내림차순\n",
    "l = [4,2,5,1,3]\n",
    "# 오름차순\n",
    "l.sort() #[1, 2, 3, 4, 5]\n",
    "print(l)\n",
    "#내림차순\n",
    "l = [4,2,5,1,3]\n",
    "l.sort(reverse=True)\n",
    "\n",
    "print(l)\n",
    "l = ['b','a','c']\n",
    "l.sort()\n",
    "print(l)\n",
    "l.sort(reverse=True)\n",
    "print(l)\n",
    "l = ['다','가','나']\n",
    "l.sort()\n",
    "print(l)\n",
    "l = ['b','a','c', '다','가','나']\n",
    "l.sort()\n",
    "print(l)\n",
    "'''\n",
    "l = ['b','a','c', '다','가','나',3,1,2] #문자열 , 숫자\n",
    "l.sort()\n",
    "print(l)\n",
    "'''\n",
    "print()"
   ]
  },
  {
   "cell_type": "code",
   "execution_count": 210,
   "id": "fd7b9c35-97d2-4d57-96ec-2265b05a5d5a",
   "metadata": {},
   "outputs": [
    {
     "name": "stdout",
     "output_type": "stream",
     "text": [
      "8\n",
      "8\n",
      "2\n"
     ]
    }
   ],
   "source": [
    "str1 = \"Life is too short\"\n",
    "idx = str1.find(\"too\") #'too'의 첫번째 글자인 t의 index를 찾는다.\n",
    "print(idx)\n",
    "idx = str1.index(\"too\") \n",
    "print(idx)\n",
    "l1 = ['Life', 'is', 'too', 'short']\n",
    "idx = l1.index('too') # 요소의 위치\n",
    "print(idx)\n",
    "# idx = l1.find('too') # find는 리스트에서 사용할 수 없다.\n",
    "# print(idx)\n",
    "\n",
    "## indexing, slicing\n",
    "## 리스트 추가함수 : append, insert, extend\n",
    "## 리트스 삭제함수 : del, remove, pop , clear\n",
    "## 리스트 정렬 : sort()\n",
    "## 리스트의 검색 : index"
   ]
  },
  {
   "cell_type": "code",
   "execution_count": 221,
   "id": "3bb2f002-374f-4881-b335-f6778d1c599f",
   "metadata": {},
   "outputs": [
    {
     "name": "stdout",
     "output_type": "stream",
     "text": [
      "[1, 2, 3, 4]\n",
      "(1, 2, 3, 4)\n",
      "()\n",
      "32\n",
      "2\n",
      "(2,)\n",
      "(1, 2)\n",
      "1 2 3 4 5 6\n",
      "(5,)\n"
     ]
    }
   ],
   "source": [
    "# 리터널 : 자연수 : 정수 리터널 : 10\n",
    "#                  실수 리터널 : 10.5\n",
    "#         자연어 리터널 : \" \",' ',\"\"\" \"\"\",''' '''\n",
    "# 리스트 : []\n",
    "# 튜플 : ()\n",
    "l = [1,2,3,4]\n",
    "print(l)\n",
    "t = (1,2,3,4)\n",
    "print(t)\n",
    "l = [] # 빈리스트\n",
    "t = () # 빈튜플\n",
    "print(t)\n",
    "print( (3 + 5) * 4) # ():최우선연산자\n",
    "print((2)) # ():최우선연산자\n",
    "print((2,)) # 튜플\n",
    "print((1,2)) # (1, 2) \n",
    "print(1,2,3,4,5,6) # 집합 : set\n",
    "print((3 + 2,)) # (5,)\n",
    "t = (3 + 2,)\n",
    "print(t)"
   ]
  },
  {
   "cell_type": "code",
   "execution_count": 239,
   "id": "fc8854eb-6d0d-4898-a5e0-845a1f99e0e7",
   "metadata": {},
   "outputs": [
    {
     "name": "stdout",
     "output_type": "stream",
     "text": [
      "(1, 2, 3, 4, 5, 6)\n",
      "too\n",
      "too\n",
      "['too', 'short']\n",
      "('too', 'short')\n",
      "['Your leg', 'is', 'too', 'short']\n",
      "('Life', 'is', 'too', 'short')\n",
      "2\n",
      "4\n",
      "Life\n",
      "0\n",
      "0\n"
     ]
    }
   ],
   "source": [
    "t = () # 빈 튜플\n",
    "t = (1,2,3,4,5)# 정수 튜플\n",
    "t = (10.5,2.5,3.8) # 실수 튜플\n",
    "t = ('a','b','c','이숭무') #문자열 튜플\n",
    "t = (10, \"이숭무\", 10.5) #혼합형 튜플\n",
    "t = (10, \"이숭무\", 10.5, [1,2,3]) # 리스트를 포함한 혼합형 튜플\n",
    "t = (10, \"이숭무\", 10.5, (1,2,3)) # 튜플을 포함한 혼합형 튜플\n",
    "t = ([1,2,3,4],[5,6,7]) # 리스트를 포함 튜플\n",
    "t = ([1,2,3,4],(5,6,7)) #튜플과 리스트를 포함한 튜플\n",
    "t = 1,2,3,4,5,6 # 소괄호 없이 초기화된 변수는 튜플이다.\n",
    "print(t)\n",
    "# 튜플은 리스트와 같다\n",
    "l1 = ['Life', 'is', 'too', 'short']\n",
    "#       0       1      2      3\n",
    "print(l1[2])\n",
    "t1 = ('Life', 'is', 'too', 'short')\n",
    "print(t1[2])\n",
    "print(l1[2:2+2])\n",
    "print(t1[2:2+2])\n",
    "l1[0] = 'Your leg'\n",
    "print(l1)\n",
    "print(t1)\n",
    "#t1[0] = \"Your leg\"\n",
    "#print(t1[0])\n",
    "# 리스트는 요소의 값을 변경할 수 있지만 튜플은 요소값을 변경할 수 없다\n",
    "# 추가, 삭제 도 안된다.  튜플은 파이썬의 상수\n",
    "result = t1.index('too')\n",
    "print(result)\n",
    "print(len(t1))\n",
    "print(t1[0])\n",
    "#del t1[0]\n",
    "# indexing, slicing , index(), len(), count()"
   ]
  },
  {
   "cell_type": "code",
   "execution_count": 244,
   "id": "a2ac6ed2-4f89-40ce-b0d0-af9b461fbfd6",
   "metadata": {},
   "outputs": [
    {
     "name": "stdout",
     "output_type": "stream",
     "text": [
      "0\n",
      "0\n",
      "1 2 3 4 5 6\n",
      "(1, 2, 3, 4, 5, 6)\n",
      "['Your leg', 'is', 'too', 'short']\n"
     ]
    }
   ],
   "source": [
    "print(l1.count(3))\n",
    "print(t1.count(3))\n",
    "print(1,2,3,4,5,6)\n",
    "t = 1,2,3,4,5,6\n",
    "print(t)\n",
    "t = 1,2,3,4,5"
   ]
  },
  {
   "cell_type": "code",
   "execution_count": 259,
   "id": "b6a1b466-df02-40ac-9430-1416b5eb01ae",
   "metadata": {},
   "outputs": [
    {
     "name": "stdout",
     "output_type": "stream",
     "text": [
      "2\n",
      "3\n",
      "3\n"
     ]
    }
   ],
   "source": [
    "str2 = \"hello\"\n",
    "l2 = [1,2,3,3,4,5,3]\n",
    "t2 = (1,2,3,3,4,5,3)\n",
    "print(str2.count(\"l\"))\n",
    "print(l2.count(3))\n",
    "print(t2.count(3))"
   ]
  },
  {
   "cell_type": "code",
   "execution_count": 272,
   "id": "bfa7d787-7d79-401f-918c-f97d42b8d151",
   "metadata": {},
   "outputs": [
    {
     "name": "stdout",
     "output_type": "stream",
     "text": [
      "('Life', 'is', 'too', 'short')\n",
      "Life\n",
      "Lifeis\n",
      "Life\n",
      "Lifeis\n",
      "['Life']\n",
      "('Life',)\n",
      "['Life', 'too']\n",
      "('Life', 'too')\n",
      "('Life', 'is', 'Life', 'is')\n"
     ]
    }
   ],
   "source": [
    "l1 = ['Life', 'is', 'too', 'short']\n",
    "t1 = ('Life', 'is', 'too', 'short')\n",
    "t1 = 'Life', 'is', 'too', 'short'\n",
    "print(t1)\n",
    "print(l1[0]) # 문자열\n",
    "print(l1[0] + l1[1]) # 문자열 + 문자열\n",
    "print(t1[0]) # 문자열\n",
    "print(t1[0] + t1[1]) # 문자열 + 문자열\n",
    "print(l1[0:1]) # ['Life']\n",
    "print(t1[0:1]) # ('Life',)\n",
    "#print(l1[0:1] + l[2]) # 리스트 + 문자열\n",
    "print(l1[0:1] + l1[2:2+1]) #리스트 + 리스트\n",
    "# print(t1[0:1] + t1[2]) # 튜플 + 문자열\n",
    "print(t1[0:1] + t1[2:2+1])\n",
    "print(t1[0:2] * 2)"
   ]
  },
  {
   "cell_type": "code",
   "execution_count": 281,
   "id": "9cea029e-023e-46a2-9cc4-022cf723b461",
   "metadata": {},
   "outputs": [
    {
     "name": "stdout",
     "output_type": "stream",
     "text": [
      "['h', 'e', 'l', 'l', 'o']\n",
      "('h', 'e', 'l', 'l', 'o')\n",
      "['h', 'e', 'l', 'l', 'o']\n",
      "['h', 'e', 'l', 'l', 'o']\n",
      "['h', 'e', 'l', 'l', 'o']이숭무\n",
      "hello\n",
      "Lifeistooshort\n",
      "Life is too short\n",
      "Life:is:too:short\n",
      "h:e:l:l:o\n",
      "Life is too short\n",
      "이숭무 10\n",
      "30\n",
      "10\n"
     ]
    }
   ],
   "source": [
    "# 형변환 : int, str, list, tuple\n",
    "str3 = \"hello\"\n",
    "l3 = list(str3)\n",
    "print(l3)\n",
    "t3 = tuple(str3)\n",
    "print(t3) \n",
    "l3 = list(t3)\n",
    "print(l3)\n",
    "t3 = tuple(l3)\n",
    "print(l3)\n",
    "str4 = str(l3)\n",
    "print(str4 + \"이숭무\") # \"['h', 'e', 'l', 'l', 'o']\"\n",
    "str4 = \"\".join(l3)\n",
    "print(str4)\n",
    "str4 = \"\".join(t3)\n",
    "l1 = ['Life', 'is', 'too', 'short']\n",
    "str4 = \"\".join(l1)\n",
    "print(str4)\n",
    "str4 = \" \".join(l1)\n",
    "print(str4)\n",
    "str4 = \":\".join(l1)\n",
    "print(str4)\n",
    "# str()문자열 변환함수는  리스트나 튜플에서는 자체가 모두 문자열로 변환이된다.\n",
    "# 리스트나 튜플안에 있는 요소를 문장으로 출력하기 위해 \"\".join()을 사용한다.\n",
    "str3 = \"hello\"\n",
    "str4 = \":\".join(str3)\n",
    "print(str4)\n",
    "l1 = ['Life', 'is', 'too', 'short']\n",
    "print(\" \".join(l1))\n",
    "\n",
    "print(\"이숭무 \" + str(10));\n",
    "print(10 + int(\"20\"));\n",
    "i = 10 ; print(i)"
   ]
  },
  {
   "cell_type": "code",
   "execution_count": 284,
   "id": "95c3597e-40d4-4003-b3cb-77e2a2379a56",
   "metadata": {},
   "outputs": [
    {
     "name": "stdout",
     "output_type": "stream",
     "text": [
      "3\n",
      "이상범\n",
      "이숭무\n"
     ]
    }
   ],
   "source": [
    "'''\n",
    " 리터널(상수) : 자연수 : 정수 리터널, 실수 리터널\n",
    "               자연어 : 문자열 리터널 : \" \", ' ', ''' ''', \"\"\" \"\"\"\n",
    " 리스트 : []\n",
    " 튜플   : (,)\n",
    " 딕셔너리(사전) : {\"단어\": \"내용\",...} \n",
    "                 {\"키\" : \"값\",...} \n",
    "               : json , map\n",
    "'''\n",
    "l = [] # 빈리스트\n",
    "t = () # 빈튜플\n",
    "dic = {} # 빈 딕셔너리\n",
    "dic = {1 : \"이숭무\", 2:\"이상범\", 3:\"이장범\" }\n",
    "# 딕셔너리에서는 index를 사용하지 않는다.\n",
    "l4 = [1, 2, 3, 4]\n",
    "#     0  1  2  3\n",
    "print(l4[2])\n",
    "print(dic[2]) # 키를 사용해서 출력\n",
    "dic = {\"name\" : \"이숭무\" , \"age\" : 30, \"height\" : 175.5}\n",
    "print(dic[\"name\"])\n",
    "# 딕셔너리에서는 값을 가져올 때는 키를 사용한다."
   ]
  },
  {
   "cell_type": "code",
   "execution_count": 287,
   "id": "02489653-327e-43b2-a01b-72e4a321e793",
   "metadata": {},
   "outputs": [
    {
     "name": "stdout",
     "output_type": "stream",
     "text": [
      "이숭무의 나이는 30살이고 키는 175.5입니다\n",
      "이숭무의 나이는 30살이고 키는 173.5입니다\n",
      "이숭무의 나이는 30살이고 키는 175.3입니다\n",
      "이숭무\n",
      "이숭무의 나이는 30살이고 키는 170.5입니다\n"
     ]
    }
   ],
   "source": [
    "print(\"이숭무의 나이는 30살이고 키는 175.5입니다\")\n",
    "name = \"이숭무\"\n",
    "age = 30\n",
    "height = 173.5\n",
    "#f문자 포매팅 사용해서 출력하세요.\n",
    "print(f\"{name}의 나이는 {age}살이고 키는 {height}입니다\")\n",
    "l4 = [\"이숭무\", 30, 175.3]\n",
    "print(f\"{l4[0]}의 나이는 {l4[1]}살이고 키는 {l4[2]}입니다\")\n",
    "d = {'name' : '이숭무', 'age' : 30, 'height': 170.5}\n",
    "print(d['name'])\n",
    "print(f\"{d['name']}의 나이는 {d['age']}살이고 키는 {d['height']}입니다\")"
   ]
  },
  {
   "cell_type": "code",
   "execution_count": 296,
   "id": "977b31e1-36bb-421d-9e5c-b15f60575a3d",
   "metadata": {},
   "outputs": [
    {
     "name": "stdout",
     "output_type": "stream",
     "text": [
      "[1, 2, 3, 4]\n",
      "[1, 10, 3, 4]\n",
      "30\n",
      "{'name': '이숭무', 2: 50, 'height': 175.5}\n",
      "{'name': '이숭무', 2: 50, 'height': 175.5, 'addr': '성남'}\n",
      "무\n",
      "숭\n"
     ]
    }
   ],
   "source": [
    "l = [1,2,3,4]\n",
    "#    0 1 2 3\n",
    "print(l)\n",
    "l[1] = 10;\n",
    "print(l)\n",
    "dic = {'name': '이숭무', 2 : 30, 'height': 175.5}\n",
    "print(dic[2])\n",
    "dic[2] = 50\n",
    "print(dic)\n",
    "#l[4] = 20; # IndexError: list assignment index out of range\n",
    "dic[\"addr\"] = \"성남\"\n",
    "print(dic)\n",
    "# 딕셔너리는 키가 있으면 수정이 되고 키가 없으면 추가가 된다.\n",
    "# 딕셔너리는 키로 구별하므로 키의 중복을 허용하지 않는다.\n",
    "dic = {1: \"이\", 1:\"숭\", 1:\"무\", 2:\"박\"}\n",
    "print(dic[1])  # 키가 중복된 경우 마지막 값을 갖는다.\n",
    "dic = {1:\"이\"} \n",
    "dic[1] = \"숭\"\n",
    "print(dic[1])"
   ]
  },
  {
   "cell_type": "code",
   "execution_count": 309,
   "id": "c8d83302-28e0-41a5-a401-80ffaeb5d5d8",
   "metadata": {},
   "outputs": [
    {
     "name": "stdout",
     "output_type": "stream",
     "text": [
      "숭\n",
      "이숭무\n",
      "이숭무\n",
      "None\n",
      "서울\n",
      "이숭무\n",
      "30\n",
      "1000\n",
      "900\n",
      "1000\n",
      "1400\n"
     ]
    }
   ],
   "source": [
    "#딕셔너리 함수\n",
    "dic1 = {'name': '이숭무', 'age': 30, 'height': 170.5}\n",
    "print(dic1['name'][1]) # 문자열\n",
    "print(dic1['name']) #키를 이용해서 값을 출력\n",
    "print(dic1.get('name')) # get()를 이용해서 값을 출력\n",
    "# print(dic1['addr']) # KeyError: 'addr' \n",
    "print(dic1.get('addr')) # None # 오류 발생을 막기 위해서\n",
    "print(dic1.get('addr', '서울'))\n",
    "#키가 있으면 value , 키가 없으면 기본값('홍길동')이 출력 \n",
    "print(dic1.get('name','홍길동'))\n",
    "#키가 있으면 value , 키가 없으면 기본값(0)이 출력\n",
    "print(dic1.get('age' , 0))\n",
    "\n",
    "dic1 = {'classic':500, 'pop' : 700 , 'jazz' : 900}\n",
    "dic2 = {'classic':500, 'pop' : 700 }\n",
    "#print(dic1['jazz'] + dic2['jazz'] )\n",
    "print(dic1['classic'] + dic2['classic'] )\n",
    "\n",
    "print(dic1.get('jazz', 0) + dic2.get('jazz',0)) # 900+0\n",
    "print(dic1.get('classic', 0) + dic2.get('classic',0))\n",
    "print(dic1.get('pop', 0) + dic2.get('pop',0))"
   ]
  },
  {
   "cell_type": "code",
   "execution_count": 315,
   "id": "7850b3c1-751b-40be-97a9-2618d48ae5bd",
   "metadata": {},
   "outputs": [
    {
     "name": "stdout",
     "output_type": "stream",
     "text": [
      "[1, 3, 4]\n",
      "{'name': '이숭무', 'height': 170.5}\n",
      "[]\n",
      "{}\n",
      "이숭무\n",
      "{'age': 30, 'height': 170.5}\n"
     ]
    }
   ],
   "source": [
    "# 요소 삭제\n",
    "d = {'name' : '이숭무', 'age' : 30, 'height': 170.5}\n",
    "l = [1,2,3,4] # del , remove, pop\n",
    "# 리스트에서 index를 이용해서 2를 삭제하시오\n",
    "del l[1]\n",
    "print(l)\n",
    "del d['age']\n",
    "print(d)\n",
    "del l[:]\n",
    "print(l)\n",
    "l.clear()\n",
    "d.clear()\n",
    "print(d)\n",
    "d = {'name' : '이숭무', 'age' : 30, 'height': 170.5}\n",
    "result = d.pop('name')\n",
    "print(result)\n",
    "print(d)\n",
    "#딕셔너리 삭제 : clear, pop(키) , del"
   ]
  },
  {
   "cell_type": "code",
   "execution_count": 319,
   "id": "6e608ee3-49e5-460f-973a-79ad234d16de",
   "metadata": {},
   "outputs": [
    {
     "name": "stdout",
     "output_type": "stream",
     "text": [
      "dict_keys(['name', 'age', 'height'])\n",
      "dict_values(['이숭무', 30, 170.5])\n",
      "dict_items([('name', '이숭무'), ('age', 30), ('height', 170.5)])\n"
     ]
    }
   ],
   "source": [
    "# 딕셔너리에 있는 키를 가져오기\n",
    "d = {'name' : '이숭무', 'age' : 30, 'height': 170.5}\n",
    "print(d.keys())\n",
    "# 딕셔너리에 있는 값를 가져오기\n",
    "print(d.values())\n",
    "# 키와 값을 튜플로 가져오기\n",
    "print(d.items())"
   ]
  },
  {
   "cell_type": "code",
   "execution_count": 324,
   "id": "614e9cd6-52f7-404b-8f0b-389069072534",
   "metadata": {},
   "outputs": [
    {
     "name": "stdout",
     "output_type": "stream",
     "text": [
      "{1, 2, 3, 4, 5}\n",
      "{1, 2, 3, 4, 5}\n",
      "{1, 2, 3, 4, 5}\n",
      "{1, 2, 3, 4, 5}\n",
      "{'e', 'l', 'h', 'o'}\n"
     ]
    }
   ],
   "source": [
    "# 정수 , 실수 , 문자열 리터널\n",
    "# 리스트\n",
    "# 튜플\n",
    "# 딕셔너리 : {} 빈딕셔너리, {\"키\":\"값\",...}\n",
    "# 집합 : {1,2,3,4,5} # {1} # 집합은 적어도 값을 하나 이상 가져야 한다.\n",
    "s = {1,2,3,4,5}\n",
    "print(s)\n",
    "s = set([1,2,3,4,5])\n",
    "print(s)\n",
    "s = set((1,2,3,4,5))\n",
    "print(s)\n",
    "s = {1,2,2,3,4,5,5} # 집합은 중복값을 허용하지 않는다.\n",
    "print(s)\n",
    "str1 = \"hello\"\n",
    "s = set(str1) # 집합은 순서를 갖지 않는다.\n",
    "print(s) # {'e', 'l', 'h', 'o'}"
   ]
  },
  {
   "cell_type": "code",
   "execution_count": 328,
   "id": "45e53926-160a-4623-a522-a3c7a45f5d98",
   "metadata": {},
   "outputs": [
    {
     "name": "stdout",
     "output_type": "stream",
     "text": [
      "{1, 2, 3, 4, 5, 6}\n",
      "{1, 2, 3, 4, 5, 6}\n",
      "{3, 4}\n",
      "{3, 4}\n",
      "{1, 2}\n",
      "{1, 2}\n",
      "{5, 6}\n",
      "{5, 6}\n"
     ]
    }
   ],
   "source": [
    "# 합집합 , 교집합 , 차집합\n",
    "s1 = {1,2,3,4}\n",
    "s2 = {3,4,5,6}\n",
    "#합집합\n",
    "print(s1.union(s2))\n",
    "print(s1 | s2)\n",
    "#교집합\n",
    "print(s1.intersection(s2))\n",
    "print(s1 & s2)\n",
    "#차집합\n",
    "print(s1.difference(s2))\n",
    "print(s1 - s2)\n",
    "print(s2.difference(s1))\n",
    "print(s2 - s1)\n",
    "# 여집합\n",
    "s = {1,2,3,4}\n",
    "a = {1,2,3,5,6}\n",
    "result = s^a \n",
    "print(result)"
   ]
  },
  {
   "cell_type": "code",
   "execution_count": 343,
   "id": "058a4d71-9a3a-451c-b75f-1bd75734e079",
   "metadata": {},
   "outputs": [
    {
     "name": "stdout",
     "output_type": "stream",
     "text": [
      "[1, 2, 3, 4, 5, 6]\n",
      "{1, 2, 3, 4, 5}\n",
      "{1, 2, 3, 4, 5, 'a'}\n",
      "{1, 2, 3, 4, 5, (6, 7, 8, 9), 'a'}\n",
      "{1, 2, 3, 4, 5, (6, 7, 8, 9), 6, 7, 8, 9, 'a'}\n",
      "{1, 2, 3, 4, 5, (6, 7, 8, 9), 6, 7, 8, 9, 10, 11, 12, 'a'}\n",
      "{1, 2, 3, 4, 5, (6, 7, 8, 9), 6, 7, 8, 9, 11, 12, 'a'}\n",
      "1\n",
      "set()\n"
     ]
    }
   ],
   "source": [
    "l = [1,2,3,4,5]\n",
    "# 리스트요소 추가하기 \n",
    "l.append(6)\n",
    "print(l)\n",
    "s1 = {1, 2, 3, 4}\n",
    "s1.add(5)\n",
    "print(s1)\n",
    "s1.add('a')\n",
    "print(s1)\n",
    "s1.add((6,7,8,9))\n",
    "print(s1) # {1, 2, 3, 4, 5, (6, 7, 8, 9), 'a'}\n",
    "# 한번에 여러개의 요소 추가 : 리스트 , 튜플을 인자로 사용\n",
    "s1.update((6,7,8,9))\n",
    "print(s1)\n",
    "s1.update([10,11,12])\n",
    "print(s1)\n",
    "# 하나 삭제\n",
    "s1.remove(10)\n",
    "print(s1) # {1, 2, 3, 4, 5, (6, 7, 8, 9), 6, 7, 8, 9,'a'}\n",
    "result = s1.pop()\n",
    "print(result)\n",
    "s1.clear()\n",
    "print(s1) # set()"
   ]
  },
  {
   "cell_type": "code",
   "execution_count": 346,
   "id": "155f19d3-cf58-45e9-bc6b-4ad040ce96d6",
   "metadata": {},
   "outputs": [
    {
     "name": "stdout",
     "output_type": "stream",
     "text": [
      "False\n",
      "10\n"
     ]
    }
   ],
   "source": [
    "# 리스트, 튜플, 딕셔너리, 집합\n",
    "# 부울 자료형 :True / False\n",
    "i = 10 ; #1,.....\n",
    "b = True # 부울타입은 첫글자가 대문자\n",
    "b = False\n",
    "print(b)\n",
    "true = 10 # 정수형변수\n",
    "b = true\n",
    "print(b)\n",
    "b = \"true\" # 문자열"
   ]
  },
  {
   "cell_type": "code",
   "execution_count": 356,
   "id": "d52a4501-d555-49b3-b291-1975cef171d8",
   "metadata": {},
   "outputs": [
    {
     "name": "stdout",
     "output_type": "stream",
     "text": [
      "True\n",
      "True\n",
      "True\n",
      "True\n",
      "False\n",
      "False\n",
      "False\n",
      "12\n",
      "이숭\n",
      "False\n"
     ]
    }
   ],
   "source": [
    "# 부울 타입을 사용하는 때\n",
    "# 논리연산\n",
    "print( True and True )\n",
    "print( True or False)\n",
    "b1 = True\n",
    "b2 = True\n",
    "b3 = False\n",
    "print( b1 and b2 )\n",
    "print( b1 or b3)\n",
    "# 부울타입의 결과를 가져오는 연산자는 비교(관계)연산자\n",
    "# < , >, <= ,>=, != , ==\n",
    "a = 10\n",
    "b = 20\n",
    "c = 30\n",
    "d = 15\n",
    "print(a > b) # 부울타입\n",
    "print(c <= d)\n",
    "print( a > b and c <= d)\n",
    "#논리연산을 하는 경우에는 비교연산자와 같이 사용\n",
    "print(10 + 1 * 2)\n",
    "print(\"이\" + \"숭\")\n",
    "# 합격하기 위해서는 모든과목이 40점이상이고 평균이 60이상이어야 한다.\n",
    "mat = 40\n",
    "eng = 80\n",
    "# 논리연산은 True나 False를 이용한 연산 : and , or\n",
    "# 부울타입인 결과를 얻기 위해서 사용되는 연산은 비교얀산이다.\n",
    "result = mat >= 40 and eng >= 40 and (mat + eng) / 2 >= 60\n",
    "# 4년마다 한번씩 윤년이지만 100년마다는 윤년이 아니라고 한다. 그렇지만 400년마다는\n",
    "# 윤년이다. 그렇다면 2400년은 윤년인가? 평년인가?\n",
    "# 3월 8일 점심 타이틀 : 오직 두분\n",
    "year = 2200\n",
    "result = year % 4 == 0 and year % 100 != 0 or year % 400 == 0\n",
    "print(result)\n",
    "if result:\n",
    "    print(\"윤년\")\n",
    "else:\n",
    "    print(\"평년\")\n",
    "\n",
    "if year % 4 == 0 and year % 100 != 0 or year % 400 == 0:\n",
    "    print(\"윤년\")\n",
    "else:\n",
    "    print(\"평년\")"
   ]
  },
  {
   "cell_type": "code",
   "execution_count": 362,
   "id": "973a9bbe-7f8c-48f4-a57b-e5f7a70fb6eb",
   "metadata": {},
   "outputs": [
    {
     "name": "stdout",
     "output_type": "stream",
     "text": [
      "True\n",
      "False\n",
      "True\n",
      "True\n",
      "False\n",
      "True\n",
      "False\n",
      "True\n",
      "False\n",
      "True\n",
      "False\n",
      "False\n"
     ]
    }
   ],
   "source": [
    "# int(), str(), float(), list(), tuple(), set() , \n",
    "# bool() :  모든 데이터를 부울타입으로 형변환\n",
    "print(bool(\"이숭무\")) # 모든 문자열은 True\n",
    "print(bool(\"\")) # blank : False\n",
    "print(bool(100))  # True\n",
    "print(bool(-100)) # True # 0이아닌 모든 숫자는 True이다.\n",
    "print(bool(0)) #False \n",
    "print(bool([1,2,3])) # True\n",
    "print(bool([])) # False\n",
    "print(bool((1,2,3))) # True\n",
    "print(bool(())) # False\n",
    "print(bool({1:\"이\"})) #True\n",
    "print(bool({})) #False\n",
    "print(bool(None)) #False\n",
    "if \"이숭무\":\n",
    "    print(\"참\")"
   ]
  },
  {
   "cell_type": "code",
   "execution_count": 365,
   "id": "3b3c0b6c-9045-40ef-ba3a-6629a3a89b69",
   "metadata": {},
   "outputs": [
    {
     "name": "stdout",
     "output_type": "stream",
     "text": [
      "<class 'int'>\n",
      "<class 'float'>\n",
      "<class 'str'>\n",
      "<class 'list'>\n",
      "<class 'tuple'>\n",
      "<class 'dict'>\n",
      "<class 'set'>\n"
     ]
    }
   ],
   "source": [
    "# 변수가 가지고 있는 자료형을 확인\n",
    "i = 10\n",
    "f = 109.5\n",
    "str1 = \"apple\"\n",
    "l = [1,2,3,4]\n",
    "t = (1,2,3,4)\n",
    "s = {1,2,3,4}\n",
    "d = {1:\"이\"}\n",
    "print(type(i)) #<class 'int'>\n",
    "print(type(f)) # <class 'float'>\n",
    "print(type(str1)) # <class 'str'>\n",
    "print(type(l)) # <class 'list'>\n",
    "print(type(t))# <class 'tuple'>\n",
    "print(type(d))# <class 'dict'>\n",
    "print(type(s))# <class 'set'>"
   ]
  },
  {
   "cell_type": "code",
   "execution_count": 371,
   "id": "c9011bbb-07c5-4672-a5cf-d27a4d5cb3d3",
   "metadata": {},
   "outputs": [
    {
     "name": "stdout",
     "output_type": "stream",
     "text": [
      "10 20 30\n",
      "10 20 30\n",
      "10 20 30\n",
      "10 20 30\n",
      "10 20 30\n",
      "10 20 30\n",
      "10 20 30\n",
      "10 20 30\n",
      "10 2.0 이숭무\n"
     ]
    }
   ],
   "source": [
    "#변수를 만드는 여러 가지 방법\n",
    "i = 10\n",
    "j = 20\n",
    "i, j, k = 10,20,30\n",
    "print(i, j, k)\n",
    "i, j, k = (10,20,30)\n",
    "print(i, j, k)\n",
    "(i, j, k) = (10,20,30)\n",
    "print(i, j, k)\n",
    "(i, j, k) =  10,20,30 \n",
    "print(i, j, k)\n",
    "i, j, k = [10,20,30]\n",
    "print(i, j, k)\n",
    "[i, j, k] = [10,20,30]\n",
    "print(i, j, k)\n",
    "[i, j, k] = (10,20,30)\n",
    "print(i, j, k)\n",
    "(i, j, k) = [10,20,30]\n",
    "print(i, j, k)\n",
    "a ,b ,c = 10, 2.0, '이숭무'\n",
    "print(a,b,c)"
   ]
  },
  {
   "cell_type": "code",
   "execution_count": 374,
   "id": "5be23cd4-7fc1-4678-a517-9a8cec53b0f7",
   "metadata": {},
   "outputs": [
    {
     "name": "stdout",
     "output_type": "stream",
     "text": [
      "20 10\n",
      "10 20\n"
     ]
    }
   ],
   "source": [
    "# 값 서로 교환하기\n",
    "a = 10\n",
    "b = 20\n",
    "\n",
    "temp = a;\n",
    "a = b\n",
    "b = temp\n",
    "print(a, b) # 20 ,10\n",
    "\n",
    "a , b = b , a\n",
    "print(a, b) # 10, 20"
   ]
  },
  {
   "cell_type": "code",
   "execution_count": 381,
   "id": "893ba37d-da1a-41fd-bd7e-2a663a31c9c5",
   "metadata": {},
   "outputs": [
    {
     "name": "stdout",
     "output_type": "stream",
     "text": [
      "[10, 20, 30]\n",
      "[10, 20, 30]\n",
      "[10, 200, 30]\n",
      "[10, 200, 30]\n",
      "[10, 200, 30]\n",
      "[10, 20, 30]\n",
      "[10, 200, 30]\n",
      "[10, 200, 30]\n"
     ]
    }
   ],
   "source": [
    "l1 = [10, 20, 30]\n",
    "l2 = l1\n",
    "print(l1)\n",
    "print(l2)\n",
    "l2[1] = 200\n",
    "print(l2)\n",
    "print(l1)\n",
    "l2 = l1[:]\n",
    "print(l2)\n",
    "l2[1] = 20\n",
    "print(l2)\n",
    "print(l1)"
   ]
  }
 ],
 "metadata": {
  "kernelspec": {
   "display_name": "Python 3 (ipykernel)",
   "language": "python",
   "name": "python3"
  },
  "language_info": {
   "codemirror_mode": {
    "name": "ipython",
    "version": 3
   },
   "file_extension": ".py",
   "mimetype": "text/x-python",
   "name": "python",
   "nbconvert_exporter": "python",
   "pygments_lexer": "ipython3",
   "version": "3.13.2"
  }
 },
 "nbformat": 4,
 "nbformat_minor": 5
}
